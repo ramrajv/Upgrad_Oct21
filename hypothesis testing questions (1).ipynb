{
 "cells": [
  {
   "cell_type": "markdown",
   "id": "4753a216",
   "metadata": {},
   "source": [
    "## Question 1  \n",
    "Valid email ID\n",
    "Description\n",
    "Consider that email IDs are supposed to be for the following format:\n",
    "username@website.extension.\n",
    "Here, there are three conditions to keep in mind:\n",
    "1. The username can only contain characters 0-9, a-z and A-Z.\n",
    "2. The website name can contain only characters a-z\n",
    "3. The extension can have 2 or 3 alphabets(a-z).\n",
    "\n",
    "Given an email ID, you have to determine if it is valid or not.\n",
    "\n",
    "Sample Input:\n",
    "prerna@upgrad.com\n",
    "\n",
    "Sample Output:\n",
    "valid\n",
    "Execution Time Limit\n",
    "10 seconds"
   ]
  },
  {
   "cell_type": "code",
   "execution_count": 11,
   "id": "7257b7ca",
   "metadata": {},
   "outputs": [
    {
     "name": "stdout",
     "output_type": "stream",
     "text": [
      "prerna@upgrad.com\n",
      "Valid\n"
     ]
    }
   ],
   "source": [
    "def vefication(email):\n",
    "    try:\n",
    "        username, other = email.split(\"@\")\n",
    "        websitename, Extension = other.split(\".\")\n",
    "    except:\n",
    "        return \"Invalid\"\n",
    "    if username.isalnum() == False:\n",
    "        return \"Invalid\"\n",
    "    elif websitename.isalpha() == False:\n",
    "        return \"Invalid\"\n",
    "    elif len(Extension)>3:\n",
    "        return \"Invalid\"\n",
    "    else:\n",
    "        return \"Valid\"\n",
    "\n",
    "    \n",
    "    \n",
    "Email = input() \n",
    "print(vefication(Email))"
   ]
  },
  {
   "cell_type": "code",
   "execution_count": 3,
   "id": "b63636b5",
   "metadata": {},
   "outputs": [
    {
     "ename": "SyntaxError",
     "evalue": "invalid syntax (<ipython-input-3-33b4e64b1697>, line 18)",
     "output_type": "error",
     "traceback": [
      "\u001b[1;36m  File \u001b[1;32m\"<ipython-input-3-33b4e64b1697>\"\u001b[1;36m, line \u001b[1;32m18\u001b[0m\n\u001b[1;33m    else:\u001b[0m\n\u001b[1;37m    ^\u001b[0m\n\u001b[1;31mSyntaxError\u001b[0m\u001b[1;31m:\u001b[0m invalid syntax\n"
     ]
    }
   ],
   "source": [
    "def checkmail(email):\n",
    "    a=mail.split(\"@\")\n",
    "    b=a[1].split(\".\")\n",
    "    x=[]\n",
    "    flag = 0\n",
    "    for i in range(len(x[0])):\n",
    "        x.append(x[0][i])\n",
    "    if mail.count(\".\")>1 or mail.count(\"@\")>1:\n",
    "        flag = 1 \n",
    "    else:\n",
    "        if len(b[1])==2 or len(b[1])==3 and b[1].islower():\n",
    "            if b[0].islower() and b[0].isalpha():\n",
    "                for i in range(len(x)):\n",
    "                    if x[i].islower() or x[i].isupper() or x[i].isdigit():\n",
    "                        pass\n",
    "                    else:\n",
    "                        flag = 1\n",
    "                        else:\n",
    "                flag = 1 \n",
    "        else:\n",
    "            flag = 1 \n",
    "    if flag = 0:\n",
    "        return('valid')\n",
    "    else:\n",
    "        return('invalid')\n",
    "    \n",
    "email=input()\n",
    "print(checkmail(email))"
   ]
  },
  {
   "cell_type": "markdown",
   "id": "376b0556",
   "metadata": {},
   "source": [
    "## Question 2\n",
    "Flatten a list\n",
    "Description\n",
    "Given a nested list, write python code to flatten the list.\n",
    "Note: The input list will strictly have 2 levels, i.e. the list will be of the form [[1,2],[3,4]]. Inputs like [1,[2,3]] and [[1,[2,3],4],5] are not applicable.\n",
    "\n",
    "For example: If the input list is :\n",
    "[[1,2,3],[4,5],[6,7,8,9]]\n",
    "Then the output should be:\n",
    "[1,2,3,4,5,6,7,8,9]\n",
    "\n",
    "Execution Time Limit\n",
    "10 seconds"
   ]
  },
  {
   "cell_type": "code",
   "execution_count": 2,
   "id": "2ee0d83c",
   "metadata": {},
   "outputs": [
    {
     "name": "stdout",
     "output_type": "stream",
     "text": [
      "[1, 2, 3, 4, 5, 6, 7, 8, 9]\n"
     ]
    }
   ],
   "source": [
    "list = [[1,2,3],[4,5],[6,7,8,9]]\n",
    "flat_list = []\n",
    "for i in list:\n",
    "    for j in i :\n",
    "        flat_list.append(j)\n",
    "print(flat_list)"
   ]
  },
  {
   "cell_type": "markdown",
   "id": "b4e166b4",
   "metadata": {},
   "source": [
    "## Question 3\n",
    "Description\n",
    "Given a list of positive integers, you have to find numbers divisible by 3 and replace them with their squares. \n",
    "For example, consider the list below:\n",
    "Input: [1,2,3,4,5,6]\n",
    "The output for the above list would be: [1,2,9,4,5,36]. Because 3 and 6 were divisible by 3, these numbers were replaced with their squares.\n",
    "Execution Time Limit"
   ]
  },
  {
   "cell_type": "code",
   "execution_count": 5,
   "id": "0b2e566d",
   "metadata": {},
   "outputs": [
    {
     "name": "stdout",
     "output_type": "stream",
     "text": [
      "[1, 2, 9, 4, 5, 36]\n"
     ]
    }
   ],
   "source": [
    "list_sq = [1,2,3,4,5,6]\n",
    "ans_list = []\n",
    "for i in list_sq:\n",
    "    if i%3 == 0:\n",
    "        ans_list.append(i*i)\n",
    "    else:\n",
    "        ans_list.append(i)\n",
    "print(ans_list) "
   ]
  },
  {
   "cell_type": "markdown",
   "id": "c373bb53",
   "metadata": {},
   "source": [
    "## Question 4\n",
    "Description\n",
    "Write a program that computes the value of n+nn+nnn+nnnn with a given digit as the value of n.\n",
    "For example, if n=9 , then you have to find the value of 9+99+999+9999."
   ]
  },
  {
   "cell_type": "code",
   "execution_count": 6,
   "id": "6638c23a",
   "metadata": {},
   "outputs": [
    {
     "name": "stdout",
     "output_type": "stream",
     "text": [
      "9\n",
      "99\n",
      "999\n",
      "9999\n",
      "11106\n"
     ]
    }
   ],
   "source": [
    "n = int(input())\n",
    "temp = str(n)\n",
    "two_element = temp+temp\n",
    "print(two_element)\n",
    "three_element = temp+temp+temp\n",
    "print(three_element)\n",
    "four_element = temp+temp+temp+temp\n",
    "print(four_element)\n",
    "weird_sum = n+int(two_element)+int(three_element)+int(four_element)\n",
    "print(weird_sum)"
   ]
  },
  {
   "cell_type": "markdown",
   "id": "339a5615",
   "metadata": {},
   "source": [
    "### Website Answer Authentic"
   ]
  },
  {
   "cell_type": "code",
   "execution_count": 7,
   "id": "841f021c",
   "metadata": {},
   "outputs": [
    {
     "name": "stdout",
     "output_type": "stream",
     "text": [
      "9\n",
      "11106\n"
     ]
    }
   ],
   "source": [
    "n=input()\n",
    "n1 = int( \"%s\" % n)\n",
    "n2 = int( \"%s%s\" % (n,n) )\n",
    "n3 = int( \"%s%s%s\" % (n,n,n) )\n",
    "n4 = int( \"%s%s%s%s\" % (n,n,n,n) )\n",
    "\n",
    "print (n1+n2+n3+n4)"
   ]
  },
  {
   "cell_type": "markdown",
   "id": "e93b5432",
   "metadata": {},
   "source": [
    "## Question 5\n",
    "Frequent Letters\n",
    "Description\n",
    "Given a string, you have to find the first n most frequent characters in it.\n",
    "\n",
    "You have to print these n letters in alphabetically sorted order.\n",
    "\n",
    "The input will contain two lines, the first line will contain a string and the second line will contain the letter n.\n",
    "\n",
    "The output should be a list of n most frequent letters in alphabetically sorted order.\n",
    "\n",
    "Note: If there are two letters with the same frequency, then the alphabetically preceding alphabet should be picked first. (For example, in \"aabbccc\", if n=2, then output list would have c and a.)\n",
    "\n",
    "Sample Input:\n",
    "\n",
    "ddddaacccb\n",
    "\n",
    "3\n",
    "\n",
    "Sample Output: ['a', 'c', 'd']"
   ]
  },
  {
   "cell_type": "code",
   "execution_count": 8,
   "id": "19dd3677",
   "metadata": {},
   "outputs": [
    {
     "name": "stdout",
     "output_type": "stream",
     "text": [
      "ddddaacccb\n",
      "3\n",
      "['a', 'c', 'd']\n"
     ]
    }
   ],
   "source": [
    "string=input()\n",
    "n=int(input())\n",
    "\n",
    "import collections\n",
    "out=[collections.Counter(string).most_common(i+1)[i][0] for i in range(n)]\n",
    "out.sort()\n",
    "print(out)"
   ]
  },
  {
   "cell_type": "markdown",
   "id": "dcc0f109",
   "metadata": {},
   "source": [
    "## Question 6\n",
    "Description\n",
    "Write Python code which takes 2 numbers x and y as input and generates a 2-dimensional numpy array where value in the i-th row and j-th column of the array should be (i+j)/2.\n",
    "Note: i=0,1,...x-1 and j=0,1....,y-1\n",
    "The input will have two lines with x and y respectively.\n",
    "The output should be a 2D numpy array.\n",
    "Sample Input:\n",
    "3\n",
    "4\n",
    "Sample Output: [[0.  0.5 1.  1.5]\n",
    " [0.5 1.  1.5 2. ]\n",
    " [1.  1.5 2.  2.5]]"
   ]
  },
  {
   "cell_type": "code",
   "execution_count": 9,
   "id": "c1b7c933",
   "metadata": {},
   "outputs": [
    {
     "name": "stdout",
     "output_type": "stream",
     "text": [
      "3\n",
      "4\n",
      "[[0.  0.5 1.  1.5]\n",
      " [0.5 1.  1.5 2. ]\n",
      " [1.  1.5 2.  2.5]]\n"
     ]
    }
   ],
   "source": [
    "import numpy as np\n",
    "x=int(input())\n",
    "y=int(input())\n",
    "#write your code here\n",
    "def function_array(r,c):\n",
    "    matrix = []\n",
    "    for i in range(r):\n",
    "        a = []\n",
    "        for j in range(c):\n",
    "            val = float((i+j)/2)\n",
    "            a.append(val)\n",
    "        matrix.append(a)\n",
    "        arr = np.array(matrix)\n",
    "    return arr\n",
    "\n",
    "print(function_array(x,y))\n",
    "\n",
    "#write your code here"
   ]
  },
  {
   "cell_type": "code",
   "execution_count": null,
   "id": "18b09465",
   "metadata": {},
   "outputs": [],
   "source": []
  }
 ],
 "metadata": {
  "kernelspec": {
   "display_name": "Python 3",
   "language": "python",
   "name": "python3"
  },
  "language_info": {
   "codemirror_mode": {
    "name": "ipython",
    "version": 3
   },
   "file_extension": ".py",
   "mimetype": "text/x-python",
   "name": "python",
   "nbconvert_exporter": "python",
   "pygments_lexer": "ipython3",
   "version": "3.8.8"
  }
 },
 "nbformat": 4,
 "nbformat_minor": 5
}
