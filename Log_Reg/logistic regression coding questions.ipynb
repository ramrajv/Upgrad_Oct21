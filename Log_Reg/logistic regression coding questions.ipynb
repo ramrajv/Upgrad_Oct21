{
 "cells": [
  {
   "cell_type": "markdown",
   "id": "97e3f9c2",
   "metadata": {},
   "source": [
    "### Fibonacci Series\n",
    "\n",
    "#### Description\n",
    "\n",
    "Compute and display Fibonacci series upto n terms where n is a positive integer entered by the user.\n",
    "You can go here to read about Fibonacci series.\n",
    "\n",
    "Sample Input:\n",
    "\n",
    "5\n",
    "\n",
    "Sample Output:\n",
    "\n",
    "0\n",
    "\n",
    "1\n",
    "\n",
    "1\n",
    "\n",
    "2\n",
    "\n",
    "3"
   ]
  },
  {
   "cell_type": "code",
   "execution_count": 22,
   "id": "d73eb326",
   "metadata": {},
   "outputs": [
    {
     "name": "stdout",
     "output_type": "stream",
     "text": [
      "7\n",
      "0\n",
      "1\n",
      "1\n",
      "2\n",
      "3\n",
      "5\n",
      "8\n"
     ]
    }
   ],
   "source": [
    "n=int(input())\n",
    "\n",
    "# first two terms\n",
    "n1 = 0\n",
    "n2 = 1\n",
    "count = 0\n",
    "\n",
    "# check if the number of terms is valid\n",
    "if n <= 0:\n",
    "   print(\"Please enter a positive integer\")\n",
    "# if there is only one term, return n1\n",
    "elif n == 1:\n",
    "   print(n1)\n",
    "# generate fibonacci sequence\n",
    "else:\n",
    "    while count < n:\n",
    "       print(n1)\n",
    "       nth = n1 + n2\n",
    "       # update values\n",
    "       n1 = n2\n",
    "       n2 = nth\n",
    "       count += 1"
   ]
  },
  {
   "cell_type": "markdown",
   "id": "d705f6c7",
   "metadata": {},
   "source": [
    "### Prime Numbers\n",
    "\n",
    "#### Description\n",
    "\n",
    "Determine whether a positive integer n is a prime number or not. Assume n>1.\n",
    "Display “number entered is prime” if n is prime, otherwise display “number entered is not prime”.\n",
    "\n",
    "Sample Input:\n",
    "\n",
    "7\n",
    "\n",
    "Sample Output:\n",
    "\n",
    "number entered is prime"
   ]
  },
  {
   "cell_type": "code",
   "execution_count": 11,
   "id": "df837ad4",
   "metadata": {},
   "outputs": [
    {
     "name": "stdout",
     "output_type": "stream",
     "text": [
      "7\n",
      "number entered is prime\n"
     ]
    }
   ],
   "source": [
    "n=int(input())\n",
    "#write your code here\n",
    "\n",
    "x=True\n",
    "for i in range(2,n):\n",
    "    if(n%i==0):\n",
    "        x=False\n",
    "        break\n",
    "if out==True:\n",
    "    print(\"number entered is prime\")\n",
    "else:\n",
    "    print(\"number entered is not prime\")"
   ]
  },
  {
   "cell_type": "markdown",
   "id": "4153d01b",
   "metadata": {},
   "source": [
    "### Armstrong number\n",
    "\n",
    "#### Description\n",
    "\n",
    "Any number, say n is called an Armstrong number if it is equal to the sum of its digits, where each is raised to the power of number of digits in n.\n",
    "For example:\n",
    "153=13+53+33\n",
    "\n",
    "Write Python code to determine whether an entered three digit number is an Armstrong number or not. \n",
    "Assume that the number entered will strictly be a three digit number.\n",
    "\n",
    "Print \"True\" if it is an Armstrong number and print \"False\" if it is not.\n",
    "\n",
    "Sample Input:\n",
    "\n",
    "153\n",
    "\n",
    "Sample Output:\n",
    "\n",
    "True"
   ]
  },
  {
   "cell_type": "code",
   "execution_count": 17,
   "id": "2eccf2ca",
   "metadata": {},
   "outputs": [
    {
     "name": "stdout",
     "output_type": "stream",
     "text": [
      "153\n",
      "True\n"
     ]
    }
   ],
   "source": [
    "n=int(input())\n",
    "sum = 0\n",
    "a = n\n",
    "while a > 0:\n",
    "   digit = a % 10\n",
    "   sum += digit ** 3\n",
    "   a //= 10\n",
    "\n",
    "\n",
    "if n == sum:\n",
    "   print(\"True\")\n",
    "else:\n",
    "   print(\"False\")"
   ]
  },
  {
   "cell_type": "markdown",
   "id": "6ce4cdb6",
   "metadata": {},
   "source": [
    "### Selecting dataframe columns\n",
    "\n",
    "#### Description\n",
    "\n",
    "Write a program to select all columns of a dataframe except the ones specified.\n",
    "\n",
    "The input will contain a list of columns that you should skip.\n",
    "\n",
    "You should print the first five rows of the dataframe as output where the columns are alphabetically sorted.\n",
    "\n",
    "Sample Input:\n",
    "\n",
    "['PassengerId', 'Pclass', 'Name', 'Sex','Embarked']\n",
    "\n",
    "Sample Output:\n",
    "\n",
    "    Age Cabin     Fare  Parch  SibSp   Ticket\n",
    "    \n",
    "0  34.5   NaN   7.8292      0      0   330911\n",
    "\n",
    "1  47.0   NaN   7.0000      0      1   363272\n",
    "\n",
    "2  62.0   NaN   9.6875      0      0   240276\n",
    "\n",
    "3  27.0   NaN   8.6625      0      0   315154\n",
    "\n",
    "4  22.0   NaN  12.2875      1      1  3101298\n"
   ]
  },
  {
   "cell_type": "code",
   "execution_count": 24,
   "id": "fa765088",
   "metadata": {},
   "outputs": [
    {
     "ename": "SyntaxError",
     "evalue": "unexpected EOF while parsing (<unknown>, line 0)",
     "output_type": "error",
     "traceback": [
      "Traceback \u001b[1;36m(most recent call last)\u001b[0m:\n",
      "  File \u001b[0;32m\"C:\\Users\\dell\\anaconda3\\lib\\site-packages\\IPython\\core\\interactiveshell.py\"\u001b[0m, line \u001b[0;32m3437\u001b[0m, in \u001b[0;35mrun_code\u001b[0m\n    exec(code_obj, self.user_global_ns, self.user_ns)\n",
      "  File \u001b[0;32m\"<ipython-input-24-5e858420bb53>\"\u001b[0m, line \u001b[0;32m5\u001b[0m, in \u001b[0;35m<module>\u001b[0m\n    to_omit = ast.literal_eval(input_str)\n",
      "  File \u001b[0;32m\"C:\\Users\\dell\\anaconda3\\lib\\ast.py\"\u001b[0m, line \u001b[0;32m59\u001b[0m, in \u001b[0;35mliteral_eval\u001b[0m\n    node_or_string = parse(node_or_string, mode='eval')\n",
      "\u001b[1;36m  File \u001b[1;32m\"C:\\Users\\dell\\anaconda3\\lib\\ast.py\"\u001b[1;36m, line \u001b[1;32m47\u001b[1;36m, in \u001b[1;35mparse\u001b[1;36m\u001b[0m\n\u001b[1;33m    return compile(source, filename, mode, flags,\u001b[0m\n",
      "\u001b[1;36m  File \u001b[1;32m\"<unknown>\"\u001b[1;36m, line \u001b[1;32munknown\u001b[0m\n\u001b[1;33m    \u001b[0m\n\u001b[1;37m    ^\u001b[0m\n\u001b[1;31mSyntaxError\u001b[0m\u001b[1;31m:\u001b[0m unexpected EOF while parsing\n"
     ]
    }
   ],
   "source": [
    "import pandas as pd\n",
    "import ast,sys\n",
    "df=pd.read_csv(\"https://media-doselect.s3.amazonaws.com/generic/X0kvr3wEYXRzONE5W37xWWYYA/test.csv\")\n",
    "input_str = sys.stdin.read()\n",
    "to_omit = ast.literal_eval(input_str)\n",
    "#write your code here\n",
    "df=df[df.columns[~df.columns.isin(to_omit)]]\n",
    "print(df.loc[:, sorted(list(df.columns))].head())"
   ]
  },
  {
   "cell_type": "markdown",
   "id": "646953ad",
   "metadata": {},
   "source": [
    "### Two series\n",
    "\n",
    "#### Description\n",
    "\n",
    "Given two pandas series, find the position of elements in series2 in series1.\n",
    "You can assume that all elements in series2 will be present in series1.\n",
    "The input will contain two lines with series1 and series2 respectively.\n",
    "\n",
    "The output should be a list of indexes indicating elements of series2 in series 1.\n",
    "\n",
    "Note: In the output list, the indexes should be in ascending order.\n",
    "    \n",
    "Sample Input:\n",
    "    \n",
    "[1,2,3,4,5,6,7]\n",
    "\n",
    "[1,3,7]\n",
    "\n",
    "Sample Output:\n",
    "\n",
    "[0,2,6]"
   ]
  },
  {
   "cell_type": "code",
   "execution_count": null,
   "id": "fb13b06f",
   "metadata": {},
   "outputs": [],
   "source": [
    "import ast,sys\n",
    "import pandas as pd\n",
    "\n",
    "input_str = sys.stdin.read()\n",
    "input_list = ast.literal_eval(input_str)\n",
    "\n",
    "series1=pd.Series(input_list[0])\n",
    "series2=pd.Series(input_list[1])\n",
    "\n",
    "out_list=[pd.Index(series1).get_loc(num) for num in series2]\n",
    "print(list(map(int,out_list)))\n",
    "\n",
    "\n",
    "out_list=#store your output here\n",
    "print(list(map(int,out_list)))#do not alter this step, list must be int type for evaluation purposes"
   ]
  },
  {
   "cell_type": "markdown",
   "id": "d956f25d",
   "metadata": {},
   "source": [
    "### Cleaning columns\n",
    "\n",
    "#### Description\n",
    "\n",
    "For the given dataframe, you have to clean the \"Installs\" column and print its correlation with other numeric columns of the dataframe.(print df.corr())\n",
    "\n",
    "You have to do the following:\n",
    "- 1. Remove characters like ',' from the number of installs.\n",
    "- 2. Delete rows where the Installs column has irrelevant strings like 'Free'\n",
    "- 3. Convert the column to int type\n",
    "\n",
    "You can access the dataframe using the following URL in your Jupyter notebook:\n",
    "\n",
    "https://media-doselect.s3.amazonaws.com/generic/8NMooe4G0ENEe8z9q5ZvaZA7/googleplaystore.csv\n",
    "\n",
    "Note: You should try this problem on your own Jupyter notebook before submitting. Do not clean any column other than \"__Installs__\".\n",
    "\n",
    "Sample Output:\n",
    "\n",
    "            Rating  Installs\n",
    "            \n",
    "Rating    1.000000  0.051355\n",
    "\n",
    "Installs  0.051355  1.000000"
   ]
  },
  {
   "cell_type": "code",
   "execution_count": 27,
   "id": "d8f984fd",
   "metadata": {},
   "outputs": [
    {
     "name": "stdout",
     "output_type": "stream",
     "text": [
      "            Rating  Installs\n",
      "Rating    1.000000  0.051355\n",
      "Installs  0.051355  1.000000\n",
      "Seconds since epoch = 1642428421.181075\n"
     ]
    },
    {
     "name": "stderr",
     "output_type": "stream",
     "text": [
      "<ipython-input-27-25270455baba>:10: FutureWarning: The default value of regex will change from True to False in a future version. In addition, single character regular expressions will*not* be treated as literal strings when regex=True.\n",
      "  df.Installs=df.Installs.str.replace('+','')\n"
     ]
    }
   ],
   "source": [
    "import time\n",
    "import warnings\n",
    "#warnings.filterwarnings(action=\"Ignore\")\n",
    "import pandas as pd \n",
    "df=pd.read_csv(\"https://media-doselect.s3.amazonaws.com/generic/8NMooe4G0ENEe8z9q5ZvaZA7/googleplaystore.csv\")\n",
    "#add your cleaning code here\n",
    "#df=pd.read_csv(\"filename.csv\")\n",
    "df.Installs=df.Installs.str.replace(',','')\n",
    "\n",
    "df.Installs=df.Installs.str.replace('+','')\n",
    "df=df[df.Installs!='Free']\n",
    "\n",
    "df.Installs=df.Installs.astype(int)\n",
    "print(df.corr())\n",
    "#import time\n",
    "seconds = time.time()\n",
    "print(\"Seconds since epoch =\", seconds)\t"
   ]
  },
  {
   "cell_type": "markdown",
   "id": "9dbaa561",
   "metadata": {},
   "source": [
    "### Capitalise\n",
    "\n",
    "#### Description\n",
    "\n",
    "Given a sentence as a string, capitalise the first letter of every word. Output the final sentence after capitalising.\n",
    "\n",
    "Hint: Since strings are immutable, you need to output a new string.\n",
    "\n",
    "Example:\n",
    "\n",
    "Input 1:\n",
    "\n",
    "I am now a master of Logistic regression\n",
    "\n",
    "Output 1:\n",
    "\n",
    "I Am Now A Master Of Logistic Regression"
   ]
  },
  {
   "cell_type": "code",
   "execution_count": 2,
   "id": "f5b2165c",
   "metadata": {},
   "outputs": [
    {
     "name": "stdout",
     "output_type": "stream",
     "text": [
      "hello how are you\n",
      "Hello How Are You\n"
     ]
    }
   ],
   "source": [
    "input_string = input()\n",
    "\n",
    "# Write your code here\n",
    "input_string = input_string.title()\n",
    "print(input_string)"
   ]
  },
  {
   "cell_type": "markdown",
   "id": "4d4f4814",
   "metadata": {},
   "source": [
    "### Second Maximum Number in a List\n",
    "\n",
    "#### Description\n",
    "\n",
    "Given a list of numbers, find the second largest number in the list.\n",
    "\n",
    "Note: There might be repeated numbers in the list. If there is only one number present in the list, return 'not present'.\n",
    "\n",
    "Examples:\n",
    "Input 1:\n",
    "[7, 2, 0, 9, -1, 8]\n",
    "Output 1:\n",
    "8\n",
    "\n",
    "Input 2:\n",
    "[3, 1, 4, 4, 5, 5, 5, 0, 2, 2]\n",
    "Output 2:\n",
    "4\n",
    "\n",
    "Input 2:\n",
    "[6, 6, 6, 6, 6]\n",
    "Output 2:\n",
    "not present"
   ]
  },
  {
   "cell_type": "code",
   "execution_count": 3,
   "id": "8d4f2ea3",
   "metadata": {},
   "outputs": [
    {
     "ename": "SyntaxError",
     "evalue": "unexpected EOF while parsing (<unknown>, line 0)",
     "output_type": "error",
     "traceback": [
      "Traceback \u001b[1;36m(most recent call last)\u001b[0m:\n",
      "  File \u001b[0;32m\"C:\\Users\\dell\\anaconda3\\lib\\site-packages\\IPython\\core\\interactiveshell.py\"\u001b[0m, line \u001b[0;32m3437\u001b[0m, in \u001b[0;35mrun_code\u001b[0m\n    exec(code_obj, self.user_global_ns, self.user_ns)\n",
      "  File \u001b[0;32m\"<ipython-input-3-4f756db04f49>\"\u001b[0m, line \u001b[0;32m9\u001b[0m, in \u001b[0;35m<module>\u001b[0m\n    input_list = ast.literal_eval(input_str)\n",
      "  File \u001b[0;32m\"C:\\Users\\dell\\anaconda3\\lib\\ast.py\"\u001b[0m, line \u001b[0;32m59\u001b[0m, in \u001b[0;35mliteral_eval\u001b[0m\n    node_or_string = parse(node_or_string, mode='eval')\n",
      "\u001b[1;36m  File \u001b[1;32m\"C:\\Users\\dell\\anaconda3\\lib\\ast.py\"\u001b[1;36m, line \u001b[1;32m47\u001b[1;36m, in \u001b[1;35mparse\u001b[1;36m\u001b[0m\n\u001b[1;33m    return compile(source, filename, mode, flags,\u001b[0m\n",
      "\u001b[1;36m  File \u001b[1;32m\"<unknown>\"\u001b[1;36m, line \u001b[1;32munknown\u001b[0m\n\u001b[1;33m    \u001b[0m\n\u001b[1;37m    ^\u001b[0m\n\u001b[1;31mSyntaxError\u001b[0m\u001b[1;31m:\u001b[0m unexpected EOF while parsing\n"
     ]
    }
   ],
   "source": [
    "# Python program to find second largest\n",
    "# number in a list\n",
    "\n",
    "# list of numbers - length of\n",
    "# list should be at least 2\n",
    "# Read the input list\n",
    "import ast,sys\n",
    "input_str = sys.stdin.read()\n",
    "input_list = ast.literal_eval(input_str)\n",
    "\n",
    "# Write your code here\n",
    "\n",
    "#list1 = [10, 20, 4, 45, 99]\n",
    "\n",
    "mx=max(input_list[0],input_list[1])\n",
    "secondmax=min(input_list[0],input_list[1])\n",
    "n =len(input_list)\n",
    "for i in range(2,n):\n",
    "\tif input_list[i]>mx:\n",
    "\t\tsecondmax=mx\n",
    "\t\tmx=list1[i]\n",
    "\telif input_list[i]>secondmax and \\\n",
    "\t\tmx != input_list[i]:\n",
    "\t\tsecondmax=input_list[i]\n",
    "\n",
    "print(\"Second highest number is : \",\\\n",
    "\tstr(secondmax))\n"
   ]
  },
  {
   "cell_type": "code",
   "execution_count": 6,
   "id": "73dcd240",
   "metadata": {},
   "outputs": [
    {
     "ename": "SyntaxError",
     "evalue": "invalid syntax (<ipython-input-6-1727b537ec21>, line 20)",
     "output_type": "error",
     "traceback": [
      "\u001b[1;36m  File \u001b[1;32m\"<ipython-input-6-1727b537ec21>\"\u001b[1;36m, line \u001b[1;32m20\u001b[0m\n\u001b[1;33m    if mx = secondmax:\u001b[0m\n\u001b[1;37m          ^\u001b[0m\n\u001b[1;31mSyntaxError\u001b[0m\u001b[1;31m:\u001b[0m invalid syntax\n"
     ]
    }
   ],
   "source": [
    "# Python program to find second largest\n",
    "# number in a list\n",
    "\n",
    "# list of numbers - length of\n",
    "# list should be at least 2\n",
    "# Read the input list\n",
    "\n",
    "# Write your code here\n",
    "\n",
    "# Python program to find second largest\n",
    "# number in a list\n",
    "\n",
    "# list of numbers - length of\n",
    "# list should be at least 2\n",
    "list1 = [10, 20, 4, 45, 99]\n",
    "\n",
    "mx=max(list1[0],list1[1])\n",
    "secondmax=min(list1[0],list1[1])\n",
    "n =len(list1)\n",
    "if mx = secondmax:\n",
    "    print(\"not present\")\n",
    "else :\n",
    "    for i in range(2,n):\n",
    "        if list1[i]>mx:\n",
    "            secondmax=mx\n",
    "            mx=list1[i]\n",
    "        elif list1[i]>secondmax and \\\n",
    "            mx != list1[i]:\n",
    "            secondmax=list1[i]\n",
    "\n",
    "print(str(secondmax))\n",
    "\n"
   ]
  },
  {
   "cell_type": "code",
   "execution_count": 7,
   "id": "a8ff4f76",
   "metadata": {},
   "outputs": [
    {
     "ename": "SyntaxError",
     "evalue": "unexpected EOF while parsing (<unknown>, line 0)",
     "output_type": "error",
     "traceback": [
      "Traceback \u001b[1;36m(most recent call last)\u001b[0m:\n",
      "  File \u001b[0;32m\"C:\\Users\\dell\\anaconda3\\lib\\site-packages\\IPython\\core\\interactiveshell.py\"\u001b[0m, line \u001b[0;32m3437\u001b[0m, in \u001b[0;35mrun_code\u001b[0m\n    exec(code_obj, self.user_global_ns, self.user_ns)\n",
      "  File \u001b[0;32m\"<ipython-input-7-7be2e6a157cf>\"\u001b[0m, line \u001b[0;32m6\u001b[0m, in \u001b[0;35m<module>\u001b[0m\n    input_list = ast.literal_eval(input_str)\n",
      "  File \u001b[0;32m\"C:\\Users\\dell\\anaconda3\\lib\\ast.py\"\u001b[0m, line \u001b[0;32m59\u001b[0m, in \u001b[0;35mliteral_eval\u001b[0m\n    node_or_string = parse(node_or_string, mode='eval')\n",
      "\u001b[1;36m  File \u001b[1;32m\"C:\\Users\\dell\\anaconda3\\lib\\ast.py\"\u001b[1;36m, line \u001b[1;32m47\u001b[1;36m, in \u001b[1;35mparse\u001b[1;36m\u001b[0m\n\u001b[1;33m    return compile(source, filename, mode, flags,\u001b[0m\n",
      "\u001b[1;36m  File \u001b[1;32m\"<unknown>\"\u001b[1;36m, line \u001b[1;32munknown\u001b[0m\n\u001b[1;33m    \u001b[0m\n\u001b[1;37m    ^\u001b[0m\n\u001b[1;31mSyntaxError\u001b[0m\u001b[1;31m:\u001b[0m unexpected EOF while parsing\n"
     ]
    }
   ],
   "source": [
    "# Python program to find largest\n",
    "# number in a list\n",
    " # Read the input list\n",
    "import ast,sys\n",
    "input_str = sys.stdin.read()\n",
    "input_list = ast.literal_eval(input_str)\n",
    "# list of numbers\n",
    "#list1 = [10, 20, 4, 45, 99]\n",
    " \n",
    "# sorting the list\n",
    "input_list.sort()\n",
    " \n",
    "# printing the second last element\n",
    "print(input_list[-2])"
   ]
  },
  {
   "cell_type": "code",
   "execution_count": 21,
   "id": "7f5bb0e2",
   "metadata": {},
   "outputs": [
    {
     "ename": "ValueError",
     "evalue": "max() arg is an empty sequence",
     "output_type": "error",
     "traceback": [
      "\u001b[1;31m---------------------------------------------------------------------------\u001b[0m",
      "\u001b[1;31mValueError\u001b[0m                                Traceback (most recent call last)",
      "\u001b[1;32m<ipython-input-21-abfefbbdae88>\u001b[0m in \u001b[0;36m<module>\u001b[1;34m\u001b[0m\n\u001b[0;32m      9\u001b[0m \u001b[1;31m# elements in original list are not changed\u001b[0m\u001b[1;33m\u001b[0m\u001b[1;33m\u001b[0m\u001b[1;33m\u001b[0m\u001b[0m\n\u001b[0;32m     10\u001b[0m \u001b[1;31m# print(list1)\u001b[0m\u001b[1;33m\u001b[0m\u001b[1;33m\u001b[0m\u001b[1;33m\u001b[0m\u001b[0m\n\u001b[1;32m---> 11\u001b[1;33m \u001b[0mm\u001b[0m \u001b[1;33m=\u001b[0m \u001b[0mmax\u001b[0m\u001b[1;33m(\u001b[0m\u001b[0mnew_input_list\u001b[0m\u001b[1;33m)\u001b[0m\u001b[1;33m\u001b[0m\u001b[1;33m\u001b[0m\u001b[0m\n\u001b[0m\u001b[0;32m     12\u001b[0m \u001b[0mn\u001b[0m \u001b[1;33m=\u001b[0m \u001b[0mmin\u001b[0m\u001b[1;33m(\u001b[0m\u001b[0mnew_input_list\u001b[0m\u001b[1;33m)\u001b[0m\u001b[1;33m\u001b[0m\u001b[1;33m\u001b[0m\u001b[0m\n\u001b[0;32m     13\u001b[0m \u001b[1;32mif\u001b[0m \u001b[0mm\u001b[0m \u001b[1;33m==\u001b[0m \u001b[0mn\u001b[0m\u001b[1;33m:\u001b[0m\u001b[1;33m\u001b[0m\u001b[1;33m\u001b[0m\u001b[0m\n",
      "\u001b[1;31mValueError\u001b[0m: max() arg is an empty sequence"
     ]
    }
   ],
   "source": [
    "input_list = [6,6,6,6]\n",
    " \n",
    "# new_list is a set of list1\n",
    "new_input_list = set(input_list)\n",
    " \n",
    "# removing the largest element from temp list\n",
    "new_input_list.remove(max(new_input_list))\n",
    " \n",
    "# elements in original list are not changed\n",
    "# print(list1)\n",
    "m = max(new_input_list)\n",
    "n = min(new_input_list)\n",
    "if m == n:\n",
    "    print('not present')\n",
    "else:\n",
    "    print(m)"
   ]
  },
  {
   "cell_type": "markdown",
   "id": "92cfdc4e",
   "metadata": {},
   "source": [
    "### Data Quality\n",
    "\n",
    "#### Description\n",
    "\n",
    "You have a Wholesale Customers dataset. Here are the first few rows of the dataset:\n",
    "\n",
    "\n",
    "The last column 'Channel' contains information about the type of channel the items are supplied to. There are only three types of channels - 'Hotel', 'Restaurant', and 'Cafe'. But as you can notice, there are quality issues in the last data. A lot of the times Cafe as been written as 'C', Hotel has been written as 'Hot', etc. Inspect these incorrect values and replace them with their actual full names. \n",
    "\n",
    "\n",
    "After this operation, the final column should only have 3 kinds of label - 'Hotel', 'Restaurant', and 'Cafe'. \n",
    "\n",
    "The dataframe has already been read to you in the variable 'wholesale'.\n",
    "\n",
    "The print statement to print the final dataframe has also been provided. You just need to perform the operations for correcting the names present in the last column."
   ]
  },
  {
   "cell_type": "code",
   "execution_count": null,
   "id": "33de8034",
   "metadata": {},
   "outputs": [],
   "source": []
  }
 ],
 "metadata": {
  "kernelspec": {
   "display_name": "Python 3",
   "language": "python",
   "name": "python3"
  },
  "language_info": {
   "codemirror_mode": {
    "name": "ipython",
    "version": 3
   },
   "file_extension": ".py",
   "mimetype": "text/x-python",
   "name": "python",
   "nbconvert_exporter": "python",
   "pygments_lexer": "ipython3",
   "version": "3.8.8"
  }
 },
 "nbformat": 4,
 "nbformat_minor": 5
}
