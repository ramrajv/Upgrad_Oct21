{
 "cells": [
  {
   "cell_type": "markdown",
   "id": "6c493259",
   "metadata": {},
   "source": [
    "##  Call your Name"
   ]
  },
  {
   "cell_type": "code",
   "execution_count": 1,
   "id": "ba78bfde",
   "metadata": {},
   "outputs": [
    {
     "name": "stdout",
     "output_type": "stream",
     "text": [
      "what's your namesoniya\n"
     ]
    }
   ],
   "source": [
    "name=input(\"what's your name\")"
   ]
  },
  {
   "cell_type": "markdown",
   "id": "546e63d7",
   "metadata": {},
   "source": [
    "##  Arthmatics Operation"
   ]
  },
  {
   "cell_type": "code",
   "execution_count": 2,
   "id": "1b0b1823",
   "metadata": {},
   "outputs": [
    {
     "name": "stdout",
     "output_type": "stream",
     "text": [
      "Input First No.54\n",
      "Input Second No.5\n",
      "soniya Sum of Two no's is 59.0\n"
     ]
    }
   ],
   "source": [
    "x=float(input('Input First No.'))\n",
    "y=float(input('Input Second No.'))\n",
    "result=x+y\n",
    "print(name, 'Sum of Two no\\'s is', result)"
   ]
  },
  {
   "cell_type": "code",
   "execution_count": 8,
   "id": "81e68f8d",
   "metadata": {},
   "outputs": [
    {
     "name": "stdout",
     "output_type": "stream",
     "text": [
      "10\n",
      "10\n",
      "0.5\n",
      "ice cream\n"
     ]
    }
   ],
   "source": [
    "import numpy as np \n",
    "import pandas as pd \n",
    "pd.set_option('display.max_columns',500)\n",
    "seed=int(input())\n",
    "n=int(input())\n",
    "p=float(input())\n",
    "np.random.seed(seed)\n",
    "#s = np.random.seed(seed)\n",
    "print(s)"
   ]
  },
  {
   "cell_type": "markdown",
   "id": "f13e69aa",
   "metadata": {},
   "source": [
    "x=float(input())\n",
    "y=float(input())\n",
    "s = np.random.binomial(n,p,10) #store your output here#write your code here"
   ]
  },
  {
   "cell_type": "markdown",
   "id": "a245ed0d",
   "metadata": {},
   "source": [
    "## Arthmatic Operations"
   ]
  },
  {
   "cell_type": "code",
   "execution_count": 3,
   "id": "2f7f2fac",
   "metadata": {},
   "outputs": [
    {
     "name": "stdout",
     "output_type": "stream",
     "text": [
      "Enter First No.15\n",
      "Enter Second No.51\n",
      "Enter Third No454\n",
      "Enter fouth no45461\n",
      "soniya Sum of Two nos is 66.0\n",
      "soniya Sub of two nos is -36.0\n",
      "soniya mult of two nos is 765.0\n",
      "soniya Divi of two nos is 0.29411764705882354\n",
      "soniya Flour Divi of two nos is 0.0\n",
      "soniya Modulus two nos is 15.0\n",
      "soniya Exponentioal is to nos is 9.564322503210743e+59\n",
      "soniya all mess of yours is 1234.0\n"
     ]
    }
   ],
   "source": [
    "a = float(input('Enter First No.'))\n",
    "b = float(input('Enter Second No.'))\n",
    "a1 = float(input('Enter Third No'))\n",
    "b1 = float(input('Enter fouth no'))\n",
    "c = float(a+b)\n",
    "d = float(a-b)\n",
    "e = float(a*b)\n",
    "f = float(a/b)\n",
    "g = float(a//b)\n",
    "h = float(a%b)\n",
    "i = float(a**b)\n",
    "j = float((a+b)-b+(a*b)+(a1%b1)+(a1//b1))\n",
    "print(name, \"Sum of Two nos is\", c)\n",
    "print(name, \"Sub of two nos is\", d)\n",
    "print(name, \"mult of two nos is\", e)\n",
    "print(name, \"Divi of two nos is\", f)\n",
    "print(name, \"Flour Divi of two nos is\", g)\n",
    "print(name, \"Modulus two nos is\", h)\n",
    "print(name, \"Exponentioal is to nos is\", i)\n",
    "print(name, \"all mess of yours is\", j)"
   ]
  },
  {
   "cell_type": "markdown",
   "id": "1415371e",
   "metadata": {},
   "source": [
    "##  String operation"
   ]
  },
  {
   "cell_type": "code",
   "execution_count": 4,
   "id": "d11d922c",
   "metadata": {},
   "outputs": [
    {
     "name": "stdout",
     "output_type": "stream",
     "text": [
      "What's Your Namesaniyorita\n",
      "Hi! \n",
      "\n",
      " How are you saniyorita\n",
      "What's Your Favourite Flavour saniyoritacold\n",
      "What's Your Favoturite Deseert saniyoritaice cream\n",
      "saniyorita You have ordered cold ice cream\n"
     ]
    }
   ],
   "source": [
    "name = str(input(\"What's Your Name\"))\n",
    "print(\"Hi! \\n\\n How are you\", name)\n",
    "t = str(input(\"What's Your Favourite Flavour\"+' '+name))\n",
    "s = str(input(\"What's Your Favoturite Deseert\"+' '+name))\n",
    "print(name, \"You have ordered\", t+' '+s)"
   ]
  },
  {
   "cell_type": "code",
   "execution_count": 5,
   "id": "7ff488f8",
   "metadata": {},
   "outputs": [
    {
     "name": "stdout",
     "output_type": "stream",
     "text": [
      "A black brown fox jumps over the lazy dog\n",
      "41\n",
      "g\n"
     ]
    }
   ],
   "source": [
    "zxc = str('A black brown fox jumps over the lazy dog')\n",
    "print(zxc)\n",
    "print(len(zxc))\n",
    "print(zxc[-1])"
   ]
  },
  {
   "cell_type": "code",
   "execution_count": null,
   "id": "fd3b697f",
   "metadata": {},
   "outputs": [],
   "source": []
  },
  {
   "cell_type": "code",
   "execution_count": null,
   "id": "f7d6734a",
   "metadata": {},
   "outputs": [],
   "source": []
  },
  {
   "cell_type": "code",
   "execution_count": null,
   "id": "c9d76c4c",
   "metadata": {},
   "outputs": [],
   "source": []
  },
  {
   "cell_type": "code",
   "execution_count": null,
   "id": "9e91885c",
   "metadata": {},
   "outputs": [],
   "source": []
  }
 ],
 "metadata": {
  "kernelspec": {
   "display_name": "Python 3",
   "language": "python",
   "name": "python3"
  },
  "language_info": {
   "codemirror_mode": {
    "name": "ipython",
    "version": 3
   },
   "file_extension": ".py",
   "mimetype": "text/x-python",
   "name": "python",
   "nbconvert_exporter": "python",
   "pygments_lexer": "ipython3",
   "version": "3.8.8"
  }
 },
 "nbformat": 4,
 "nbformat_minor": 5
}
