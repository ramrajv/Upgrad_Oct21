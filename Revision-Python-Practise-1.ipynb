{
 "cells": [
  {
   "cell_type": "code",
   "execution_count": 1,
   "id": "dfc5a4c0",
   "metadata": {},
   "outputs": [],
   "source": [
    "i = 12"
   ]
  },
  {
   "cell_type": "code",
   "execution_count": 5,
   "id": "70ff11a4",
   "metadata": {},
   "outputs": [],
   "source": [
    "j = 5"
   ]
  },
  {
   "cell_type": "code",
   "execution_count": 3,
   "id": "51cea00e",
   "metadata": {},
   "outputs": [
    {
     "data": {
      "text/plain": [
       "2"
      ]
     },
     "execution_count": 3,
     "metadata": {},
     "output_type": "execute_result"
    }
   ],
   "source": [
    "i // j"
   ]
  },
  {
   "cell_type": "code",
   "execution_count": 6,
   "id": "cb15956e",
   "metadata": {},
   "outputs": [
    {
     "data": {
      "text/plain": [
       "2.4"
      ]
     },
     "execution_count": 6,
     "metadata": {},
     "output_type": "execute_result"
    }
   ],
   "source": [
    "i / j\n"
   ]
  },
  {
   "cell_type": "code",
   "execution_count": 7,
   "id": "9172f391",
   "metadata": {},
   "outputs": [
    {
     "data": {
      "text/plain": [
       "2"
      ]
     },
     "execution_count": 7,
     "metadata": {},
     "output_type": "execute_result"
    }
   ],
   "source": [
    "i % j"
   ]
  },
  {
   "cell_type": "code",
   "execution_count": 8,
   "id": "973380d8",
   "metadata": {},
   "outputs": [
    {
     "data": {
      "text/plain": [
       "248832"
      ]
     },
     "execution_count": 8,
     "metadata": {},
     "output_type": "execute_result"
    }
   ],
   "source": [
    "i ** j"
   ]
  },
  {
   "cell_type": "code",
   "execution_count": 9,
   "id": "041d73b1",
   "metadata": {},
   "outputs": [],
   "source": [
    "import math"
   ]
  },
  {
   "cell_type": "code",
   "execution_count": 11,
   "id": "2d1b5714",
   "metadata": {},
   "outputs": [],
   "source": [
    "x = math.pi * i ** 2"
   ]
  },
  {
   "cell_type": "code",
   "execution_count": 12,
   "id": "188e043d",
   "metadata": {},
   "outputs": [
    {
     "data": {
      "text/plain": [
       "452"
      ]
     },
     "execution_count": 12,
     "metadata": {},
     "output_type": "execute_result"
    }
   ],
   "source": [
    "round(x)"
   ]
  },
  {
   "cell_type": "code",
   "execution_count": 15,
   "id": "d55b3674",
   "metadata": {},
   "outputs": [
    {
     "data": {
      "text/plain": [
       "1.32"
      ]
     },
     "execution_count": 15,
     "metadata": {},
     "output_type": "execute_result"
    }
   ],
   "source": [
    "round(x, 3)"
   ]
  },
  {
   "cell_type": "code",
   "execution_count": 14,
   "id": "71296550",
   "metadata": {},
   "outputs": [],
   "source": [
    "x = 1.32"
   ]
  },
  {
   "cell_type": "code",
   "execution_count": 16,
   "id": "e5708716",
   "metadata": {},
   "outputs": [
    {
     "data": {
      "text/plain": [
       "1.32"
      ]
     },
     "execution_count": 16,
     "metadata": {},
     "output_type": "execute_result"
    }
   ],
   "source": [
    "1.320"
   ]
  },
  {
   "cell_type": "code",
   "execution_count": 17,
   "id": "1fe9a8de",
   "metadata": {},
   "outputs": [
    {
     "name": "stdout",
     "output_type": "stream",
     "text": [
      "1.320\n"
     ]
    }
   ],
   "source": [
    "print(format(x, '.3f'))"
   ]
  },
  {
   "cell_type": "code",
   "execution_count": 18,
   "id": "36d16021",
   "metadata": {},
   "outputs": [
    {
     "ename": "AttributeError",
     "evalue": "'float' object has no attribute '3f'",
     "output_type": "error",
     "traceback": [
      "\u001b[1;31m---------------------------------------------------------------------------\u001b[0m",
      "\u001b[1;31mAttributeError\u001b[0m                            Traceback (most recent call last)",
      "\u001b[1;32m<ipython-input-18-2ebcf55cd3ee>\u001b[0m in \u001b[0;36m<module>\u001b[1;34m\u001b[0m\n\u001b[1;32m----> 1\u001b[1;33m \u001b[0mprint\u001b[0m\u001b[1;33m(\u001b[0m\u001b[1;34m\"{0.3f}\"\u001b[0m\u001b[1;33m.\u001b[0m\u001b[0mformat\u001b[0m\u001b[1;33m(\u001b[0m\u001b[0mx\u001b[0m\u001b[1;33m)\u001b[0m\u001b[1;33m)\u001b[0m\u001b[1;33m\u001b[0m\u001b[1;33m\u001b[0m\u001b[0m\n\u001b[0m",
      "\u001b[1;31mAttributeError\u001b[0m: 'float' object has no attribute '3f'"
     ]
    }
   ],
   "source": [
    "print(\"{.3f}\".format(x))"
   ]
  },
  {
   "cell_type": "code",
   "execution_count": 23,
   "id": "dc42165b",
   "metadata": {},
   "outputs": [
    {
     "name": "stdout",
     "output_type": "stream",
     "text": [
      "1.320\n"
     ]
    }
   ],
   "source": [
    "print(\"{:.3f}\".format(x))\n"
   ]
  },
  {
   "cell_type": "code",
   "execution_count": 22,
   "id": "57492d58",
   "metadata": {},
   "outputs": [
    {
     "name": "stdout",
     "output_type": "stream",
     "text": [
      "Only 1.320\n"
     ]
    }
   ],
   "source": [
    "print(\"Only {0:.3f}\".format(x))\n"
   ]
  },
  {
   "cell_type": "code",
   "execution_count": 24,
   "id": "fd826ae9",
   "metadata": {},
   "outputs": [],
   "source": [
    " x= \"Sanjay\""
   ]
  },
  {
   "cell_type": "code",
   "execution_count": 25,
   "id": "923a8505",
   "metadata": {},
   "outputs": [
    {
     "data": {
      "text/plain": [
       "'ssssssssss'"
      ]
     },
     "execution_count": 25,
     "metadata": {},
     "output_type": "execute_result"
    }
   ],
   "source": [
    "'s' * 10"
   ]
  },
  {
   "cell_type": "code",
   "execution_count": 26,
   "id": "04019911",
   "metadata": {},
   "outputs": [],
   "source": [
    "y = \"Prayag\""
   ]
  },
  {
   "cell_type": "code",
   "execution_count": 27,
   "id": "902c313e",
   "metadata": {},
   "outputs": [
    {
     "data": {
      "text/plain": [
       "'PrayagSanjay'"
      ]
     },
     "execution_count": 27,
     "metadata": {},
     "output_type": "execute_result"
    }
   ],
   "source": [
    "y + x"
   ]
  },
  {
   "cell_type": "code",
   "execution_count": 28,
   "id": "5bfcf8b9",
   "metadata": {},
   "outputs": [
    {
     "data": {
      "text/plain": [
       "'Prayag Sanjay'"
      ]
     },
     "execution_count": 28,
     "metadata": {},
     "output_type": "execute_result"
    }
   ],
   "source": [
    "y + ' ' + x"
   ]
  },
  {
   "cell_type": "code",
   "execution_count": 29,
   "id": "e3d20930",
   "metadata": {},
   "outputs": [
    {
     "data": {
      "text/plain": [
       "6"
      ]
     },
     "execution_count": 29,
     "metadata": {},
     "output_type": "execute_result"
    }
   ],
   "source": [
    "len(x)"
   ]
  },
  {
   "cell_type": "code",
   "execution_count": 31,
   "id": "de88d9cc",
   "metadata": {},
   "outputs": [],
   "source": [
    "y = x.upper()"
   ]
  },
  {
   "cell_type": "code",
   "execution_count": 32,
   "id": "75f36d06",
   "metadata": {},
   "outputs": [
    {
     "data": {
      "text/plain": [
       "'sanjay'"
      ]
     },
     "execution_count": 32,
     "metadata": {},
     "output_type": "execute_result"
    }
   ],
   "source": [
    "x.lower()"
   ]
  },
  {
   "cell_type": "code",
   "execution_count": 33,
   "id": "4272d8ef",
   "metadata": {},
   "outputs": [],
   "source": [
    "l = 0"
   ]
  },
  {
   "cell_type": "code",
   "execution_count": 36,
   "id": "d918fcd1",
   "metadata": {},
   "outputs": [
    {
     "name": "stdout",
     "output_type": "stream",
     "text": [
      "S\n",
      "a\n",
      "n\n",
      "j\n",
      "a\n",
      "y\n"
     ]
    }
   ],
   "source": [
    "for c in x :\n",
    "    print(c)\n",
    "    l += 1"
   ]
  },
  {
   "cell_type": "code",
   "execution_count": 35,
   "id": "4d0a76a0",
   "metadata": {},
   "outputs": [
    {
     "data": {
      "text/plain": [
       "6"
      ]
     },
     "execution_count": 35,
     "metadata": {},
     "output_type": "execute_result"
    }
   ],
   "source": [
    "l"
   ]
  },
  {
   "cell_type": "code",
   "execution_count": 37,
   "id": "a80499b1",
   "metadata": {},
   "outputs": [
    {
     "data": {
      "text/plain": [
       "'Sanjay'"
      ]
     },
     "execution_count": 37,
     "metadata": {},
     "output_type": "execute_result"
    }
   ],
   "source": [
    "x.title()"
   ]
  },
  {
   "cell_type": "code",
   "execution_count": 38,
   "id": "f342ffe2",
   "metadata": {},
   "outputs": [
    {
     "data": {
      "text/plain": [
       "'yajnaS'"
      ]
     },
     "execution_count": 38,
     "metadata": {},
     "output_type": "execute_result"
    }
   ],
   "source": [
    "x[::-1]"
   ]
  },
  {
   "cell_type": "code",
   "execution_count": 41,
   "id": "f82566e9",
   "metadata": {},
   "outputs": [
    {
     "data": {
      "text/plain": [
       "'San'"
      ]
     },
     "execution_count": 41,
     "metadata": {},
     "output_type": "execute_result"
    }
   ],
   "source": [
    "x[0:3:]"
   ]
  },
  {
   "cell_type": "code",
   "execution_count": 42,
   "id": "054dcaf1",
   "metadata": {},
   "outputs": [],
   "source": [
    "x = \"This is an apple\""
   ]
  },
  {
   "cell_type": "code",
   "execution_count": 43,
   "id": "c57b76d0",
   "metadata": {},
   "outputs": [
    {
     "data": {
      "text/plain": [
       "'This Is An Apple'"
      ]
     },
     "execution_count": 43,
     "metadata": {},
     "output_type": "execute_result"
    }
   ],
   "source": [
    "x.title()"
   ]
  },
  {
   "cell_type": "code",
   "execution_count": 45,
   "id": "1dc0fd14",
   "metadata": {},
   "outputs": [
    {
     "data": {
      "text/plain": [
       "'This is an apple'"
      ]
     },
     "execution_count": 45,
     "metadata": {},
     "output_type": "execute_result"
    }
   ],
   "source": [
    "x.capitalize()"
   ]
  },
  {
   "cell_type": "code",
   "execution_count": 46,
   "id": "86bfc9c5",
   "metadata": {},
   "outputs": [],
   "source": [
    "x = \"this is an apple\""
   ]
  },
  {
   "cell_type": "code",
   "execution_count": 47,
   "id": "90df5296",
   "metadata": {},
   "outputs": [
    {
     "data": {
      "text/plain": [
       "'This is an apple'"
      ]
     },
     "execution_count": 47,
     "metadata": {},
     "output_type": "execute_result"
    }
   ],
   "source": [
    "x.capitalize()"
   ]
  },
  {
   "cell_type": "code",
   "execution_count": 48,
   "id": "e3c96eb2",
   "metadata": {},
   "outputs": [
    {
     "data": {
      "text/plain": [
       "'his is an apple'"
      ]
     },
     "execution_count": 48,
     "metadata": {},
     "output_type": "execute_result"
    }
   ],
   "source": [
    "x.strip('t')"
   ]
  },
  {
   "cell_type": "code",
   "execution_count": 49,
   "id": "60cffe70",
   "metadata": {},
   "outputs": [
    {
     "data": {
      "text/plain": [
       "'this is an appl'"
      ]
     },
     "execution_count": 49,
     "metadata": {},
     "output_type": "execute_result"
    }
   ],
   "source": [
    "x.rstrip('e')"
   ]
  },
  {
   "cell_type": "code",
   "execution_count": 50,
   "id": "f973e00d",
   "metadata": {},
   "outputs": [
    {
     "data": {
      "text/plain": [
       "'this is an apple'"
      ]
     },
     "execution_count": 50,
     "metadata": {},
     "output_type": "execute_result"
    }
   ],
   "source": [
    "x"
   ]
  },
  {
   "cell_type": "code",
   "execution_count": 52,
   "id": "f7d572d5",
   "metadata": {},
   "outputs": [],
   "source": [
    "l = x.split(' ')"
   ]
  },
  {
   "cell_type": "code",
   "execution_count": 53,
   "id": "cd0d81a1",
   "metadata": {},
   "outputs": [
    {
     "data": {
      "text/plain": [
       "['this', 'is', 'an', 'apple']"
      ]
     },
     "execution_count": 53,
     "metadata": {},
     "output_type": "execute_result"
    }
   ],
   "source": [
    "l"
   ]
  },
  {
   "cell_type": "code",
   "execution_count": 54,
   "id": "2c1ce64a",
   "metadata": {},
   "outputs": [
    {
     "data": {
      "text/plain": [
       "['an', 'apple', 'is', 'this']"
      ]
     },
     "execution_count": 54,
     "metadata": {},
     "output_type": "execute_result"
    }
   ],
   "source": [
    "sorted(l)"
   ]
  },
  {
   "cell_type": "code",
   "execution_count": 55,
   "id": "958f4cbc",
   "metadata": {},
   "outputs": [
    {
     "data": {
      "text/plain": [
       "['this', 'is', 'apple', 'an']"
      ]
     },
     "execution_count": 55,
     "metadata": {},
     "output_type": "execute_result"
    }
   ],
   "source": [
    "sorted(l, reverse=True)"
   ]
  },
  {
   "cell_type": "code",
   "execution_count": 56,
   "id": "e1efbd31",
   "metadata": {},
   "outputs": [
    {
     "data": {
      "text/plain": [
       "'apple'"
      ]
     },
     "execution_count": 56,
     "metadata": {},
     "output_type": "execute_result"
    }
   ],
   "source": [
    "l.pop()"
   ]
  },
  {
   "cell_type": "code",
   "execution_count": 57,
   "id": "71bc6b56",
   "metadata": {},
   "outputs": [
    {
     "data": {
      "text/plain": [
       "['this', 'is', 'an']"
      ]
     },
     "execution_count": 57,
     "metadata": {},
     "output_type": "execute_result"
    }
   ],
   "source": [
    "l"
   ]
  },
  {
   "cell_type": "code",
   "execution_count": 58,
   "id": "014ba18b",
   "metadata": {},
   "outputs": [],
   "source": [
    "l.remove('is')"
   ]
  },
  {
   "cell_type": "code",
   "execution_count": 59,
   "id": "2af82c77",
   "metadata": {},
   "outputs": [
    {
     "data": {
      "text/plain": [
       "['this', 'an']"
      ]
     },
     "execution_count": 59,
     "metadata": {},
     "output_type": "execute_result"
    }
   ],
   "source": [
    "l"
   ]
  },
  {
   "cell_type": "code",
   "execution_count": 60,
   "id": "d48dccd5",
   "metadata": {},
   "outputs": [],
   "source": [
    "l = []"
   ]
  },
  {
   "cell_type": "code",
   "execution_count": 61,
   "id": "4ff401aa",
   "metadata": {},
   "outputs": [
    {
     "data": {
      "text/plain": [
       "[]"
      ]
     },
     "execution_count": 61,
     "metadata": {},
     "output_type": "execute_result"
    }
   ],
   "source": [
    "l"
   ]
  },
  {
   "cell_type": "code",
   "execution_count": 62,
   "id": "b3cfb015",
   "metadata": {},
   "outputs": [],
   "source": [
    "l = ['a', 'b']"
   ]
  },
  {
   "cell_type": "code",
   "execution_count": 63,
   "id": "c4cb3fcc",
   "metadata": {},
   "outputs": [],
   "source": [
    "del l"
   ]
  },
  {
   "cell_type": "code",
   "execution_count": 64,
   "id": "05939059",
   "metadata": {},
   "outputs": [
    {
     "ename": "NameError",
     "evalue": "name 'l' is not defined",
     "output_type": "error",
     "traceback": [
      "\u001b[1;31m---------------------------------------------------------------------------\u001b[0m",
      "\u001b[1;31mNameError\u001b[0m                                 Traceback (most recent call last)",
      "\u001b[1;32m<ipython-input-64-cde25b5e10ad>\u001b[0m in \u001b[0;36m<module>\u001b[1;34m\u001b[0m\n\u001b[1;32m----> 1\u001b[1;33m \u001b[0ml\u001b[0m\u001b[1;33m\u001b[0m\u001b[1;33m\u001b[0m\u001b[0m\n\u001b[0m",
      "\u001b[1;31mNameError\u001b[0m: name 'l' is not defined"
     ]
    }
   ],
   "source": [
    "l"
   ]
  },
  {
   "cell_type": "code",
   "execution_count": 65,
   "id": "98f882a0",
   "metadata": {},
   "outputs": [],
   "source": [
    "l = ['a', 'b']"
   ]
  },
  {
   "cell_type": "code",
   "execution_count": 66,
   "id": "78da6347",
   "metadata": {},
   "outputs": [],
   "source": [
    "l.clear()"
   ]
  },
  {
   "cell_type": "code",
   "execution_count": 67,
   "id": "80101882",
   "metadata": {},
   "outputs": [
    {
     "data": {
      "text/plain": [
       "[]"
      ]
     },
     "execution_count": 67,
     "metadata": {},
     "output_type": "execute_result"
    }
   ],
   "source": [
    "l"
   ]
  },
  {
   "cell_type": "code",
   "execution_count": 68,
   "id": "c9d3463f",
   "metadata": {},
   "outputs": [],
   "source": [
    "l = \"Sanjay\""
   ]
  },
  {
   "cell_type": "code",
   "execution_count": 69,
   "id": "ef52205f",
   "metadata": {},
   "outputs": [],
   "source": [
    "l = list(l)"
   ]
  },
  {
   "cell_type": "code",
   "execution_count": 70,
   "id": "6003e250",
   "metadata": {},
   "outputs": [
    {
     "data": {
      "text/plain": [
       "['S', 'a', 'n', 'j', 'a', 'y']"
      ]
     },
     "execution_count": 70,
     "metadata": {},
     "output_type": "execute_result"
    }
   ],
   "source": [
    "l"
   ]
  },
  {
   "cell_type": "code",
   "execution_count": 71,
   "id": "e8f65780",
   "metadata": {},
   "outputs": [],
   "source": [
    "l.append('P')"
   ]
  },
  {
   "cell_type": "code",
   "execution_count": 72,
   "id": "f9326745",
   "metadata": {},
   "outputs": [
    {
     "data": {
      "text/plain": [
       "['S', 'a', 'n', 'j', 'a', 'y', 'P']"
      ]
     },
     "execution_count": 72,
     "metadata": {},
     "output_type": "execute_result"
    }
   ],
   "source": [
    "l"
   ]
  },
  {
   "cell_type": "code",
   "execution_count": 79,
   "id": "dd93c4c5",
   "metadata": {},
   "outputs": [],
   "source": [
    "l2 = list(\"Prayag\")"
   ]
  },
  {
   "cell_type": "code",
   "execution_count": 80,
   "id": "e6381a58",
   "metadata": {},
   "outputs": [
    {
     "data": {
      "text/plain": [
       "['P', 'r', 'a', 'y', 'a', 'g']"
      ]
     },
     "execution_count": 80,
     "metadata": {},
     "output_type": "execute_result"
    }
   ],
   "source": [
    "l2"
   ]
  },
  {
   "cell_type": "code",
   "execution_count": 81,
   "id": "f27e99ef",
   "metadata": {},
   "outputs": [],
   "source": [
    "l1 = list(\"Sanjay\")"
   ]
  },
  {
   "cell_type": "code",
   "execution_count": 82,
   "id": "dc67d9ae",
   "metadata": {},
   "outputs": [
    {
     "data": {
      "text/plain": [
       "['S', 'a', 'n', 'j', 'a', 'y']"
      ]
     },
     "execution_count": 82,
     "metadata": {},
     "output_type": "execute_result"
    }
   ],
   "source": [
    "l1"
   ]
  },
  {
   "cell_type": "code",
   "execution_count": 77,
   "id": "95efbd71",
   "metadata": {},
   "outputs": [],
   "source": [
    "l1.append(l2)"
   ]
  },
  {
   "cell_type": "code",
   "execution_count": 78,
   "id": "82b00a60",
   "metadata": {},
   "outputs": [
    {
     "data": {
      "text/plain": [
       "['S', 'a', 'n', 'j', 'a', 'y', ['P', 'r', 'a', 'y', 'a', 'g']]"
      ]
     },
     "execution_count": 78,
     "metadata": {},
     "output_type": "execute_result"
    }
   ],
   "source": [
    "l1"
   ]
  },
  {
   "cell_type": "code",
   "execution_count": 83,
   "id": "bba28eea",
   "metadata": {},
   "outputs": [
    {
     "data": {
      "text/plain": [
       "['S', 'a', 'n', 'j', 'a', 'y']"
      ]
     },
     "execution_count": 83,
     "metadata": {},
     "output_type": "execute_result"
    }
   ],
   "source": [
    "l1"
   ]
  },
  {
   "cell_type": "markdown",
   "id": "76cf1d6e",
   "metadata": {},
   "source": [
    "l2"
   ]
  },
  {
   "cell_type": "code",
   "execution_count": 85,
   "id": "ffe7eee3",
   "metadata": {},
   "outputs": [],
   "source": [
    "l1.extend(l2)"
   ]
  },
  {
   "cell_type": "code",
   "execution_count": 86,
   "id": "b29a9409",
   "metadata": {},
   "outputs": [
    {
     "data": {
      "text/plain": [
       "['S', 'a', 'n', 'j', 'a', 'y', 'P', 'r', 'a', 'y', 'a', 'g']"
      ]
     },
     "execution_count": 86,
     "metadata": {},
     "output_type": "execute_result"
    }
   ],
   "source": [
    "l1"
   ]
  },
  {
   "cell_type": "code",
   "execution_count": 87,
   "id": "5ab79964",
   "metadata": {},
   "outputs": [],
   "source": [
    "m = \"Rajesh\""
   ]
  },
  {
   "cell_type": "code",
   "execution_count": 88,
   "id": "53404b48",
   "metadata": {},
   "outputs": [],
   "source": [
    "l = list(m)"
   ]
  },
  {
   "cell_type": "code",
   "execution_count": 89,
   "id": "b3ad7d4c",
   "metadata": {},
   "outputs": [
    {
     "data": {
      "text/plain": [
       "['R', 'a', 'j', 'e', 's', 'h']"
      ]
     },
     "execution_count": 89,
     "metadata": {},
     "output_type": "execute_result"
    }
   ],
   "source": [
    "l"
   ]
  },
  {
   "cell_type": "code",
   "execution_count": 98,
   "id": "187f303b",
   "metadata": {},
   "outputs": [
    {
     "name": "stdout",
     "output_type": "stream",
     "text": [
      "*******\n",
      " *****\n",
      "  ***\n",
      "   *\n"
     ]
    }
   ],
   "source": [
    "for i in range(7,-1,-2) :\n",
    "    print(' ' * ((7-i)//2)  + '*' * i)"
   ]
  },
  {
   "cell_type": "code",
   "execution_count": null,
   "id": "a533ae71",
   "metadata": {},
   "outputs": [],
   "source": [
    "*******\n",
    " *****\n",
    "  ***\n",
    "   *"
   ]
  },
  {
   "cell_type": "code",
   "execution_count": 103,
   "id": "249184e8",
   "metadata": {},
   "outputs": [],
   "source": [
    "def triangle(h) :\n",
    "    x = 2 * h - 1\n",
    "    for i in range(x,-1,-2) :\n",
    "        print(' ' * ((x-i)//2)  + '*' * i)"
   ]
  },
  {
   "cell_type": "code",
   "execution_count": 104,
   "id": "dd3ca95b",
   "metadata": {},
   "outputs": [
    {
     "name": "stdout",
     "output_type": "stream",
     "text": [
      "*************\n",
      " ***********\n",
      "  *********\n",
      "   *******\n",
      "    *****\n",
      "     ***\n",
      "      *\n"
     ]
    }
   ],
   "source": [
    "triangle(7)"
   ]
  },
  {
   "cell_type": "code",
   "execution_count": 111,
   "id": "6a6bab89",
   "metadata": {},
   "outputs": [],
   "source": [
    "def itriangle(h) :\n",
    "    x = 2 * h - 1\n",
    "    for i in range(-1,x+1,2) :\n",
    "        print(' ' * ((x-i)//2)  + '*' * i)"
   ]
  },
  {
   "cell_type": "code",
   "execution_count": 112,
   "id": "05f70e98",
   "metadata": {},
   "outputs": [
    {
     "name": "stdout",
     "output_type": "stream",
     "text": [
      "       \n",
      "      *\n",
      "     ***\n",
      "    *****\n",
      "   *******\n",
      "  *********\n",
      " ***********\n",
      "*************\n"
     ]
    }
   ],
   "source": [
    "itriangle(7)"
   ]
  },
  {
   "cell_type": "code",
   "execution_count": 113,
   "id": "2511e582",
   "metadata": {},
   "outputs": [],
   "source": [
    "x = (1,'s', 12.3)"
   ]
  },
  {
   "cell_type": "code",
   "execution_count": 114,
   "id": "737ca89a",
   "metadata": {},
   "outputs": [
    {
     "data": {
      "text/plain": [
       "(1, 's', 12.3)"
      ]
     },
     "execution_count": 114,
     "metadata": {},
     "output_type": "execute_result"
    }
   ],
   "source": [
    "x"
   ]
  },
  {
   "cell_type": "code",
   "execution_count": 115,
   "id": "ca1db8cb",
   "metadata": {},
   "outputs": [],
   "source": [
    " t = [('Ram', 23 , 3000) , ('Mohan' , 22 , 4000 ) , ( 'Suresh' , 19 , 8000)]"
   ]
  },
  {
   "cell_type": "code",
   "execution_count": 116,
   "id": "bc0c633a",
   "metadata": {},
   "outputs": [
    {
     "data": {
      "text/plain": [
       "('Ram', 23, 3000)"
      ]
     },
     "execution_count": 116,
     "metadata": {},
     "output_type": "execute_result"
    }
   ],
   "source": [
    "t[0]"
   ]
  },
  {
   "cell_type": "code",
   "execution_count": 117,
   "id": "1ffbafbd",
   "metadata": {},
   "outputs": [
    {
     "data": {
      "text/plain": [
       "23"
      ]
     },
     "execution_count": 117,
     "metadata": {},
     "output_type": "execute_result"
    }
   ],
   "source": [
    "t[0][1]"
   ]
  },
  {
   "cell_type": "code",
   "execution_count": 118,
   "id": "8ec64717",
   "metadata": {},
   "outputs": [
    {
     "data": {
      "text/plain": [
       "[('Mohan', 22, 4000), ('Ram', 23, 3000), ('Suresh', 19, 8000)]"
      ]
     },
     "execution_count": 118,
     "metadata": {},
     "output_type": "execute_result"
    }
   ],
   "source": [
    "sorted(t)"
   ]
  },
  {
   "cell_type": "code",
   "execution_count": 119,
   "id": "63e2e485",
   "metadata": {},
   "outputs": [
    {
     "data": {
      "text/plain": [
       "[('Ram', 23, 3000), ('Mohan', 22, 4000), ('Suresh', 19, 8000)]"
      ]
     },
     "execution_count": 119,
     "metadata": {},
     "output_type": "execute_result"
    }
   ],
   "source": [
    "t"
   ]
  },
  {
   "cell_type": "code",
   "execution_count": 120,
   "id": "82fd9f62",
   "metadata": {},
   "outputs": [
    {
     "data": {
      "text/plain": [
       "[('Mohan', 22, 4000), ('Ram', 23, 3000), ('Suresh', 19, 8000)]"
      ]
     },
     "execution_count": 120,
     "metadata": {},
     "output_type": "execute_result"
    }
   ],
   "source": [
    "sorted(t, key=lambda x:x[0])"
   ]
  },
  {
   "cell_type": "code",
   "execution_count": 121,
   "id": "93d4a8ce",
   "metadata": {},
   "outputs": [
    {
     "data": {
      "text/plain": [
       "[('Suresh', 19, 8000), ('Mohan', 22, 4000), ('Ram', 23, 3000)]"
      ]
     },
     "execution_count": 121,
     "metadata": {},
     "output_type": "execute_result"
    }
   ],
   "source": [
    "sorted(t, key=lambda x:x[1])"
   ]
  },
  {
   "cell_type": "code",
   "execution_count": 123,
   "id": "9e1fc394",
   "metadata": {},
   "outputs": [
    {
     "data": {
      "text/plain": [
       "[('Suresh', 19, 8000), ('Mohan', 22, 4000), ('Ram', 23, 3000)]"
      ]
     },
     "execution_count": 123,
     "metadata": {},
     "output_type": "execute_result"
    }
   ],
   "source": [
    "sorted(t, key=lambda x:x[2], reverse=True)"
   ]
  },
  {
   "cell_type": "code",
   "execution_count": 124,
   "id": "11a910d7",
   "metadata": {},
   "outputs": [],
   "source": [
    "s = \"Prayag\""
   ]
  },
  {
   "cell_type": "code",
   "execution_count": 125,
   "id": "1b8ef39c",
   "metadata": {},
   "outputs": [],
   "source": [
    "t = \"Sanjay\""
   ]
  },
  {
   "cell_type": "code",
   "execution_count": 126,
   "id": "1cf48852",
   "metadata": {},
   "outputs": [
    {
     "ename": "TypeError",
     "evalue": "unsupported operand type(s) for +: 'set' and 'set'",
     "output_type": "error",
     "traceback": [
      "\u001b[1;31m---------------------------------------------------------------------------\u001b[0m",
      "\u001b[1;31mTypeError\u001b[0m                                 Traceback (most recent call last)",
      "\u001b[1;32m<ipython-input-126-79ab4625e4de>\u001b[0m in \u001b[0;36m<module>\u001b[1;34m\u001b[0m\n\u001b[1;32m----> 1\u001b[1;33m \u001b[0mset\u001b[0m\u001b[1;33m(\u001b[0m\u001b[0ms\u001b[0m\u001b[1;33m)\u001b[0m \u001b[1;33m+\u001b[0m \u001b[0mset\u001b[0m\u001b[1;33m(\u001b[0m\u001b[0mt\u001b[0m\u001b[1;33m)\u001b[0m\u001b[1;33m\u001b[0m\u001b[1;33m\u001b[0m\u001b[0m\n\u001b[0m",
      "\u001b[1;31mTypeError\u001b[0m: unsupported operand type(s) for +: 'set' and 'set'"
     ]
    }
   ],
   "source": [
    "set(s) + set(t)"
   ]
  },
  {
   "cell_type": "code",
   "execution_count": 127,
   "id": "718d6a60",
   "metadata": {},
   "outputs": [
    {
     "data": {
      "text/plain": [
       "{'a', 'y'}"
      ]
     },
     "execution_count": 127,
     "metadata": {},
     "output_type": "execute_result"
    }
   ],
   "source": [
    "set(s) & set(t)"
   ]
  },
  {
   "cell_type": "code",
   "execution_count": 128,
   "id": "9e5673ca",
   "metadata": {},
   "outputs": [],
   "source": [
    "l = ['wood','old','apple','big','item','euphoria']"
   ]
  },
  {
   "cell_type": "code",
   "execution_count": 129,
   "id": "1426ce06",
   "metadata": {},
   "outputs": [
    {
     "data": {
      "text/plain": [
       "{'P', 'S', 'g', 'j', 'n', 'r'}"
      ]
     },
     "execution_count": 129,
     "metadata": {},
     "output_type": "execute_result"
    }
   ],
   "source": [
    "set(s) ^ set(t)"
   ]
  },
  {
   "cell_type": "code",
   "execution_count": 138,
   "id": "f1df9a31",
   "metadata": {},
   "outputs": [],
   "source": [
    "l = ['wOod','old','apple','big','item','euphoria']"
   ]
  },
  {
   "cell_type": "code",
   "execution_count": 143,
   "id": "3e2751e9",
   "metadata": {},
   "outputs": [],
   "source": [
    "wovels = 'aieou'\n",
    "def count_wovel(word) :\n",
    "    cnt = 0\n",
    "    word = word.lower()\n",
    "    for ch in wovels:\n",
    "        cnt += word.count(ch)\n",
    "    return cnt"
   ]
  },
  {
   "cell_type": "code",
   "execution_count": 144,
   "id": "8d1e3698",
   "metadata": {},
   "outputs": [
    {
     "data": {
      "text/plain": [
       "2"
      ]
     },
     "execution_count": 144,
     "metadata": {},
     "output_type": "execute_result"
    }
   ],
   "source": [
    "count_wovel(l[0])"
   ]
  },
  {
   "cell_type": "code",
   "execution_count": 145,
   "id": "15fe29bd",
   "metadata": {},
   "outputs": [
    {
     "name": "stdout",
     "output_type": "stream",
     "text": [
      "2\n",
      "1\n",
      "2\n",
      "1\n",
      "2\n",
      "5\n"
     ]
    }
   ],
   "source": [
    "for i in l:\n",
    "    print(count_wovel(i))"
   ]
  },
  {
   "cell_type": "code",
   "execution_count": 148,
   "id": "1e6cfc4c",
   "metadata": {},
   "outputs": [
    {
     "data": {
      "text/plain": [
       "Counter({'a': 1, 'b': 4, 'c': 1, 'e': 1, 'd': 4})"
      ]
     },
     "execution_count": 148,
     "metadata": {},
     "output_type": "execute_result"
    }
   ],
   "source": [
    "from collections import Counter\n",
    "s = \"abbbbcedddd\"\n",
    "#countd = dict(Counter(string))\n",
    "Counter(s)"
   ]
  },
  {
   "cell_type": "code",
   "execution_count": 151,
   "id": "c8d5536a",
   "metadata": {},
   "outputs": [
    {
     "name": "stdout",
     "output_type": "stream",
     "text": [
      "['s', 'a', 'n', 'j', 'a', 'y']\n"
     ]
    }
   ],
   "source": [
    "print(list(\"sanjay\"), sep='-')"
   ]
  },
  {
   "cell_type": "code",
   "execution_count": 153,
   "id": "0506de21",
   "metadata": {},
   "outputs": [
    {
     "data": {
      "text/plain": [
       "'s-a-n-j-a-y'"
      ]
     },
     "execution_count": 153,
     "metadata": {},
     "output_type": "execute_result"
    }
   ],
   "source": [
    "\"-\".join(\"sanjay\")"
   ]
  },
  {
   "cell_type": "code",
   "execution_count": 155,
   "id": "da44316c",
   "metadata": {},
   "outputs": [
    {
     "name": "stdout",
     "output_type": "stream",
     "text": [
      "s-a-n-j-a-y-"
     ]
    }
   ],
   "source": [
    "for c in \"sanjay\" :\n",
    "    print(c, end='-')"
   ]
  },
  {
   "cell_type": "code",
   "execution_count": 156,
   "id": "e22b23da",
   "metadata": {},
   "outputs": [
    {
     "name": "stdout",
     "output_type": "stream",
     "text": [
      "S-a-n\n"
     ]
    }
   ],
   "source": [
    "print(\"S\", \"a\", \"n\", sep=\"-\")"
   ]
  },
  {
   "cell_type": "code",
   "execution_count": null,
   "id": "e6f1946f",
   "metadata": {},
   "outputs": [],
   "source": []
  }
 ],
 "metadata": {
  "kernelspec": {
   "display_name": "Python 3",
   "language": "python",
   "name": "python3"
  },
  "language_info": {
   "codemirror_mode": {
    "name": "ipython",
    "version": 3
   },
   "file_extension": ".py",
   "mimetype": "text/x-python",
   "name": "python",
   "nbconvert_exporter": "python",
   "pygments_lexer": "ipython3",
   "version": "3.8.8"
  }
 },
 "nbformat": 4,
 "nbformat_minor": 5
}
