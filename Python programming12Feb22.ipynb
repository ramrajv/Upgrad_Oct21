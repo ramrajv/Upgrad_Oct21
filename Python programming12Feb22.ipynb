{
  "cells": [
    {
      "cell_type": "markdown",
      "metadata": {
        "id": "view-in-github",
        "colab_type": "text"
      },
      "source": [
        "<a href=\"https://colab.research.google.com/github/ramrajv/Upgrad_Oct21/blob/main/Python%20programming12Feb22.ipynb\" target=\"_parent\"><img src=\"https://colab.research.google.com/assets/colab-badge.svg\" alt=\"Open In Colab\"/></a>"
      ]
    },
    {
      "cell_type": "markdown",
      "id": "012eab56",
      "metadata": {
        "id": "012eab56"
      },
      "source": [
        "# python variables"
      ]
    },
    {
      "cell_type": "code",
      "execution_count": null,
      "id": "c51e474d",
      "metadata": {
        "id": "c51e474d",
        "outputId": "41ce1c3b-5895-4fbd-bccb-afbe757623bc"
      },
      "outputs": [
        {
          "name": "stdout",
          "output_type": "stream",
          "text": [
            "123 shantanu\n"
          ]
        }
      ],
      "source": [
        "x=123\n",
        "y='shantanu'\n",
        "print(x,y)"
      ]
    },
    {
      "cell_type": "code",
      "execution_count": null,
      "id": "bb1efb65",
      "metadata": {
        "id": "bb1efb65",
        "outputId": "4a8dce63-3d2c-43cc-befb-97f0c1d0fa49"
      },
      "outputs": [
        {
          "name": "stdout",
          "output_type": "stream",
          "text": [
            "3 3 3.0\n"
          ]
        }
      ],
      "source": [
        "x=str(3)\n",
        "y=int(3)\n",
        "z=float(3)\n",
        "print(x,y,z)"
      ]
    },
    {
      "cell_type": "code",
      "execution_count": null,
      "id": "ba814b98",
      "metadata": {
        "id": "ba814b98",
        "outputId": "30a9de1a-0514-45ad-f704-24feb5813ff2"
      },
      "outputs": [
        {
          "name": "stdout",
          "output_type": "stream",
          "text": [
            "<class 'str'>\n",
            "<class 'int'>\n",
            "<class 'float'>\n"
          ]
        }
      ],
      "source": [
        "# datatype check\n",
        "print(type(x))\n",
        "print(type(y))\n",
        "print(type(z))\n"
      ]
    },
    {
      "cell_type": "code",
      "execution_count": null,
      "id": "0dda53f8",
      "metadata": {
        "id": "0dda53f8",
        "outputId": "6d353f6f-35e6-4e9b-9ddc-924d8fb32e31"
      },
      "outputs": [
        {
          "name": "stdout",
          "output_type": "stream",
          "text": [
            "shantanu\n",
            "3\n",
            "8.78\n"
          ]
        }
      ],
      "source": [
        "#Python allows you to assign values to multiple variables in one line\n",
        "x,y,z='shantanu',3,8.78\n",
        "print(x)\n",
        "print(y)\n",
        "print(z)"
      ]
    },
    {
      "cell_type": "code",
      "execution_count": null,
      "id": "cc28ba1e",
      "metadata": {
        "id": "cc28ba1e",
        "outputId": "177ffc7e-b1de-4ddd-fb85-a758472507fd"
      },
      "outputs": [
        {
          "name": "stdout",
          "output_type": "stream",
          "text": [
            "shantanu\n",
            "3\n",
            "8.78\n"
          ]
        }
      ],
      "source": [
        "# If you have a collection of values in a list, tuple etc. Python allows you to extract the values into variables. This is called unpacking.\n",
        "fruits = ['orange','apple', 'grapes']\n",
        "fruits=x,y,z\n",
        "print(x)\n",
        "print(y)\n",
        "print(z)"
      ]
    },
    {
      "cell_type": "code",
      "execution_count": null,
      "id": "53793495",
      "metadata": {
        "id": "53793495",
        "outputId": "f4739edd-f059-4ccf-93b0-965827f05242"
      },
      "outputs": [
        {
          "name": "stdout",
          "output_type": "stream",
          "text": [
            "python is awesome\n"
          ]
        }
      ],
      "source": [
        "# The Python print statement is often used to output variables.\n",
        "#To combine both text and a variable, Python uses the + character:\n",
        "x='awesome'\n",
        "print('python is ' + x)"
      ]
    },
    {
      "cell_type": "code",
      "execution_count": null,
      "id": "88902a3f",
      "metadata": {
        "id": "88902a3f",
        "outputId": "ce56b65f-695b-43c0-c384-d74eff02e39e"
      },
      "outputs": [
        {
          "data": {
            "text/plain": [
              "'python is awesome'"
            ]
          },
          "execution_count": 118,
          "metadata": {},
          "output_type": "execute_result"
        }
      ],
      "source": [
        "#You can also use the + character to add a variable to another variable:\n",
        "x='python is '\n",
        "y='awesome'\n",
        "z=x+y\n",
        "z"
      ]
    },
    {
      "cell_type": "code",
      "execution_count": null,
      "id": "d5aa3e3f",
      "metadata": {
        "id": "d5aa3e3f",
        "outputId": "722565ac-404d-42f1-d269-52ae88b43a67"
      },
      "outputs": [
        {
          "name": "stdout",
          "output_type": "stream",
          "text": [
            "python is awesome\n"
          ]
        }
      ],
      "source": [
        "#Global Variables\n",
        "#Variables that are created outside of a function (as in all of the examples above) are known as global variables.\n",
        "#Global variables can be used by everyone, both inside of functions and outside.\n",
        "x='awesome'\n",
        "def myfunc():\n",
        "    print('python is ' + x)\n",
        "myfunc()\n",
        "    "
      ]
    },
    {
      "cell_type": "code",
      "execution_count": null,
      "id": "771da1bb",
      "metadata": {
        "id": "771da1bb",
        "outputId": "cdf840cd-e883-42a5-8839-ee931044a9a3"
      },
      "outputs": [
        {
          "name": "stdout",
          "output_type": "stream",
          "text": [
            "Python is fantastic\n",
            "Python is awesome\n"
          ]
        }
      ],
      "source": [
        "#Create a variable inside a function, with the same name as the global variable\n",
        "\n",
        "x = \"awesome\"\n",
        "def myfunc():\n",
        "  x = \"fantastic\"\n",
        "  print(\"Python is \" + x)\n",
        "myfunc()\n",
        "print(\"Python is \" + x)"
      ]
    },
    {
      "cell_type": "code",
      "execution_count": null,
      "id": "816cd757",
      "metadata": {
        "id": "816cd757",
        "outputId": "69deddf1-9636-4211-e07f-5abf19e7fa27"
      },
      "outputs": [
        {
          "name": "stdout",
          "output_type": "stream",
          "text": [
            "dress is fancy\n"
          ]
        }
      ],
      "source": [
        "#If you use the global keyword, the variable belongs to the global scope:\n",
        "def func():\n",
        "    global x\n",
        "    x='fancy'\n",
        "func()\n",
        "print('dress is ' + x)"
      ]
    },
    {
      "cell_type": "code",
      "execution_count": null,
      "id": "6b641966",
      "metadata": {
        "id": "6b641966",
        "outputId": "0cd0b936-ae17-4237-ef6d-6e24b44011c7"
      },
      "outputs": [
        {
          "name": "stdout",
          "output_type": "stream",
          "text": [
            "awesome\n",
            "fancy\n",
            "oh fancy\n"
          ]
        }
      ],
      "source": [
        "#To change the value of a global variable inside a function, refer to the variable by using the global keyword:\n",
        "\n",
        "x = \"awesome\"\n",
        "def func():\n",
        "    global x\n",
        "    x='fancy'\n",
        "    print(x)\n",
        "print(x)\n",
        "func()\n",
        "print('oh ' + x)"
      ]
    },
    {
      "cell_type": "markdown",
      "id": "b9fff21f",
      "metadata": {
        "id": "b9fff21f"
      },
      "source": [
        "# python datatypes"
      ]
    },
    {
      "cell_type": "raw",
      "id": "efd30243",
      "metadata": {
        "id": "efd30243"
      },
      "source": [
        "Built-in Data Types\n",
        "In programming, data type is an important concept.\n",
        "\n",
        "Variables can store data of different types, and different types can do different things.\n",
        "\n",
        "Python has the following data types built-in by default, in these categories:\n",
        "\n",
        "Text Type:\tstr\n",
        "Numeric Types:\tint, float, complex\n",
        "Sequence Types:\tlist, tuple, range\n",
        "Mapping Type:\tdict\n",
        "Set Types:\tset, frozenset\n",
        "Boolean Type:\tbool\n",
        "Binary Types:\tbytes, bytearray, memoryview"
      ]
    },
    {
      "cell_type": "code",
      "execution_count": null,
      "id": "3cccafd1",
      "metadata": {
        "id": "3cccafd1",
        "outputId": "d87b32d1-6ef7-42a0-f6d3-d66e9e83edb3"
      },
      "outputs": [
        {
          "name": "stdout",
          "output_type": "stream",
          "text": [
            "<class 'float'>\n"
          ]
        }
      ],
      "source": [
        "x=5.7\n",
        "print(type(x))"
      ]
    },
    {
      "cell_type": "markdown",
      "id": "9234b479",
      "metadata": {
        "id": "9234b479"
      },
      "source": [
        "# python  numbers"
      ]
    },
    {
      "cell_type": "raw",
      "id": "6d028d61",
      "metadata": {
        "id": "6d028d61"
      },
      "source": [
        "There are three numeric types in Python:\n",
        "int\n",
        "float\n",
        "complex"
      ]
    },
    {
      "cell_type": "code",
      "execution_count": null,
      "id": "6acde51c",
      "metadata": {
        "id": "6acde51c",
        "outputId": "73c84d96-9e66-4548-efd9-556120667b80"
      },
      "outputs": [
        {
          "name": "stdout",
          "output_type": "stream",
          "text": [
            "<class 'int'>\n",
            "<class 'float'>\n",
            "<class 'complex'>\n",
            "<class 'str'>\n"
          ]
        }
      ],
      "source": [
        "x=2\n",
        "y=2.2\n",
        "z=1j\n",
        "k='make'\n",
        "print(type(x))\n",
        "print(type(y))\n",
        "print(type(z))\n",
        "print(type(k))"
      ]
    },
    {
      "cell_type": "code",
      "execution_count": null,
      "id": "88c4201a",
      "metadata": {
        "id": "88c4201a",
        "outputId": "87675c4b-8235-48b4-cb53-89c86483c930"
      },
      "outputs": [
        {
          "name": "stdout",
          "output_type": "stream",
          "text": [
            "6\n"
          ]
        }
      ],
      "source": [
        "#Random Number\n",
        "# Python does not have a random() function to make a random number\n",
        "# but Python has a built-in module called random that can be used to make random numbers:\n",
        "import random\n",
        "print(random.randrange(1,10))"
      ]
    },
    {
      "cell_type": "code",
      "execution_count": null,
      "id": "284774fa",
      "metadata": {
        "id": "284774fa",
        "outputId": "b477c3c2-d351-4129-adad-1504124e7af1"
      },
      "outputs": [
        {
          "name": "stdout",
          "output_type": "stream",
          "text": [
            "123\n",
            "12.4\n",
            "23\n"
          ]
        }
      ],
      "source": [
        "# python casting\n",
        "#There may be times when you want to specify a type on to a variable. This can be done with casting. \n",
        "#Python is an object-orientated language, and as such it uses classes to define data types, including its primitive types.\n",
        "x='123'\n",
        "print(int(x))\n",
        "y='12.4'\n",
        "print(float(y))\n",
        "z=23\n",
        "print(str(z))"
      ]
    },
    {
      "cell_type": "markdown",
      "id": "5ec7c1fc",
      "metadata": {
        "id": "5ec7c1fc"
      },
      "source": [
        "# python strings"
      ]
    },
    {
      "cell_type": "code",
      "execution_count": null,
      "id": "68e5fcca",
      "metadata": {
        "id": "68e5fcca",
        "outputId": "a710d18f-c70a-48da-bf0f-8cbf3d680aab"
      },
      "outputs": [
        {
          "name": "stdout",
          "output_type": "stream",
          "text": [
            "e\n"
          ]
        }
      ],
      "source": [
        "a= 'Hello World'\n",
        "print(a[1])"
      ]
    },
    {
      "cell_type": "code",
      "execution_count": null,
      "id": "6c8bbdab",
      "metadata": {
        "id": "6c8bbdab",
        "outputId": "3e57b2e3-8c6c-4e5c-ca15-3e86965a2c54"
      },
      "outputs": [
        {
          "name": "stdout",
          "output_type": "stream",
          "text": [
            "b\n",
            "a\n",
            "n\n",
            "a\n",
            "n\n",
            "a\n"
          ]
        }
      ],
      "source": [
        "# looping through a string\n",
        "for x in 'banana':\n",
        "    print(x)"
      ]
    },
    {
      "cell_type": "code",
      "execution_count": null,
      "id": "70b45577",
      "metadata": {
        "id": "70b45577",
        "outputId": "39eff376-17e2-433d-bf9e-9bbf9b9aa7f3"
      },
      "outputs": [
        {
          "name": "stdout",
          "output_type": "stream",
          "text": [
            "8\n"
          ]
        }
      ],
      "source": [
        "# string length\n",
        "a= 'shantanu'\n",
        "print(len(a))"
      ]
    },
    {
      "cell_type": "code",
      "execution_count": null,
      "id": "90f011c5",
      "metadata": {
        "id": "90f011c5",
        "outputId": "e707a96d-6cd7-47ce-f08a-32dd0793990a"
      },
      "outputs": [
        {
          "name": "stdout",
          "output_type": "stream",
          "text": [
            "True\n"
          ]
        }
      ],
      "source": [
        "#Check if \"free\" is present in the following text:\n",
        "txt = \"The best things in life are free!\"\n",
        "print(\"free\" in txt)"
      ]
    },
    {
      "cell_type": "code",
      "execution_count": null,
      "id": "d926ba44",
      "metadata": {
        "id": "d926ba44",
        "outputId": "d4fe6166-6ee6-4768-b6c4-80a8b1372286"
      },
      "outputs": [
        {
          "name": "stdout",
          "output_type": "stream",
          "text": [
            "Yes, 'free' is present.\n"
          ]
        }
      ],
      "source": [
        "#Use it in an if statement:\n",
        "txt = \"The best things in life are free!\"\n",
        "if \"free\" in txt:\n",
        "  print(\"Yes, 'free' is present.\")"
      ]
    },
    {
      "cell_type": "code",
      "execution_count": null,
      "id": "c6a0e01d",
      "metadata": {
        "id": "c6a0e01d",
        "outputId": "0a76b8b4-9ed2-4c68-bb71-3d40c00ff1f6"
      },
      "outputs": [
        {
          "name": "stdout",
          "output_type": "stream",
          "text": [
            "True\n"
          ]
        }
      ],
      "source": [
        "#Check if NOT\n",
        "txt = \"The best things in life are free!\"\n",
        "print(\"expensive\" not in txt)"
      ]
    },
    {
      "cell_type": "code",
      "execution_count": null,
      "id": "8a4b3eac",
      "metadata": {
        "id": "8a4b3eac",
        "outputId": "d9b37a73-921d-4c1b-c9b1-b5089f6c386a"
      },
      "outputs": [
        {
          "name": "stdout",
          "output_type": "stream",
          "text": [
            "No, 'expensive' is NOT present.\n"
          ]
        }
      ],
      "source": [
        "#Use it in an if statement:\n",
        "txt = \"The best things in life are free!\"\n",
        "if \"expensive\" not in txt:\n",
        "  print(\"No, 'expensive' is NOT present.\")"
      ]
    },
    {
      "cell_type": "markdown",
      "id": "b25fd1f1",
      "metadata": {
        "id": "b25fd1f1"
      },
      "source": [
        "# string Slicing"
      ]
    },
    {
      "cell_type": "code",
      "execution_count": null,
      "id": "49a2bf50",
      "metadata": {
        "id": "49a2bf50",
        "outputId": "bb0104c8-0b10-41af-92fa-22ad0713d48a"
      },
      "outputs": [
        {
          "name": "stdout",
          "output_type": "stream",
          "text": [
            "llo\n",
            "Hello\n",
            "Hello world\n",
            "Hello world\n",
            "Hello worl\n",
            "wor\n",
            "Hlowrd\n"
          ]
        }
      ],
      "source": [
        "a='Hello world'\n",
        "print(a[2:5])\n",
        "print(a[:5])\n",
        "print(a[:])\n",
        "print(a[0:])\n",
        "print(a[:-1])\n",
        "print(a[-5:-2])\n",
        "print(a[0:12:2])"
      ]
    },
    {
      "cell_type": "markdown",
      "id": "8a662e95",
      "metadata": {
        "id": "8a662e95"
      },
      "source": [
        "# modifying strings"
      ]
    },
    {
      "cell_type": "code",
      "execution_count": null,
      "id": "70195a9a",
      "metadata": {
        "id": "70195a9a",
        "outputId": "d8ebc3f8-9d37-49ed-f6e5-969be432fa4a"
      },
      "outputs": [
        {
          "name": "stdout",
          "output_type": "stream",
          "text": [
            "HELLO, WORLD\n",
            "hello, world\n"
          ]
        }
      ],
      "source": [
        "a='Hello, World'\n",
        "print(a.upper())\n",
        "print(a.lower())"
      ]
    },
    {
      "cell_type": "code",
      "execution_count": null,
      "id": "f0bd33bb",
      "metadata": {
        "id": "f0bd33bb",
        "outputId": "d6b6021a-b04f-4678-9869-5ecb370212d8"
      },
      "outputs": [
        {
          "name": "stdout",
          "output_type": "stream",
          "text": [
            "Hello, World!\n"
          ]
        }
      ],
      "source": [
        "# Remove Whitespace\n",
        "a='Hello, World!     '\n",
        "print(a.strip())"
      ]
    },
    {
      "cell_type": "code",
      "execution_count": null,
      "id": "abb45aa4",
      "metadata": {
        "id": "abb45aa4",
        "outputId": "40cef738-54e2-48ce-b082-16069ccf7bbe"
      },
      "outputs": [
        {
          "name": "stdout",
          "output_type": "stream",
          "text": [
            "Jello, World\n"
          ]
        }
      ],
      "source": [
        "# replace string\n",
        "a='Hello, World'\n",
        "print(a.replace('H','J'))"
      ]
    },
    {
      "cell_type": "code",
      "execution_count": null,
      "id": "d713dd6b",
      "metadata": {
        "id": "d713dd6b",
        "outputId": "fa1efa91-ec9f-4b58-a23f-1a77b8c8781f"
      },
      "outputs": [
        {
          "name": "stdout",
          "output_type": "stream",
          "text": [
            "['Hello', ' World!']\n"
          ]
        }
      ],
      "source": [
        "#Split String\n",
        "#The split() method returns a list where the text between the specified separator becomes the list items.\n",
        "#The split() method splits the string into substrings if it finds instances of the separator:\n",
        "a = \"Hello, World!\"\n",
        "print(a.split(','))"
      ]
    },
    {
      "cell_type": "markdown",
      "id": "2927f411",
      "metadata": {
        "id": "2927f411"
      },
      "source": [
        "# String concatenation"
      ]
    },
    {
      "cell_type": "code",
      "execution_count": null,
      "id": "513f190a",
      "metadata": {
        "id": "513f190a",
        "outputId": "09dc4406-c205-437b-8f26-395bfc9bac70"
      },
      "outputs": [
        {
          "name": "stdout",
          "output_type": "stream",
          "text": [
            "helloworld\n"
          ]
        }
      ],
      "source": [
        "a = 'hello'\n",
        "b = 'world'\n",
        "print(a+b)"
      ]
    },
    {
      "cell_type": "code",
      "execution_count": null,
      "id": "89d27cad",
      "metadata": {
        "id": "89d27cad",
        "outputId": "e426d2fd-a861-4c79-ade6-235240813cd5"
      },
      "outputs": [
        {
          "name": "stdout",
          "output_type": "stream",
          "text": [
            "Hello World\n"
          ]
        }
      ],
      "source": [
        "a = \"Hello\"\n",
        "b = \"World\"\n",
        "c = a + \" \" + b\n",
        "print(c)"
      ]
    },
    {
      "cell_type": "markdown",
      "id": "8fd03251",
      "metadata": {
        "id": "8fd03251"
      },
      "source": [
        "# string format"
      ]
    },
    {
      "cell_type": "code",
      "execution_count": null,
      "id": "297d3261",
      "metadata": {
        "id": "297d3261",
        "outputId": "6216de2e-1b72-450f-90d2-915a86b7bbcd"
      },
      "outputs": [
        {
          "ename": "TypeError",
          "evalue": "can only concatenate str (not \"int\") to str",
          "output_type": "error",
          "traceback": [
            "\u001b[1;31m---------------------------------------------------------------------------\u001b[0m",
            "\u001b[1;31mTypeError\u001b[0m                                 Traceback (most recent call last)",
            "\u001b[1;32m<ipython-input-141-0b96ee4484a3>\u001b[0m in \u001b[0;36m<module>\u001b[1;34m\u001b[0m\n\u001b[0;32m      1\u001b[0m \u001b[0mage\u001b[0m \u001b[1;33m=\u001b[0m \u001b[1;36m36\u001b[0m\u001b[1;33m\u001b[0m\u001b[1;33m\u001b[0m\u001b[0m\n\u001b[1;32m----> 2\u001b[1;33m \u001b[0mtxt\u001b[0m \u001b[1;33m=\u001b[0m \u001b[1;34m\"My name is John, I am \"\u001b[0m \u001b[1;33m+\u001b[0m \u001b[0mage\u001b[0m\u001b[1;33m\u001b[0m\u001b[1;33m\u001b[0m\u001b[0m\n\u001b[0m\u001b[0;32m      3\u001b[0m \u001b[0mprint\u001b[0m\u001b[1;33m(\u001b[0m\u001b[0mtxt\u001b[0m\u001b[1;33m)\u001b[0m\u001b[1;33m\u001b[0m\u001b[1;33m\u001b[0m\u001b[0m\n\u001b[0;32m      4\u001b[0m \u001b[1;31m#As we learned in the Python Variables chapter, we cannot combine strings and numbers like this\u001b[0m\u001b[1;33m\u001b[0m\u001b[1;33m\u001b[0m\u001b[1;33m\u001b[0m\u001b[0m\n\u001b[0;32m      5\u001b[0m \u001b[1;31m#But we can combine strings and numbers by using the format() method!\u001b[0m\u001b[1;33m\u001b[0m\u001b[1;33m\u001b[0m\u001b[1;33m\u001b[0m\u001b[0m\n",
            "\u001b[1;31mTypeError\u001b[0m: can only concatenate str (not \"int\") to str"
          ]
        }
      ],
      "source": [
        "age = 36\n",
        "txt = \"My name is John, I am \" + age\n",
        "print(txt)\n",
        "#As we learned in the Python Variables chapter, we cannot combine strings and numbers like this\n",
        "#But we can combine strings and numbers by using the format() method!"
      ]
    },
    {
      "cell_type": "code",
      "execution_count": null,
      "id": "26d5bb95",
      "metadata": {
        "id": "26d5bb95",
        "outputId": "3c59985b-cdf8-4ef4-f08f-eb0e52b192b1"
      },
      "outputs": [
        {
          "name": "stdout",
          "output_type": "stream",
          "text": [
            "My name is John, and I am 36\n"
          ]
        }
      ],
      "source": [
        "age = 36\n",
        "txt = \"My name is John, and I am {}\"\n",
        "print(txt.format(age))"
      ]
    },
    {
      "cell_type": "code",
      "execution_count": null,
      "id": "12dc7383",
      "metadata": {
        "id": "12dc7383",
        "outputId": "e486a6a9-da7f-4db8-d19c-812ed89acc63"
      },
      "outputs": [
        {
          "name": "stdout",
          "output_type": "stream",
          "text": [
            "I want 3 pieces of item 567 for 49.95 dollars.\n"
          ]
        }
      ],
      "source": [
        "quantity = 3\n",
        "itemno = 567\n",
        "price = 49.95\n",
        "myorder = \"I want {} pieces of item {} for {} dollars.\"\n",
        "print(myorder.format(quantity, itemno, price))"
      ]
    },
    {
      "cell_type": "code",
      "execution_count": null,
      "id": "65fe370a",
      "metadata": {
        "id": "65fe370a",
        "outputId": "46837f7a-79cc-444a-d9a4-2a90db61fff0"
      },
      "outputs": [
        {
          "name": "stdout",
          "output_type": "stream",
          "text": [
            "I want to pay 49.95 dollars for 3 pieces of item 567.\n"
          ]
        }
      ],
      "source": [
        "quantity = 3\n",
        "itemno = 567\n",
        "price = 49.95\n",
        "myorder = \"I want to pay {2} dollars for {0} pieces of item {1}.\"\n",
        "print(myorder.format(quantity, itemno, price)) "
      ]
    },
    {
      "cell_type": "markdown",
      "id": "7558880e",
      "metadata": {
        "id": "7558880e"
      },
      "source": [
        "# python escape characters"
      ]
    },
    {
      "cell_type": "code",
      "execution_count": null,
      "id": "29867df1",
      "metadata": {
        "id": "29867df1",
        "outputId": "6f0a35e1-f81e-4d36-ede8-47b62ba9d4b8"
      },
      "outputs": [
        {
          "ename": "SyntaxError",
          "evalue": "invalid syntax (<ipython-input-145-0e36e074fa4e>, line 1)",
          "output_type": "error",
          "traceback": [
            "\u001b[1;36m  File \u001b[1;32m\"<ipython-input-145-0e36e074fa4e>\"\u001b[1;36m, line \u001b[1;32m1\u001b[0m\n\u001b[1;33m    txt = \"We are the so-called \"Vikings\" from the north.\"\u001b[0m\n\u001b[1;37m                                 ^\u001b[0m\n\u001b[1;31mSyntaxError\u001b[0m\u001b[1;31m:\u001b[0m invalid syntax\n"
          ]
        }
      ],
      "source": [
        "txt = \"We are the so-called \"Vikings\" from the north.\"\n",
        "print(txt)\n",
        "#You will get an error if you use double quotes inside a string that is surrounded by double quotes\n",
        "#The escape character allows you to use double quotes when you normally would not be allowed:"
      ]
    },
    {
      "cell_type": "code",
      "execution_count": null,
      "id": "32aa7bb3",
      "metadata": {
        "id": "32aa7bb3",
        "outputId": "7d36b0cd-7cf7-45c1-883d-1ed22b81c4cd"
      },
      "outputs": [
        {
          "name": "stdout",
          "output_type": "stream",
          "text": [
            "We are the so-called \"Vikings\" from the north.\n"
          ]
        }
      ],
      "source": [
        "txt = \"We are the so-called \\\"Vikings\\\" from the north.\"\n",
        "print(txt)"
      ]
    },
    {
      "cell_type": "raw",
      "id": "a20c1b96",
      "metadata": {
        "id": "a20c1b96"
      },
      "source": [
        "Escape Characters\n",
        "Other escape characters used in Python:\n",
        "\\'\tSingle Quote\t\n",
        "\\\\\tBackslash\t\n",
        "\\n\tNew Line\t\n",
        "\\r\tCarriage Return\t\n",
        "\\t\tTab\t\n",
        "\\b\tBackspace\t\n",
        "\\f\tForm Feed\t\n",
        "\\ooo\tOctal value\t\n",
        "\\xhh\tHex value"
      ]
    },
    {
      "cell_type": "markdown",
      "id": "d0c97fb6",
      "metadata": {
        "id": "d0c97fb6"
      },
      "source": [
        "# string methods"
      ]
    },
    {
      "cell_type": "raw",
      "id": "8bc1ba3d",
      "metadata": {
        "id": "8bc1ba3d"
      },
      "source": [
        "Python has a set of built-in methods that you can use on strings\n",
        "Method\tDescription\n",
        "capitalize()\tConverts the first character to upper case\n",
        "casefold()\tConverts string into lower case\n",
        "center()\tReturns a centered string\n",
        "count()\tReturns the number of times a specified value occurs in a string\n",
        "encode()\tReturns an encoded version of the string\n",
        "endswith()\tReturns true if the string ends with the specified value\n",
        "expandtabs()\tSets the tab size of the string\n",
        "find()\tSearches the string for a specified value and returns the position of where it was found\n",
        "format()\tFormats specified values in a string\n",
        "format_map()\tFormats specified values in a string\n",
        "index()\tSearches the string for a specified value and returns the position of where it was found\n",
        "isalnum()\tReturns True if all characters in the string are alphanumeric\n",
        "isalpha()\tReturns True if all characters in the string are in the alphabet\n",
        "isdecimal()\tReturns True if all characters in the string are decimals\n",
        "isdigit()\tReturns True if all characters in the string are digits\n",
        "isidentifier()\tReturns True if the string is an identifier\n",
        "islower()\tReturns True if all characters in the string are lower case\n",
        "isnumeric()\tReturns True if all characters in the string are numeric\n",
        "isprintable()\tReturns True if all characters in the string are printable\n",
        "isspace()\tReturns True if all characters in the string are whitespaces\n",
        "istitle()\tReturns True if the string follows the rules of a title\n",
        "isupper()\tReturns True if all characters in the string are upper case\n",
        "join()\tJoins the elements of an iterable to the end of the string\n",
        "ljust()\tReturns a left justified version of the string\n",
        "lower()\tConverts a string into lower case\n",
        "lstrip()\tReturns a left trim version of the string\n",
        "maketrans()\tReturns a translation table to be used in translations\n",
        "partition()\tReturns a tuple where the string is parted into three parts\n",
        "replace()\tReturns a string where a specified value is replaced with a specified value\n",
        "rfind()\tSearches the string for a specified value and returns the last position of where it was found\n",
        "rindex()\tSearches the string for a specified value and returns the last position of where it was found\n",
        "rjust()\tReturns a right justified version of the string\n",
        "rpartition()\tReturns a tuple where the string is parted into three parts\n",
        "rsplit()\tSplits the string at the specified separator, and returns a list\n",
        "rstrip()\tReturns a right trim version of the string\n",
        "split()\tSplits the string at the specified separator, and returns a list\n",
        "splitlines()\tSplits the string at line breaks and returns a list\n",
        "startswith()\tReturns true if the string starts with the specified value\n",
        "strip()\tReturns a trimmed version of the string\n",
        "swapcase()\tSwaps cases, lower case becomes upper case and vice versa\n",
        "title()\tConverts the first character of each word to upper case\n",
        "translate()\tReturns a translated string\n",
        "upper()\tConverts a string into upper case\n",
        "zfill()\tFills the string with a specified number of 0 values at the beginning"
      ]
    },
    {
      "cell_type": "markdown",
      "id": "ab8e10b2",
      "metadata": {
        "id": "ab8e10b2"
      },
      "source": [
        "# python Booleans"
      ]
    },
    {
      "cell_type": "code",
      "execution_count": null,
      "id": "7402d356",
      "metadata": {
        "id": "7402d356",
        "outputId": "bb313e99-8c0c-4430-d090-51f30c578a6a"
      },
      "outputs": [
        {
          "name": "stdout",
          "output_type": "stream",
          "text": [
            "True\n",
            "False\n",
            "False\n"
          ]
        }
      ],
      "source": [
        "print(10 > 9)\n",
        "print(10 == 9)\n",
        "print(10 < 9)"
      ]
    },
    {
      "cell_type": "code",
      "execution_count": null,
      "id": "df766f92",
      "metadata": {
        "id": "df766f92",
        "outputId": "0cbb3fa3-6bf2-4d1c-d3bd-eac6c40e8850"
      },
      "outputs": [
        {
          "name": "stdout",
          "output_type": "stream",
          "text": [
            "b is not greater than a\n"
          ]
        }
      ],
      "source": [
        "a = 200\n",
        "b = 33\n",
        "if b > a:\n",
        "  print(\"b is greater than a\")\n",
        "else:\n",
        "  print(\"b is not greater than a\")"
      ]
    },
    {
      "cell_type": "code",
      "execution_count": null,
      "id": "769db206",
      "metadata": {
        "id": "769db206",
        "outputId": "8e4bec00-fc5e-4b81-bed3-5ab840efc026"
      },
      "outputs": [
        {
          "name": "stdout",
          "output_type": "stream",
          "text": [
            "True\n",
            "True\n"
          ]
        }
      ],
      "source": [
        "print(bool(\"Hello\"))\n",
        "print(bool(15))"
      ]
    },
    {
      "cell_type": "code",
      "execution_count": null,
      "id": "633403d7",
      "metadata": {
        "id": "633403d7",
        "outputId": "7fc0c680-c9cc-4864-8789-34bce08a0b20"
      },
      "outputs": [
        {
          "name": "stdout",
          "output_type": "stream",
          "text": [
            "False\n",
            "False\n",
            "False\n",
            "False\n",
            "False\n",
            "False\n",
            "False\n"
          ]
        }
      ],
      "source": [
        "print(bool(False))\n",
        "print(bool(None))\n",
        "print(bool(0))\n",
        "print(bool(\"\"))\n",
        "print(bool(()))\n",
        "print(bool([]))\n",
        "print(bool({}))"
      ]
    },
    {
      "cell_type": "code",
      "execution_count": null,
      "id": "7c8b147c",
      "metadata": {
        "id": "7c8b147c",
        "outputId": "63dfab2b-18b0-4b65-a837-63423ea65da4"
      },
      "outputs": [
        {
          "name": "stdout",
          "output_type": "stream",
          "text": [
            "False\n"
          ]
        }
      ],
      "source": [
        "# One more value, or object in this case, evaluates to False, and that is if you have an object that is made from a class with a __len__ function that returns 0 or False:\n",
        "\n",
        "class myclass():\n",
        "  def __len__(self):\n",
        "    return 0\n",
        "\n",
        "myobj = myclass()\n",
        "print(bool(myobj))"
      ]
    },
    {
      "cell_type": "code",
      "execution_count": null,
      "id": "de57e2e3",
      "metadata": {
        "id": "de57e2e3",
        "outputId": "a1b8bd89-2372-455f-9a80-9c1c374459c5"
      },
      "outputs": [
        {
          "data": {
            "text/plain": [
              "True"
            ]
          },
          "execution_count": 152,
          "metadata": {},
          "output_type": "execute_result"
        }
      ],
      "source": [
        "#Functions can Return a Boolean\n",
        "#You can create functions that returns a Boolean Value:\n",
        "def func():\n",
        "    return True\n",
        "func()"
      ]
    },
    {
      "cell_type": "code",
      "execution_count": null,
      "id": "9d86630b",
      "metadata": {
        "id": "9d86630b",
        "outputId": "9112769c-eec7-462e-ec22-9ee217e63875"
      },
      "outputs": [
        {
          "name": "stdout",
          "output_type": "stream",
          "text": [
            "Yes\n"
          ]
        }
      ],
      "source": [
        "def func():\n",
        "    return True\n",
        "if func():\n",
        "    print('Yes')\n",
        "else:\n",
        "    print('No')"
      ]
    },
    {
      "cell_type": "code",
      "execution_count": null,
      "id": "5b505fba",
      "metadata": {
        "id": "5b505fba",
        "outputId": "b6c40aae-6325-4719-e8ec-d132458b36ed"
      },
      "outputs": [
        {
          "name": "stdout",
          "output_type": "stream",
          "text": [
            "True\n"
          ]
        }
      ],
      "source": [
        "#Python also has many built-in functions that return a boolean value, like the isinstance() function, which can be used to determine if an object is of a certain data type\n",
        "x=200\n",
        "print(isinstance(x,int))"
      ]
    },
    {
      "cell_type": "markdown",
      "id": "b21c749b",
      "metadata": {
        "id": "b21c749b"
      },
      "source": [
        "# python operators"
      ]
    },
    {
      "cell_type": "raw",
      "id": "aae150e1",
      "metadata": {
        "id": "aae150e1"
      },
      "source": [
        "Python Arithmetic Operators\n",
        "Arithmetic operators are used with numeric values to perform common mathematical operations:\n",
        "\n",
        "Operator\tName\tExample\n",
        "+\tAddition\tx + y\t\n",
        "-\tSubtraction\tx - y\t\n",
        "*\tMultiplication\tx * y\t\n",
        "/\tDivision\tx / y\t\n",
        "%\tModulus\tx % y\t\n",
        "**\tExponentiation\tx ** y\t\n",
        "//\tFloor division\tx // y"
      ]
    },
    {
      "cell_type": "raw",
      "id": "37fbb314",
      "metadata": {
        "id": "37fbb314"
      },
      "source": [
        "Python Assignment Operators\n",
        "Assignment operators are used to assign values to variables:\n",
        "\n",
        "Operator\tExample\tSame As\n",
        "=\tx = 5\tx = 5\t\n",
        "+=\tx += 3\tx = x + 3\t\n",
        "-=\tx -= 3\tx = x - 3\t\n",
        "*=\tx *= 3\tx = x * 3\t\n",
        "/=\tx /= 3\tx = x / 3\t\n",
        "%=\tx %= 3\tx = x % 3\t\n",
        "//=\tx //= 3\tx = x // 3\t\n",
        "**=\tx **= 3\tx = x ** 3\t\n",
        "&=\tx &= 3\tx = x & 3\t\n",
        "|=\tx |= 3\tx = x | 3\t\n",
        "^=\tx ^= 3\tx = x ^ 3\t\n",
        ">>=\tx >>= 3\tx = x >> 3\t\n",
        "<<=\tx <<= 3\tx = x << 3\t"
      ]
    },
    {
      "cell_type": "raw",
      "id": "f8c377b5",
      "metadata": {
        "id": "f8c377b5"
      },
      "source": [
        "Python Comparison Operators\n",
        "Comparison operators are used to compare two values:\n",
        "\n",
        "Operator\tName\tExample\n",
        "==\tEqual\tx == y\t\n",
        "!=\tNot equal\tx != y\t\n",
        ">\tGreater than\tx > y\t\n",
        "<\tLess than\tx < y\t\n",
        ">=\tGreater than or equal to\tx >= y\t\n",
        "<=\tLess than or equal to\tx <= y"
      ]
    },
    {
      "cell_type": "raw",
      "id": "e76e5ecd",
      "metadata": {
        "id": "e76e5ecd"
      },
      "source": [
        "Python Logical Operators\n",
        "Logical operators are used to combine conditional statements:\n",
        "\n",
        "Operator\tDescription\tExample\tTry it\n",
        "and \tReturns True if both statements are true\tx < 5 and  x < 10\t\n",
        "or\tReturns True if one of the statements is true\tx < 5 or x < 4\t\n",
        "not\tReverse the result, returns False if the result is true\tnot(x < 5 and x < 10)\t\n",
        "Python Identity Operators\n",
        "Identity operators are used to compare the objects, not if they are equal, but if they are actually the same object, with the same memory location:\n",
        "\n",
        "Operator\tDescription\tExample\tTry it\n",
        "is \tReturns True if both variables are the same object\tx is y\t\n",
        "is not\tReturns True if both variables are not the same object\tx is not y\t\n",
        "Python Membership Operators\n",
        "Membership operators are used to test if a sequence is presented in an object:\n",
        "\n",
        "Operator\tDescription\tExample\tTry it\n",
        "in \tReturns True if a sequence with the specified value is present in the object\tx in y\t\n",
        "not in\tReturns True if a sequence with the specified value is not present in the object\tx not in y\t\n",
        "Python Bitwise Operators\n",
        "Bitwise operators are used to compare (binary) numbers:\n",
        "\n",
        "Operator\tName\tDescription\n",
        "& \tAND\tSets each bit to 1 if both bits are 1\n",
        "|\tOR\tSets each bit to 1 if one of two bits is 1\n",
        " ^\tXOR\tSets each bit to 1 if only one of two bits is 1\n",
        "~ \tNOT\tInverts all the bits\n",
        "<<\tZero fill left shift\tShift left by pushing zeros in from the right and let the leftmost bits fall off\n",
        ">>\tSigned right shift\tShift right by pushing copies of the leftmost bit in from the left, and let the rightmost bits fall off"
      ]
    },
    {
      "cell_type": "markdown",
      "id": "a1c728db",
      "metadata": {
        "id": "a1c728db"
      },
      "source": [
        "# python lists"
      ]
    },
    {
      "cell_type": "code",
      "execution_count": null,
      "id": "eabd8ac8",
      "metadata": {
        "id": "eabd8ac8",
        "outputId": "03f70ea0-c2fd-4f10-f2fb-0d8ee41378aa"
      },
      "outputs": [
        {
          "data": {
            "text/plain": [
              "['grapes', 'banana', 'orange']"
            ]
          },
          "execution_count": 155,
          "metadata": {},
          "output_type": "execute_result"
        }
      ],
      "source": [
        "mylist=['grapes','banana','orange']\n",
        "mylist"
      ]
    },
    {
      "cell_type": "code",
      "execution_count": 1,
      "id": "23d94229",
      "metadata": {
        "colab": {
          "base_uri": "https://localhost:8080/"
        },
        "id": "23d94229",
        "outputId": "edeea4e6-7de7-41a8-e0a7-f13ebc115ad4"
      },
      "outputs": [
        {
          "output_type": "stream",
          "name": "stdout",
          "text": [
            "3\n"
          ]
        }
      ],
      "source": [
        "# list length\n",
        "mylist=['shan','banana','orange']\n",
        "print(len(mylist))"
      ]
    },
    {
      "cell_type": "code",
      "execution_count": null,
      "id": "4d393932",
      "metadata": {
        "id": "4d393932",
        "outputId": "e8541c55-e59f-4ed8-83ca-15bd1812d420"
      },
      "outputs": [
        {
          "name": "stdout",
          "output_type": "stream",
          "text": [
            "<class 'list'>\n"
          ]
        }
      ],
      "source": [
        "mylist=['shan','banana','orange']\n",
        "print(type(mylist))"
      ]
    },
    {
      "cell_type": "code",
      "execution_count": null,
      "id": "8f1f87ed",
      "metadata": {
        "id": "8f1f87ed",
        "outputId": "f20bff02-3628-45fc-cc33-dae7e141b25a"
      },
      "outputs": [
        {
          "name": "stdout",
          "output_type": "stream",
          "text": [
            "['papaya', 'watermelon', 'grapes']\n"
          ]
        }
      ],
      "source": [
        "createlist = list(('papaya','watermelon','grapes'))\n",
        "print(createlist)"
      ]
    },
    {
      "cell_type": "markdown",
      "id": "12fc9b58",
      "metadata": {
        "id": "12fc9b58"
      },
      "source": [
        "Python Collections (Arrays)\n",
        "There are four collection data types in the Python programming language:\n",
        "\n",
        "List is a collection which is ordered and changeable. Allows duplicate members.\n",
        "Tuple is a collection which is ordered and unchangeable. Allows duplicate members.\n",
        "Set is a collection which is unordered, unchangeable*, and unindexed. No duplicate members.\n",
        "Dictionary is a collection which is ordered** and changeable. No duplicate members."
      ]
    },
    {
      "cell_type": "code",
      "execution_count": null,
      "id": "fea3acb2",
      "metadata": {
        "id": "fea3acb2",
        "outputId": "821f54ac-5b53-4d82-db69-64f4ad07d584"
      },
      "outputs": [
        {
          "name": "stdout",
          "output_type": "stream",
          "text": [
            "shan\n",
            "orange\n"
          ]
        }
      ],
      "source": [
        "mylist=['shan','banana','orange']\n",
        "print(mylist[0])\n",
        "print(mylist[-1])"
      ]
    },
    {
      "cell_type": "code",
      "execution_count": null,
      "id": "69051361",
      "metadata": {
        "id": "69051361",
        "outputId": "4b558a1b-c46b-4afd-855b-2cf592c0a941"
      },
      "outputs": [
        {
          "name": "stdout",
          "output_type": "stream",
          "text": [
            "Yes\n"
          ]
        }
      ],
      "source": [
        "# Check if Item Exists\n",
        "mylist=['shan','banana','orange']\n",
        "if'shan' in mylist:\n",
        "    print('Yes')\n",
        "else:\n",
        "    print('No')"
      ]
    },
    {
      "cell_type": "code",
      "execution_count": null,
      "id": "38bb5796",
      "metadata": {
        "id": "38bb5796",
        "outputId": "9d130fd2-cf12-4877-9b37-bf98cb45c91c"
      },
      "outputs": [
        {
          "name": "stdout",
          "output_type": "stream",
          "text": [
            "['shan', 'krish', 'orange']\n"
          ]
        }
      ],
      "source": [
        "mylist=['shan','banana','orange']\n",
        "mylist[1]='krish'\n",
        "print(mylist)"
      ]
    },
    {
      "cell_type": "code",
      "execution_count": null,
      "id": "d0119cf9",
      "metadata": {
        "id": "d0119cf9",
        "outputId": "b1df01a5-1c64-4c03-fd57-76fcd6adfe2d"
      },
      "outputs": [
        {
          "name": "stdout",
          "output_type": "stream",
          "text": [
            "['apple', 'blackcurrant', 'watermelon', 'cherry']\n"
          ]
        }
      ],
      "source": [
        "thislist = [\"apple\", \"banana\", \"cherry\"]\n",
        "thislist[1:2] = [\"blackcurrant\", \"watermelon\"]\n",
        "print(thislist)"
      ]
    },
    {
      "cell_type": "code",
      "execution_count": null,
      "id": "eb1b57b4",
      "metadata": {
        "id": "eb1b57b4",
        "outputId": "d3140135-cb23-478a-f31a-a9013b29dbc9"
      },
      "outputs": [
        {
          "name": "stdout",
          "output_type": "stream",
          "text": [
            "['apple', 'blackcurrant', 'papaya', 'watermelon', 'cherry']\n"
          ]
        }
      ],
      "source": [
        "#Insert Items\n",
        "mylist =['apple', 'blackcurrant', 'watermelon', 'cherry']\n",
        "mylist.insert(2,'papaya')\n",
        "print(mylist)"
      ]
    },
    {
      "cell_type": "raw",
      "id": "1a6194e1",
      "metadata": {
        "id": "1a6194e1"
      },
      "source": [
        "# Append Items"
      ]
    },
    {
      "cell_type": "code",
      "execution_count": null,
      "id": "c6d6edfd",
      "metadata": {
        "id": "c6d6edfd",
        "outputId": "17b96cac-ce01-4c16-f976-51701b661e26"
      },
      "outputs": [
        {
          "name": "stdout",
          "output_type": "stream",
          "text": [
            "['apple', 'banana', 'cherry', 'papaya']\n"
          ]
        }
      ],
      "source": [
        "thislist = [\"apple\", \"banana\", \"cherry\"]\n",
        "thislist.append('papaya')\n",
        "print(thislist)"
      ]
    },
    {
      "cell_type": "code",
      "execution_count": null,
      "id": "3ec88adc",
      "metadata": {
        "id": "3ec88adc",
        "outputId": "2a1e62e0-ece8-44dd-87ab-e05de17f1d36"
      },
      "outputs": [
        {
          "name": "stdout",
          "output_type": "stream",
          "text": [
            "['apple', 'banana', 'cherry', 'mango', 'pineapple', 'papaya']\n"
          ]
        }
      ],
      "source": [
        "# extend list\n",
        "thislist = [\"apple\", \"banana\", \"cherry\"]\n",
        "tropical = [\"mango\", \"pineapple\", \"papaya\"]\n",
        "thislist.extend(tropical)\n",
        "print(thislist)"
      ]
    },
    {
      "cell_type": "code",
      "execution_count": null,
      "id": "8561fde8",
      "metadata": {
        "id": "8561fde8",
        "outputId": "dfcab68b-6b24-44b2-ccf1-4ea8ac1b7327"
      },
      "outputs": [
        {
          "name": "stdout",
          "output_type": "stream",
          "text": [
            "['blackcurrant', 'watermelon', 'cherry']\n"
          ]
        }
      ],
      "source": [
        "# remove element\n",
        "mylist =['apple', 'blackcurrant', 'watermelon', 'cherry']\n",
        "mylist.remove('apple')\n",
        "print(mylist)"
      ]
    },
    {
      "cell_type": "code",
      "execution_count": null,
      "id": "c6d98463",
      "metadata": {
        "id": "c6d98463",
        "outputId": "b8274bbe-e4f3-4530-b450-5bd397fe8333"
      },
      "outputs": [
        {
          "name": "stdout",
          "output_type": "stream",
          "text": [
            "['apple', 'watermelon', 'cherry']\n"
          ]
        }
      ],
      "source": [
        "# Remove Specified Index\n",
        "mylist =['apple', 'blackcurrant', 'watermelon', 'cherry']\n",
        "mylist.pop(1)\n",
        "print(mylist)"
      ]
    },
    {
      "cell_type": "code",
      "execution_count": null,
      "id": "3b4d9cc3",
      "metadata": {
        "id": "3b4d9cc3",
        "outputId": "c743cbd5-aacd-4562-beb8-d0d1e42bc7ee"
      },
      "outputs": [
        {
          "name": "stdout",
          "output_type": "stream",
          "text": [
            "['apple', 'banana']\n"
          ]
        }
      ],
      "source": [
        "thislist = [\"apple\", \"banana\", \"cherry\"]\n",
        "thislist.pop()\n",
        "print(thislist)"
      ]
    },
    {
      "cell_type": "code",
      "execution_count": null,
      "id": "0c4b232b",
      "metadata": {
        "id": "0c4b232b",
        "outputId": "78cfc828-9ff8-4a98-da4b-023186ee2587"
      },
      "outputs": [
        {
          "name": "stdout",
          "output_type": "stream",
          "text": [
            "['banana', 'cherry']\n"
          ]
        }
      ],
      "source": [
        "thislist = [\"apple\", \"banana\", \"cherry\"]\n",
        "del thislist[0]\n",
        "print(thislist)"
      ]
    },
    {
      "cell_type": "code",
      "execution_count": null,
      "id": "07738855",
      "metadata": {
        "id": "07738855"
      },
      "outputs": [],
      "source": [
        "thislist = [\"apple\", \"banana\", \"cherry\"]\n",
        "del thislist"
      ]
    },
    {
      "cell_type": "code",
      "execution_count": null,
      "id": "976f0b61",
      "metadata": {
        "id": "976f0b61",
        "outputId": "4ffdb34c-db80-4528-a923-e8ab6a259cc8"
      },
      "outputs": [
        {
          "name": "stdout",
          "output_type": "stream",
          "text": [
            "[]\n"
          ]
        }
      ],
      "source": [
        "# clear the list\n",
        "thislist = [\"apple\", \"banana\", \"cherry\"]\n",
        "thislist.clear()\n",
        "print(thislist)"
      ]
    },
    {
      "cell_type": "raw",
      "id": "931d0b6b",
      "metadata": {
        "id": "931d0b6b"
      },
      "source": [
        "# loop list"
      ]
    },
    {
      "cell_type": "code",
      "execution_count": null,
      "id": "0dc12254",
      "metadata": {
        "id": "0dc12254",
        "outputId": "3bb94305-c780-4f97-ebaa-befebbb1c192"
      },
      "outputs": [
        {
          "name": "stdout",
          "output_type": "stream",
          "text": [
            "apple\n",
            "banana\n",
            "cherry\n"
          ]
        }
      ],
      "source": [
        "thislist = [\"apple\", \"banana\", \"cherry\"]\n",
        "for x in thislist:\n",
        "    print(x)"
      ]
    },
    {
      "cell_type": "code",
      "execution_count": null,
      "id": "fbd43d13",
      "metadata": {
        "id": "fbd43d13",
        "outputId": "13e94a0e-505d-4bbd-f2a6-1f78fe4f0f5c"
      },
      "outputs": [
        {
          "name": "stdout",
          "output_type": "stream",
          "text": [
            "apple\n",
            "banana\n",
            "cherry\n"
          ]
        }
      ],
      "source": [
        "# Loop Through the Index Numbers\n",
        "thislist = [\"apple\", \"banana\", \"cherry\"]\n",
        "for i in range (len(thislist)):\n",
        "    print(thislist[i])"
      ]
    },
    {
      "cell_type": "raw",
      "id": "8387b26c",
      "metadata": {
        "id": "8387b26c"
      },
      "source": [
        "# while loop"
      ]
    },
    {
      "cell_type": "code",
      "execution_count": null,
      "id": "97e44718",
      "metadata": {
        "id": "97e44718",
        "outputId": "cd86a82c-f46f-4d10-9526-831bf1ae7c38"
      },
      "outputs": [
        {
          "name": "stdout",
          "output_type": "stream",
          "text": [
            "apple\n",
            "banana\n",
            "cherry\n"
          ]
        }
      ],
      "source": [
        "thislist = [\"apple\", \"banana\", \"cherry\"]\n",
        "i=0\n",
        "while i<len(thislist):\n",
        "    print(thislist[i])\n",
        "    i+=1"
      ]
    },
    {
      "cell_type": "raw",
      "id": "d2ab6570",
      "metadata": {
        "id": "d2ab6570"
      },
      "source": [
        "# Looping Using List Comprehension"
      ]
    },
    {
      "cell_type": "code",
      "execution_count": null,
      "id": "b26f469f",
      "metadata": {
        "id": "b26f469f",
        "outputId": "980cceb5-d705-45db-ef39-b70c51fc7ca1"
      },
      "outputs": [
        {
          "data": {
            "text/plain": [
              "['apple', 'banana', 'cherry']"
            ]
          },
          "execution_count": 175,
          "metadata": {},
          "output_type": "execute_result"
        }
      ],
      "source": [
        "thislist = [\"apple\", \"banana\", \"cherry\"]\n",
        "res=[x for x in thislist]\n",
        "res"
      ]
    },
    {
      "cell_type": "code",
      "execution_count": null,
      "id": "8c5e0c7b",
      "metadata": {
        "id": "8c5e0c7b",
        "outputId": "274b0ae4-4471-4bb8-ca53-ae22a7314d86"
      },
      "outputs": [
        {
          "name": "stdout",
          "output_type": "stream",
          "text": [
            "apple\n",
            "banana\n",
            "cherry\n"
          ]
        },
        {
          "data": {
            "text/plain": [
              "[None, None, None]"
            ]
          },
          "execution_count": 176,
          "metadata": {},
          "output_type": "execute_result"
        }
      ],
      "source": [
        "thislist = [\"apple\", \"banana\", \"cherry\"]\n",
        "[print(x) for x in thislist]"
      ]
    },
    {
      "cell_type": "raw",
      "id": "0b3a141f",
      "metadata": {
        "id": "0b3a141f"
      },
      "source": [
        "# List Comprehension"
      ]
    },
    {
      "cell_type": "code",
      "execution_count": null,
      "id": "f305e839",
      "metadata": {
        "id": "f305e839",
        "outputId": "23c08442-481d-40fc-eaf4-cf999736aef7"
      },
      "outputs": [
        {
          "name": "stdout",
          "output_type": "stream",
          "text": [
            "['apple', 'banana', 'cherry', 'kiwi', 'mango']\n"
          ]
        }
      ],
      "source": [
        "fruits = [\"apple\", \"banana\", \"cherry\", \"kiwi\", \"mango\"]\n",
        "newlist=[]\n",
        "for i in fruits:\n",
        "    newlist.append(i)\n",
        "print(newlist)"
      ]
    },
    {
      "cell_type": "code",
      "execution_count": null,
      "id": "698ee323",
      "metadata": {
        "id": "698ee323",
        "outputId": "78056df5-4413-4be4-9dd1-1d20d60f0404"
      },
      "outputs": [
        {
          "name": "stdout",
          "output_type": "stream",
          "text": [
            "['apple', 'banana', 'mango']\n"
          ]
        }
      ],
      "source": [
        "fruits = [\"apple\", \"banana\", \"cherry\", \"kiwi\", \"mango\"]\n",
        "newlist = []\n",
        "\n",
        "for x in fruits:\n",
        "  if \"a\" in x:\n",
        "    newlist.append(x)\n",
        "\n",
        "print(newlist)"
      ]
    },
    {
      "cell_type": "code",
      "execution_count": null,
      "id": "727e293a",
      "metadata": {
        "id": "727e293a",
        "outputId": "25094461-3701-479a-a766-d6603d6ef3eb"
      },
      "outputs": [
        {
          "data": {
            "text/plain": [
              "['apple', 'banana', 'mango']"
            ]
          },
          "execution_count": 179,
          "metadata": {},
          "output_type": "execute_result"
        }
      ],
      "source": [
        "fruits = [\"apple\", \"banana\", \"cherry\", \"kiwi\", \"mango\"]\n",
        "newlist = [x for x in fruits if 'a' in x]\n",
        "newlist"
      ]
    },
    {
      "cell_type": "raw",
      "id": "97112900",
      "metadata": {
        "id": "97112900"
      },
      "source": [
        "# The Syntax\n",
        "#newlist = [expression for item in iterable if condition == True]"
      ]
    },
    {
      "cell_type": "code",
      "execution_count": null,
      "id": "ae45173a",
      "metadata": {
        "id": "ae45173a",
        "outputId": "3b9aa003-3d16-4b0f-9fda-609a5091c1cd"
      },
      "outputs": [
        {
          "data": {
            "text/plain": [
              "['banana', 'cherry', 'kiwi', 'mango']"
            ]
          },
          "execution_count": 180,
          "metadata": {},
          "output_type": "execute_result"
        }
      ],
      "source": [
        "fruits = [\"apple\", \"banana\", \"cherry\", \"kiwi\", \"mango\"]\n",
        "res = [i for i in fruits if i!='apple']\n",
        "res"
      ]
    },
    {
      "cell_type": "code",
      "execution_count": null,
      "id": "ee4a578a",
      "metadata": {
        "id": "ee4a578a",
        "outputId": "5d7bd361-01df-46e8-e753-575fdbbc22e0"
      },
      "outputs": [
        {
          "data": {
            "text/plain": [
              "[0, 1, 2, 3, 4, 5, 6, 7, 8, 9]"
            ]
          },
          "execution_count": 181,
          "metadata": {},
          "output_type": "execute_result"
        }
      ],
      "source": [
        "newlist = [x for x in range(10)]\n",
        "newlist"
      ]
    },
    {
      "cell_type": "code",
      "execution_count": null,
      "id": "06b0eb7f",
      "metadata": {
        "id": "06b0eb7f",
        "outputId": "98900e90-6aac-4657-cea2-353ec949d6cd"
      },
      "outputs": [
        {
          "name": "stdout",
          "output_type": "stream",
          "text": [
            "[0, 1, 2, 3, 4]\n"
          ]
        }
      ],
      "source": [
        "newlist = [x for x in range(10) if x<5]\n",
        "print(newlist)"
      ]
    },
    {
      "cell_type": "code",
      "execution_count": null,
      "id": "4cbba694",
      "metadata": {
        "id": "4cbba694",
        "outputId": "999273ad-541d-40cf-e84f-6b0d9e202442"
      },
      "outputs": [
        {
          "data": {
            "text/plain": [
              "['APPLE', 'BANANA', 'CHERRY', 'KIWI', 'MANGO']"
            ]
          },
          "execution_count": 183,
          "metadata": {},
          "output_type": "execute_result"
        }
      ],
      "source": [
        "#Set the values in the new list to upper case:\n",
        "fruits = [\"apple\", \"banana\", \"cherry\", \"kiwi\", \"mango\"]\n",
        "newlist = [x.upper() for x in fruits]\n",
        "newlist"
      ]
    },
    {
      "cell_type": "code",
      "execution_count": null,
      "id": "e5afb9d5",
      "metadata": {
        "id": "e5afb9d5",
        "outputId": "53843b5f-ece4-4297-9ef7-bb0044778ccf"
      },
      "outputs": [
        {
          "data": {
            "text/plain": [
              "['hello', 'hello', 'hello', 'hello', 'hello']"
            ]
          },
          "execution_count": 184,
          "metadata": {},
          "output_type": "execute_result"
        }
      ],
      "source": [
        "fruits = [\"apple\", \"banana\", \"cherry\", \"kiwi\", \"mango\"]\n",
        "newlist = ['hello' for x in fruits]\n",
        "newlist"
      ]
    },
    {
      "cell_type": "code",
      "execution_count": null,
      "id": "9d823ee6",
      "metadata": {
        "id": "9d823ee6",
        "outputId": "df93d7ef-f7f3-42c5-a30e-770278fefa14"
      },
      "outputs": [
        {
          "data": {
            "text/plain": [
              "['apple', 'orange', 'cherry', 'kiwi', 'mango']"
            ]
          },
          "execution_count": 185,
          "metadata": {},
          "output_type": "execute_result"
        }
      ],
      "source": [
        "# Return \"orange\" instead of \"banana\":\n",
        "fruits = [\"apple\", \"banana\", \"cherry\", \"kiwi\", \"mango\"]\n",
        "newlist = [ x if x!='banana' else 'orange' for x in fruits ]\n",
        "newlist"
      ]
    },
    {
      "cell_type": "raw",
      "id": "ef7cabd5",
      "metadata": {
        "id": "ef7cabd5"
      },
      "source": [
        "# sort list"
      ]
    },
    {
      "cell_type": "code",
      "execution_count": null,
      "id": "b9653c08",
      "metadata": {
        "id": "b9653c08",
        "outputId": "700b610c-d6f5-42dd-c210-3390eefcd941"
      },
      "outputs": [
        {
          "name": "stdout",
          "output_type": "stream",
          "text": [
            "['apple', 'banana', 'cherry', 'kiwi', 'mango']\n"
          ]
        }
      ],
      "source": [
        "fruits = [\"apple\", \"banana\", \"cherry\", \"kiwi\", \"mango\"]\n",
        "fruits.sort()\n",
        "print(fruits)"
      ]
    },
    {
      "cell_type": "code",
      "execution_count": null,
      "id": "71404f56",
      "metadata": {
        "id": "71404f56",
        "outputId": "a8d59535-e2b7-4646-f00b-e34ead1dded4"
      },
      "outputs": [
        {
          "name": "stdout",
          "output_type": "stream",
          "text": [
            "['mango', 'kiwi', 'cherry', 'banana', 'apple']\n"
          ]
        }
      ],
      "source": [
        "#Sort Descending\n",
        "fruits = [\"apple\", \"banana\", \"cherry\", \"kiwi\", \"mango\"]\n",
        "fruits.sort(reverse=True)\n",
        "print(fruits)"
      ]
    },
    {
      "cell_type": "code",
      "execution_count": null,
      "id": "11230bcc",
      "metadata": {
        "id": "11230bcc",
        "outputId": "6ebbe7dd-ae18-45af-b4fc-974f87815dbf"
      },
      "outputs": [
        {
          "name": "stdout",
          "output_type": "stream",
          "text": [
            "['Kiwi', 'Orange', 'banana', 'cherry']\n"
          ]
        }
      ],
      "source": [
        "# case sensitity in sort\n",
        "thislist = [\"banana\", \"Orange\", \"Kiwi\", \"cherry\"]\n",
        "thislist.sort()\n",
        "print(thislist)"
      ]
    },
    {
      "cell_type": "code",
      "execution_count": null,
      "id": "da71ca57",
      "metadata": {
        "id": "da71ca57",
        "outputId": "bf42429f-a98e-4574-b53f-3fe1cb669d86"
      },
      "outputs": [
        {
          "name": "stdout",
          "output_type": "stream",
          "text": [
            "['banana', 'cherry', 'Kiwi', 'Orange']\n"
          ]
        }
      ],
      "source": [
        "#Perform a case-insensitive sort of the list:\n",
        "thislist = [\"banana\", \"Orange\", \"Kiwi\", \"cherry\"]\n",
        "thislist.sort(key = str.lower)\n",
        "print(thislist)"
      ]
    },
    {
      "cell_type": "code",
      "execution_count": null,
      "id": "cfbbe7db",
      "metadata": {
        "id": "cfbbe7db",
        "outputId": "250564e8-6dae-441e-9744-b91b5e10abf2"
      },
      "outputs": [
        {
          "name": "stdout",
          "output_type": "stream",
          "text": [
            "['cherry', 'Kiwi', 'Orange', 'banana']\n"
          ]
        }
      ],
      "source": [
        "thislist = [\"banana\", \"Orange\", \"Kiwi\", \"cherry\"]\n",
        "thislist.reverse()\n",
        "print(thislist)"
      ]
    },
    {
      "cell_type": "raw",
      "id": "2099c4dc",
      "metadata": {
        "id": "2099c4dc"
      },
      "source": [
        "# copy list"
      ]
    },
    {
      "cell_type": "code",
      "execution_count": null,
      "id": "54079cbd",
      "metadata": {
        "id": "54079cbd",
        "outputId": "c93a4afd-c019-449d-a7a9-45c3048e72f6"
      },
      "outputs": [
        {
          "data": {
            "text/plain": [
              "['banana', 'Orange', 'Kiwi', 'cherry']"
            ]
          },
          "execution_count": 191,
          "metadata": {},
          "output_type": "execute_result"
        }
      ],
      "source": [
        "thislist = [\"banana\", \"Orange\", \"Kiwi\", \"cherry\"]\n",
        "mylist=thislist.copy()\n",
        "mylist"
      ]
    },
    {
      "cell_type": "code",
      "execution_count": null,
      "id": "715038f3",
      "metadata": {
        "id": "715038f3",
        "outputId": "dcb30bc1-df82-4eb8-a644-cf2efd52d0e4"
      },
      "outputs": [
        {
          "name": "stdout",
          "output_type": "stream",
          "text": [
            "['apple', 'banana', 'cherry']\n"
          ]
        }
      ],
      "source": [
        "# Make a copy of a list with the list() method:\n",
        "thislist = [\"apple\", \"banana\", \"cherry\"]\n",
        "mylist = list(thislist)\n",
        "print(mylist)"
      ]
    },
    {
      "cell_type": "raw",
      "id": "5c319ccd",
      "metadata": {
        "id": "5c319ccd"
      },
      "source": [
        "# join list"
      ]
    },
    {
      "cell_type": "code",
      "execution_count": null,
      "id": "9917c409",
      "metadata": {
        "id": "9917c409",
        "outputId": "8b2fcbdd-ef68-4502-e032-430ed8804f59"
      },
      "outputs": [
        {
          "name": "stdout",
          "output_type": "stream",
          "text": [
            "['a', 'b', 'c', 1, 2, 3]\n"
          ]
        }
      ],
      "source": [
        "list1 = [\"a\", \"b\", \"c\"]\n",
        "list2 = [1, 2, 3]\n",
        "\n",
        "list3 = list1 + list2\n",
        "print(list3)"
      ]
    },
    {
      "cell_type": "code",
      "execution_count": null,
      "id": "9f0e3e2e",
      "metadata": {
        "id": "9f0e3e2e",
        "outputId": "643b99f2-cf73-4fdb-cad9-eb7624348335"
      },
      "outputs": [
        {
          "name": "stdout",
          "output_type": "stream",
          "text": [
            "['a', 'b', 'c', 1, 2, 3]\n"
          ]
        }
      ],
      "source": [
        "list1 = [\"a\", \"b\" , \"c\"]\n",
        "list2 = [1, 2, 3]\n",
        "\n",
        "for x in list2:\n",
        "  list1.append(x)\n",
        "print(list1)"
      ]
    },
    {
      "cell_type": "code",
      "execution_count": null,
      "id": "eae4928d",
      "metadata": {
        "id": "eae4928d",
        "outputId": "262afd24-e3df-42e7-93c1-97ab2810e5b0"
      },
      "outputs": [
        {
          "name": "stdout",
          "output_type": "stream",
          "text": [
            "['a', 'b', 'c', 1, 2, 3]\n"
          ]
        }
      ],
      "source": [
        "# use 'extend' to join list\n",
        "list1 = [\"a\", \"b\" , \"c\"]\n",
        "list2 = [1, 2, 3]\n",
        "\n",
        "list1.extend(list2)\n",
        "print(list1)"
      ]
    },
    {
      "cell_type": "raw",
      "id": "b4b95879",
      "metadata": {
        "id": "b4b95879"
      },
      "source": [
        "# list methods"
      ]
    },
    {
      "cell_type": "raw",
      "id": "5689517f",
      "metadata": {
        "id": "5689517f"
      },
      "source": [
        "List Methods\n",
        "Python has a set of built-in methods that you can use on lists.\n",
        "\n",
        "Method\tDescription\n",
        "append()\tAdds an element at the end of the list\n",
        "clear()\tRemoves all the elements from the list\n",
        "copy()\tReturns a copy of the list\n",
        "count()\tReturns the number of elements with the specified value\n",
        "extend()\tAdd the elements of a list (or any iterable), to the end of the current list\n",
        "index()\tReturns the index of the first element with the specified value\n",
        "insert()\tAdds an element at the specified position\n",
        "pop()\tRemoves the element at the specified position\n",
        "remove()\tRemoves the item with the specified value\n",
        "reverse()\tReverses the order of the list\n",
        "sort()\tSorts the list"
      ]
    },
    {
      "cell_type": "raw",
      "id": "45419260",
      "metadata": {
        "id": "45419260"
      },
      "source": [
        "# Tuples "
      ]
    },
    {
      "cell_type": "code",
      "execution_count": null,
      "id": "f0db4df6",
      "metadata": {
        "id": "f0db4df6",
        "outputId": "059573cd-bf9b-4cbd-9854-2ff5323389af"
      },
      "outputs": [
        {
          "data": {
            "text/plain": [
              "('apple', 'banana', 'cherry')"
            ]
          },
          "execution_count": 196,
          "metadata": {},
          "output_type": "execute_result"
        }
      ],
      "source": [
        "mytuple = (\"apple\", \"banana\", \"cherry\")\n",
        "mytuple"
      ]
    },
    {
      "cell_type": "code",
      "execution_count": null,
      "id": "1436c9f6",
      "metadata": {
        "id": "1436c9f6",
        "outputId": "4a0bd11e-6a6b-4867-b820-bca762804964"
      },
      "outputs": [
        {
          "name": "stdout",
          "output_type": "stream",
          "text": [
            "('apple', 'banana', 'cherry', 'apple', 'cherry')\n"
          ]
        }
      ],
      "source": [
        "# tuples allows duplicates\n",
        "thistuple = (\"apple\", \"banana\", \"cherry\", \"apple\", \"cherry\")\n",
        "print(thistuple)"
      ]
    },
    {
      "cell_type": "code",
      "execution_count": null,
      "id": "136f0459",
      "metadata": {
        "id": "136f0459",
        "outputId": "7fe70b71-86ab-4681-da13-4864209eb708"
      },
      "outputs": [
        {
          "name": "stdout",
          "output_type": "stream",
          "text": [
            "5\n"
          ]
        }
      ],
      "source": [
        "# len\n",
        "thistuple = (\"apple\", \"banana\", \"cherry\", \"apple\", \"cherry\")\n",
        "print(len(thistuple))"
      ]
    },
    {
      "cell_type": "code",
      "execution_count": null,
      "id": "ce362d26",
      "metadata": {
        "id": "ce362d26",
        "outputId": "be625429-614a-47dc-ddfe-880583f6f4db"
      },
      "outputs": [
        {
          "name": "stdout",
          "output_type": "stream",
          "text": [
            "<class 'tuple'>\n",
            "<class 'str'>\n"
          ]
        }
      ],
      "source": [
        "#Create Tuple With One Item\n",
        "thistuple = (\"apple\",)\n",
        "print(type(thistuple))\n",
        "\n",
        "#NOT a tuple\n",
        "thistuple = (\"apple\")\n",
        "print(type(thistuple))"
      ]
    },
    {
      "cell_type": "code",
      "execution_count": null,
      "id": "bc47e06e",
      "metadata": {
        "id": "bc47e06e",
        "outputId": "eb2a1753-daa0-4915-cdbe-f463f0b6eeff"
      },
      "outputs": [
        {
          "name": "stdout",
          "output_type": "stream",
          "text": [
            "('apple', 'banana', 'cherry', 'apple', 'cherry')\n",
            "(2, 3, 4, 6)\n",
            "(True, False, False)\n"
          ]
        }
      ],
      "source": [
        "#Tuple Items - Data Types\n",
        "x=(\"apple\", \"banana\", \"cherry\", \"apple\", \"cherry\")\n",
        "z=(2,3,4,6)\n",
        "y=(True, False, False)\n",
        "print(x)\n",
        "print(z)\n",
        "print(y)"
      ]
    },
    {
      "cell_type": "code",
      "execution_count": null,
      "id": "890805ab",
      "metadata": {
        "id": "890805ab",
        "outputId": "edc30b28-2d93-4e2f-a56e-66ab3dee6089"
      },
      "outputs": [
        {
          "data": {
            "text/plain": [
              "('abc', 34, True, 40, 'male')"
            ]
          },
          "execution_count": 201,
          "metadata": {},
          "output_type": "execute_result"
        }
      ],
      "source": [
        "#A tuple with strings, integers and boolean values:\n",
        "tuple1 = (\"abc\", 34, True, 40, \"male\")\n",
        "tuple1"
      ]
    },
    {
      "cell_type": "code",
      "execution_count": null,
      "id": "d963e932",
      "metadata": {
        "id": "d963e932",
        "outputId": "31da3dca-e55c-4193-9a9e-c727788ac59f"
      },
      "outputs": [
        {
          "name": "stdout",
          "output_type": "stream",
          "text": [
            "<class 'tuple'>\n"
          ]
        }
      ],
      "source": [
        "# type\n",
        "x=(\"apple\", \"banana\", \"cherry\", \"apple\", \"cherry\")\n",
        "print(type(x))"
      ]
    },
    {
      "cell_type": "code",
      "execution_count": null,
      "id": "50abe343",
      "metadata": {
        "id": "50abe343",
        "outputId": "7a9ca5bb-186c-45d2-cc05-201f976b0133"
      },
      "outputs": [
        {
          "name": "stdout",
          "output_type": "stream",
          "text": [
            "('apple', 'banana', 'cherry', 'apple', 'cherry')\n"
          ]
        }
      ],
      "source": [
        "#The tuple() Constructor\n",
        "#It is also possible to use the tuple() constructor to make a tuple.\n",
        "x=tuple((\"apple\", \"banana\", \"cherry\", \"apple\", \"cherry\"))\n",
        "print(x)"
      ]
    },
    {
      "cell_type": "raw",
      "id": "33b5701b",
      "metadata": {
        "id": "33b5701b"
      },
      "source": [
        "# tuple slicing or accessing tuple items"
      ]
    },
    {
      "cell_type": "code",
      "execution_count": null,
      "id": "6ab3d005",
      "metadata": {
        "id": "6ab3d005",
        "outputId": "58e3b5e4-d413-46fa-b48a-ac8c379133bf"
      },
      "outputs": [
        {
          "name": "stdout",
          "output_type": "stream",
          "text": [
            "banana\n"
          ]
        }
      ],
      "source": [
        "x=(\"apple\", \"banana\", \"cherry\", \"apple\", \"cherry\")\n",
        "print(x[1])"
      ]
    },
    {
      "cell_type": "code",
      "execution_count": null,
      "id": "857be81a",
      "metadata": {
        "id": "857be81a",
        "outputId": "8ba56545-2427-4a26-cafb-892726e6f1ca"
      },
      "outputs": [
        {
          "name": "stdout",
          "output_type": "stream",
          "text": [
            "cherry\n"
          ]
        }
      ],
      "source": [
        "print(x[-1])"
      ]
    },
    {
      "cell_type": "code",
      "execution_count": null,
      "id": "a1166724",
      "metadata": {
        "id": "a1166724",
        "outputId": "3a097b4e-9289-43da-9aec-f3d4f026214e"
      },
      "outputs": [
        {
          "name": "stdout",
          "output_type": "stream",
          "text": [
            "('cherry', 'apple', 'cherry')\n"
          ]
        }
      ],
      "source": [
        "x=tuple((\"apple\", \"banana\", \"cherry\", \"apple\", \"cherry\"))\n",
        "print(x[2:5])"
      ]
    },
    {
      "cell_type": "code",
      "execution_count": null,
      "id": "b461e6f9",
      "metadata": {
        "id": "b461e6f9",
        "outputId": "36a6f816-bda3-4080-c2a8-399ee80db060"
      },
      "outputs": [
        {
          "name": "stdout",
          "output_type": "stream",
          "text": [
            "Yes\n"
          ]
        }
      ],
      "source": [
        "#Check if Item Exists\n",
        "x=(\"apple\", \"banana\", \"cherry\", \"apple\", \"cherry\")\n",
        "if 'apple' in x:\n",
        "    print('Yes')\n",
        "else:\n",
        "    print('No')"
      ]
    },
    {
      "cell_type": "code",
      "execution_count": null,
      "id": "60bdec9d",
      "metadata": {
        "id": "60bdec9d",
        "outputId": "a7bc8e05-3118-44dd-fdcf-ecc5e1ce0e76"
      },
      "outputs": [
        {
          "name": "stdout",
          "output_type": "stream",
          "text": [
            "('apple', 'papaya', 'cherry', 'apple', 'cherry')\n"
          ]
        }
      ],
      "source": [
        "# changing tuples values, since tuple is immutable first we change it into list\n",
        "x=(\"apple\", \"banana\", \"cherry\", \"apple\", \"cherry\")\n",
        "y=list(x)\n",
        "y[1]='papaya'\n",
        "x=tuple(y)\n",
        "print(x)"
      ]
    },
    {
      "cell_type": "code",
      "execution_count": null,
      "id": "3a5bf79c",
      "metadata": {
        "id": "3a5bf79c",
        "outputId": "18df1228-816d-4cb0-d50c-16f05a893b22"
      },
      "outputs": [
        {
          "name": "stdout",
          "output_type": "stream",
          "text": [
            "('apple', 'banana', 'cherry', 'orange')\n"
          ]
        }
      ],
      "source": [
        "# Create a new tuple with the value \"orange\", and add that tuple:\n",
        "thistuple = (\"apple\", \"banana\", \"cherry\")\n",
        "y = (\"orange\",)\n",
        "thistuple += y\n",
        "print(thistuple)"
      ]
    },
    {
      "cell_type": "code",
      "execution_count": null,
      "id": "d305f050",
      "metadata": {
        "id": "d305f050",
        "outputId": "8e0fe0de-26f8-4f94-a29d-579f8de5d9be"
      },
      "outputs": [
        {
          "name": "stdout",
          "output_type": "stream",
          "text": [
            "('banana', 'cherry', 'apple', 'cherry')\n"
          ]
        }
      ],
      "source": [
        "# remove items\n",
        "x=(\"apple\", \"banana\", \"cherry\", \"apple\", \"cherry\")\n",
        "y=list(x)\n",
        "y.remove('apple')\n",
        "x=tuple(y)\n",
        "print(x)"
      ]
    },
    {
      "cell_type": "code",
      "execution_count": 2,
      "id": "35201765",
      "metadata": {
        "colab": {
          "base_uri": "https://localhost:8080/",
          "height": 200
        },
        "id": "35201765",
        "outputId": "591a3670-64ad-4671-a241-0dd66a490b51"
      },
      "outputs": [
        {
          "output_type": "error",
          "ename": "NameError",
          "evalue": "ignored",
          "traceback": [
            "\u001b[0;31m---------------------------------------------------------------------------\u001b[0m",
            "\u001b[0;31mNameError\u001b[0m                                 Traceback (most recent call last)",
            "\u001b[0;32m<ipython-input-2-8a57ed92fc5d>\u001b[0m in \u001b[0;36m<module>\u001b[0;34m()\u001b[0m\n\u001b[1;32m      1\u001b[0m \u001b[0mthistuple\u001b[0m \u001b[0;34m=\u001b[0m \u001b[0;34m(\u001b[0m\u001b[0;34m\"apple\"\u001b[0m\u001b[0;34m,\u001b[0m \u001b[0;34m\"banana\"\u001b[0m\u001b[0;34m,\u001b[0m \u001b[0;34m\"cherry\"\u001b[0m\u001b[0;34m)\u001b[0m\u001b[0;34m\u001b[0m\u001b[0;34m\u001b[0m\u001b[0m\n\u001b[1;32m      2\u001b[0m \u001b[0;32mdel\u001b[0m \u001b[0mthistuple\u001b[0m\u001b[0;34m\u001b[0m\u001b[0;34m\u001b[0m\u001b[0m\n\u001b[0;32m----> 3\u001b[0;31m \u001b[0mprint\u001b[0m\u001b[0;34m(\u001b[0m\u001b[0mthistuple\u001b[0m\u001b[0;34m)\u001b[0m \u001b[0;31m#this will raise an error because the tuple no longer exists\u001b[0m\u001b[0;34m\u001b[0m\u001b[0;34m\u001b[0m\u001b[0m\n\u001b[0m",
            "\u001b[0;31mNameError\u001b[0m: name 'thistuple' is not defined"
          ]
        }
      ],
      "source": [
        "thistuple = (\"apple\", \"banana\", \"cherry\")\n",
        "del thistuple\n",
        "print(thistuple) #this will raise an error because the tuple no longer exists"
      ]
    },
    {
      "cell_type": "code",
      "execution_count": null,
      "id": "026b92ba",
      "metadata": {
        "id": "026b92ba",
        "outputId": "21ba60f4-df96-44e9-b2a4-4a0721070a57"
      },
      "outputs": [
        {
          "name": "stdout",
          "output_type": "stream",
          "text": [
            "apple\n",
            "banana\n",
            "cherry\n"
          ]
        }
      ],
      "source": [
        "# unpack tuples\n",
        "# in Python, we are also allowed to extract the values back into variables. This is called \"unpacking\":\n",
        "# Unpacking a tuple:\n",
        "fruits = (\"apple\", \"banana\", \"cherry\")\n",
        "(green, yellow, red) = fruits\n",
        "print(green)\n",
        "print(yellow)\n",
        "print(red)"
      ]
    },
    {
      "cell_type": "code",
      "execution_count": null,
      "id": "e3de8ca1",
      "metadata": {
        "id": "e3de8ca1",
        "outputId": "68b37b6c-8bfc-4b05-a9bd-2cd7dc9a6892"
      },
      "outputs": [
        {
          "name": "stdout",
          "output_type": "stream",
          "text": [
            "apple\n",
            "banana\n",
            "['cherry', 'strawberry', 'raspberry']\n"
          ]
        }
      ],
      "source": [
        "##Using Asterisk*\n",
        "#If the number of variables is less than the number of values, you can add an * to the variable name and the values will be assigned to the variable as a list:\n",
        "#Assign the rest of the values as a list called \"red\":\n",
        "fruits = (\"apple\", \"banana\", \"cherry\", \"strawberry\", \"raspberry\")\n",
        "(green, yellow, *red) = fruits\n",
        "print(green)\n",
        "print(yellow)\n",
        "print(red)"
      ]
    },
    {
      "cell_type": "code",
      "execution_count": null,
      "id": "3582241f",
      "metadata": {
        "id": "3582241f",
        "outputId": "b18015e5-703f-469f-d3fd-a4506552c5a5"
      },
      "outputs": [
        {
          "name": "stdout",
          "output_type": "stream",
          "text": [
            "apple\n",
            "banana\n",
            "cherry\n",
            "strawberry\n",
            "raspberry\n"
          ]
        }
      ],
      "source": [
        "# loop tuples\n",
        "fruits = (\"apple\", \"banana\", \"cherry\", \"strawberry\", \"raspberry\")\n",
        "for i in fruits:\n",
        "    print(i)"
      ]
    },
    {
      "cell_type": "code",
      "execution_count": null,
      "id": "412e4f26",
      "metadata": {
        "id": "412e4f26",
        "outputId": "f0b68475-aedf-4ca5-f829-eac3c008a06a"
      },
      "outputs": [
        {
          "name": "stdout",
          "output_type": "stream",
          "text": [
            "apple\n",
            "banana\n",
            "cherry\n",
            "strawberry\n",
            "raspberry\n"
          ]
        }
      ],
      "source": [
        "#Loop Through the Index Numbers\n",
        "#You can also loop through the tuple items by referring to their index number.\n",
        "#Use the range() and len() functions to create a suitable iterable.\n",
        "fruits = (\"apple\", \"banana\", \"cherry\", \"strawberry\", \"raspberry\")\n",
        "for i in range(len(fruits)):\n",
        "    print(fruits[i])"
      ]
    },
    {
      "cell_type": "code",
      "execution_count": null,
      "id": "e7dfbfdf",
      "metadata": {
        "id": "e7dfbfdf",
        "outputId": "08ddcd83-1952-4d32-829b-25abe56d5d95"
      },
      "outputs": [
        {
          "name": "stdout",
          "output_type": "stream",
          "text": [
            "apple\n",
            "banana\n",
            "cherry\n"
          ]
        }
      ],
      "source": [
        "# while loop in tuples\n",
        "#You can loop through the list items by using a while loop.\n",
        "#Use the len() function to determine the length of the tuple, then start at 0 and loop your way through the tuple items by refering to their indexes.\n",
        "#Remember to increase the index by 1 after each iteration.\n",
        "#Print all items, using a while loop to go through all the index numbers:\n",
        "\n",
        "thistuple = (\"apple\", \"banana\", \"cherry\")\n",
        "i = 0\n",
        "while i < len(thistuple):\n",
        "  print(thistuple[i])\n",
        "  i = i + 1"
      ]
    },
    {
      "cell_type": "code",
      "execution_count": null,
      "id": "5dbfa79d",
      "metadata": {
        "id": "5dbfa79d",
        "outputId": "fd3eb3a3-6892-47d5-acf4-24976f9307e9"
      },
      "outputs": [
        {
          "name": "stdout",
          "output_type": "stream",
          "text": [
            "('a', 'b', 'c', 1, 2, 3)\n"
          ]
        }
      ],
      "source": [
        "# join tuple\n",
        "tuple1 = (\"a\", \"b\" , \"c\")\n",
        "tuple2 = (1, 2, 3)\n",
        "\n",
        "tuple3 = tuple1 + tuple2\n",
        "print(tuple3)"
      ]
    },
    {
      "cell_type": "code",
      "execution_count": null,
      "id": "cdc00a8d",
      "metadata": {
        "id": "cdc00a8d",
        "outputId": "81014993-53a3-4a3d-a362-389faa4c1de9"
      },
      "outputs": [
        {
          "name": "stdout",
          "output_type": "stream",
          "text": [
            "('apple', 'banana', 'cherry', 'apple', 'banana', 'cherry')\n"
          ]
        }
      ],
      "source": [
        "fruits = (\"apple\", \"banana\", \"cherry\")\n",
        "mytuple = fruits * 2\n",
        "print(mytuple)"
      ]
    },
    {
      "cell_type": "raw",
      "id": "5343dd07",
      "metadata": {
        "id": "5343dd07"
      },
      "source": [
        "Tuple Methods\n",
        "Python has two built-in methods that you can use on tuples.\n",
        "\n",
        "Method\tDescription\n",
        "count()\tReturns the number of times a specified value occurs in a tuple\n",
        "index()\tSearches the tuple for a specified value and returns the position of where it was found"
      ]
    },
    {
      "cell_type": "raw",
      "id": "1c76cf31",
      "metadata": {
        "id": "1c76cf31"
      },
      "source": [
        "# Python Sets"
      ]
    },
    {
      "cell_type": "code",
      "execution_count": null,
      "id": "b7be6dfa",
      "metadata": {
        "id": "b7be6dfa",
        "outputId": "06a34abf-c0bb-4fae-f28e-2183d3bcbaf6"
      },
      "outputs": [
        {
          "data": {
            "text/plain": [
              "{'apple', 'banana', 'cherry'}"
            ]
          },
          "execution_count": 219,
          "metadata": {},
          "output_type": "execute_result"
        }
      ],
      "source": [
        "myset = {\"apple\", \"banana\", \"cherry\"}\n",
        "myset"
      ]
    },
    {
      "cell_type": "code",
      "execution_count": null,
      "id": "aa1165ff",
      "metadata": {
        "id": "aa1165ff",
        "outputId": "4d245b1c-eec5-43b6-9c06-484c83545fa5"
      },
      "outputs": [
        {
          "name": "stdout",
          "output_type": "stream",
          "text": [
            "{'banana', 'cherry', 'apple'}\n"
          ]
        }
      ],
      "source": [
        "#Duplicate values will be ignored:\n",
        "thisset = {\"apple\", \"banana\", \"cherry\", \"apple\"}\n",
        "print(thisset)"
      ]
    },
    {
      "cell_type": "code",
      "execution_count": null,
      "id": "94e453c1",
      "metadata": {
        "id": "94e453c1",
        "outputId": "8b95e84d-3962-47b1-da42-a7b5bd023997"
      },
      "outputs": [
        {
          "name": "stdout",
          "output_type": "stream",
          "text": [
            "3\n"
          ]
        }
      ],
      "source": [
        "myset = {\"apple\", \"banana\", \"cherry\"}\n",
        "print(len(myset))"
      ]
    },
    {
      "cell_type": "code",
      "execution_count": null,
      "id": "733fc8d8",
      "metadata": {
        "id": "733fc8d8",
        "outputId": "88f0a32f-ae6e-42c6-dc8d-b80857dd778a"
      },
      "outputs": [
        {
          "name": "stdout",
          "output_type": "stream",
          "text": [
            "{'banana', 'cherry', 'apple'}\n",
            "{1, 3, 5, 7, 9}\n",
            "{False, True}\n"
          ]
        }
      ],
      "source": [
        "# Set Items - Data Types\n",
        "set1 = {\"apple\", \"banana\", \"cherry\"}\n",
        "set2 = {1, 5, 7, 9, 3}\n",
        "set3 = {True, False, False}\n",
        "print(set1)\n",
        "print(set2)\n",
        "print(set3)"
      ]
    },
    {
      "cell_type": "code",
      "execution_count": null,
      "id": "478eed0f",
      "metadata": {
        "id": "478eed0f",
        "outputId": "7bec2637-80e7-4d29-bd36-d6c4c6800afb"
      },
      "outputs": [
        {
          "name": "stdout",
          "output_type": "stream",
          "text": [
            "<class 'set'>\n"
          ]
        }
      ],
      "source": [
        "# type check\n",
        "myset = {\"apple\", \"banana\", \"cherry\"}\n",
        "print(type(myset))"
      ]
    },
    {
      "cell_type": "code",
      "execution_count": null,
      "id": "fcaed192",
      "metadata": {
        "id": "fcaed192",
        "outputId": "18a8e1aa-c37d-4c68-e826-2d0a3bf57cdc"
      },
      "outputs": [
        {
          "data": {
            "text/plain": [
              "{'apple', 'carrot', 'papaya'}"
            ]
          },
          "execution_count": 224,
          "metadata": {},
          "output_type": "execute_result"
        }
      ],
      "source": [
        "# the set() constructor\n",
        "x=set(('apple','papaya','carrot'))\n",
        "x"
      ]
    },
    {
      "cell_type": "code",
      "execution_count": null,
      "id": "bd3c478b",
      "metadata": {
        "id": "bd3c478b",
        "outputId": "533f8d14-9f7e-4cb5-e8e3-6b83cba8d8c2"
      },
      "outputs": [
        {
          "name": "stdout",
          "output_type": "stream",
          "text": [
            "banana\n",
            "cherry\n",
            "apple\n"
          ]
        }
      ],
      "source": [
        "# Access Set Items\n",
        "myset = {\"apple\", \"banana\", \"cherry\"}\n",
        "for i in myset:\n",
        "    print(i)"
      ]
    },
    {
      "cell_type": "code",
      "execution_count": null,
      "id": "81eeecda",
      "metadata": {
        "id": "81eeecda",
        "outputId": "fc558907-dded-4ba0-b136-e760a7d650e8"
      },
      "outputs": [
        {
          "name": "stdout",
          "output_type": "stream",
          "text": [
            "True\n"
          ]
        }
      ],
      "source": [
        "#Check if \"banana\" is present in the set:\n",
        "thisset = {\"apple\", \"banana\", \"cherry\"}\n",
        "print(\"banana\" in thisset)"
      ]
    },
    {
      "cell_type": "code",
      "execution_count": null,
      "id": "aa9220f3",
      "metadata": {
        "id": "aa9220f3",
        "outputId": "93cfc719-22d6-4b33-9965-48b4002dcd67"
      },
      "outputs": [
        {
          "name": "stdout",
          "output_type": "stream",
          "text": [
            "{'banana', 'cherry', 'orange', 'apple'}\n"
          ]
        }
      ],
      "source": [
        "# add items\n",
        "thisset = {\"apple\", \"banana\", \"cherry\"}\n",
        "thisset.add(\"orange\")\n",
        "print(thisset)"
      ]
    },
    {
      "cell_type": "code",
      "execution_count": null,
      "id": "f5bb51a6",
      "metadata": {
        "id": "f5bb51a6",
        "outputId": "bdc96653-1da5-46af-ab72-345cee15eb7a"
      },
      "outputs": [
        {
          "name": "stdout",
          "output_type": "stream",
          "text": [
            "{'banana', 'pineapple', 'cherry', 'mango', 'apple', 'papaya'}\n"
          ]
        }
      ],
      "source": [
        "#To add items from another set into the current set, use the update() method.\n",
        "#Add elements from tropical into thisset:\n",
        "thisset = {\"apple\", \"banana\", \"cherry\"}\n",
        "tropical = {\"pineapple\", \"mango\", \"papaya\"}\n",
        "thisset.update(tropical)\n",
        "print(thisset)"
      ]
    },
    {
      "cell_type": "code",
      "execution_count": null,
      "id": "b29f5b7b",
      "metadata": {
        "id": "b29f5b7b",
        "outputId": "195c1005-36b7-4b2d-a118-d0649c9675af"
      },
      "outputs": [
        {
          "name": "stdout",
          "output_type": "stream",
          "text": [
            "{'orange', 'banana', 'cherry', 'apple', 'kiwi'}\n"
          ]
        }
      ],
      "source": [
        "#Add Any Iterable\n",
        "#The object in the update() method does not have to be a set, it can be any iterable object (tuples, lists, dictionaries etc.).\n",
        "#Add elements of a list to at set:\n",
        "thisset = {\"apple\", \"banana\", \"cherry\"}\n",
        "mylist = [\"kiwi\", \"orange\"]\n",
        "thisset.update(mylist)\n",
        "print(thisset)"
      ]
    },
    {
      "cell_type": "raw",
      "id": "cb5d178b",
      "metadata": {
        "id": "cb5d178b"
      },
      "source": [
        "#  Remove Set Items"
      ]
    },
    {
      "cell_type": "code",
      "execution_count": null,
      "id": "ed4f9ae6",
      "metadata": {
        "id": "ed4f9ae6",
        "outputId": "0d8d77f7-b7c4-49ee-d5f9-b3046fea90dc"
      },
      "outputs": [
        {
          "name": "stdout",
          "output_type": "stream",
          "text": [
            "{'cherry', 'apple'}\n"
          ]
        }
      ],
      "source": [
        "thisset = {\"apple\", \"banana\", \"cherry\"}\n",
        "thisset.remove(\"banana\")\n",
        "print(thisset)"
      ]
    },
    {
      "cell_type": "code",
      "execution_count": null,
      "id": "b4835c33",
      "metadata": {
        "id": "b4835c33",
        "outputId": "43a0e6cb-7c66-422e-9f9d-4ed7c3029af7"
      },
      "outputs": [
        {
          "name": "stdout",
          "output_type": "stream",
          "text": [
            "{'cherry', 'apple'}\n"
          ]
        }
      ],
      "source": [
        "# also uses discard\n",
        "thisset = {\"apple\", \"banana\", \"cherry\"}\n",
        "thisset.discard(\"banana\") # Note: If the item to remove does not exist, discard() will NOT raise an error.\n",
        "print(thisset)"
      ]
    },
    {
      "cell_type": "code",
      "execution_count": null,
      "id": "09718d75",
      "metadata": {
        "id": "09718d75",
        "outputId": "5f350d90-8306-4fba-ccab-474de802cbf2"
      },
      "outputs": [
        {
          "name": "stdout",
          "output_type": "stream",
          "text": [
            "banana\n",
            "{'cherry', 'apple'}\n"
          ]
        }
      ],
      "source": [
        "#remove last item by using pop\n",
        "thisset = {\"apple\", \"banana\", \"cherry\"}\n",
        "x = thisset.pop()\n",
        "print(x)\n",
        "print(thisset)"
      ]
    },
    {
      "cell_type": "code",
      "execution_count": null,
      "id": "3c2bdd77",
      "metadata": {
        "id": "3c2bdd77",
        "outputId": "1778f4ed-9123-412a-8c13-db88092cd307"
      },
      "outputs": [
        {
          "name": "stdout",
          "output_type": "stream",
          "text": [
            "set()\n"
          ]
        }
      ],
      "source": [
        "#The clear() method empties the set:\n",
        "thisset = {\"apple\", \"banana\", \"cherry\"}\n",
        "thisset.clear()\n",
        "print(thisset)"
      ]
    },
    {
      "cell_type": "code",
      "execution_count": null,
      "id": "639c61d6",
      "metadata": {
        "id": "639c61d6",
        "outputId": "8b43a078-217a-4b4b-b962-31155e388a2d"
      },
      "outputs": [
        {
          "ename": "NameError",
          "evalue": "name 'thisset' is not defined",
          "output_type": "error",
          "traceback": [
            "\u001b[1;31m---------------------------------------------------------------------------\u001b[0m",
            "\u001b[1;31mNameError\u001b[0m                                 Traceback (most recent call last)",
            "\u001b[1;32m<ipython-input-234-7fcee29479c6>\u001b[0m in \u001b[0;36m<module>\u001b[1;34m\u001b[0m\n\u001b[0;32m      2\u001b[0m \u001b[0mthisset\u001b[0m \u001b[1;33m=\u001b[0m \u001b[1;33m{\u001b[0m\u001b[1;34m\"apple\"\u001b[0m\u001b[1;33m,\u001b[0m \u001b[1;34m\"banana\"\u001b[0m\u001b[1;33m,\u001b[0m \u001b[1;34m\"cherry\"\u001b[0m\u001b[1;33m}\u001b[0m\u001b[1;33m\u001b[0m\u001b[1;33m\u001b[0m\u001b[0m\n\u001b[0;32m      3\u001b[0m \u001b[1;32mdel\u001b[0m \u001b[0mthisset\u001b[0m\u001b[1;33m\u001b[0m\u001b[1;33m\u001b[0m\u001b[0m\n\u001b[1;32m----> 4\u001b[1;33m \u001b[0mprint\u001b[0m\u001b[1;33m(\u001b[0m\u001b[0mthisset\u001b[0m\u001b[1;33m)\u001b[0m \u001b[1;31m# throws error bcz set is deleted\u001b[0m\u001b[1;33m\u001b[0m\u001b[1;33m\u001b[0m\u001b[0m\n\u001b[0m",
            "\u001b[1;31mNameError\u001b[0m: name 'thisset' is not defined"
          ]
        }
      ],
      "source": [
        "#The del keyword will delete the set completely:\n",
        "thisset = {\"apple\", \"banana\", \"cherry\"}\n",
        "del thisset\n",
        "print(thisset) # throws error bcz set is deleted"
      ]
    },
    {
      "cell_type": "raw",
      "id": "ce8eaa89",
      "metadata": {
        "id": "ce8eaa89"
      },
      "source": [
        "# loop sets"
      ]
    },
    {
      "cell_type": "code",
      "execution_count": null,
      "id": "0c9857cc",
      "metadata": {
        "id": "0c9857cc",
        "outputId": "bd0d879b-2de5-49fb-8f36-ed16c13c56b8"
      },
      "outputs": [
        {
          "name": "stdout",
          "output_type": "stream",
          "text": [
            "banana\n",
            "cherry\n",
            "apple\n"
          ]
        }
      ],
      "source": [
        "thisset = {\"apple\", \"banana\", \"cherry\"}\n",
        "for i in thisset:\n",
        "    print(i)"
      ]
    },
    {
      "cell_type": "raw",
      "id": "75979fa9",
      "metadata": {
        "id": "75979fa9"
      },
      "source": [
        "# join sets"
      ]
    },
    {
      "cell_type": "code",
      "execution_count": null,
      "id": "4e8e11fa",
      "metadata": {
        "id": "4e8e11fa",
        "outputId": "ddfb85d8-029a-4338-d4ec-1d4a5d7a408c"
      },
      "outputs": [
        {
          "name": "stdout",
          "output_type": "stream",
          "text": [
            "{'c', 1, 2, 3, 'a', 'b'}\n"
          ]
        }
      ],
      "source": [
        "set1 = {\"a\", \"b\" , \"c\"}\n",
        "set2 = {1, 2, 3}\n",
        "\n",
        "set3 = set1.union(set2)\n",
        "print(set3)"
      ]
    },
    {
      "cell_type": "code",
      "execution_count": null,
      "id": "848b13e0",
      "metadata": {
        "id": "848b13e0",
        "outputId": "37911d20-e729-4813-e8b8-254ea4f6ee31"
      },
      "outputs": [
        {
          "name": "stdout",
          "output_type": "stream",
          "text": [
            "{'c', 1, 2, 3, 'a', 'b'}\n"
          ]
        }
      ],
      "source": [
        "#The update() method inserts the items in set2 into set1:\n",
        "set1 = {\"a\", \"b\" , \"c\"}\n",
        "set2 = {1, 2, 3}\n",
        "set1.update(set2)\n",
        "print(set1)"
      ]
    },
    {
      "cell_type": "code",
      "execution_count": null,
      "id": "f8f2d2a8",
      "metadata": {
        "id": "f8f2d2a8",
        "outputId": "099e0ff6-8368-43ef-b407-20602a8e7526"
      },
      "outputs": [
        {
          "name": "stdout",
          "output_type": "stream",
          "text": [
            "{'apple'}\n"
          ]
        }
      ],
      "source": [
        "#Keep ONLY the Duplicates\n",
        "#The intersection_update() method will keep only the items that are present in both sets.\n",
        "#Keep the items that exist in both set x, and set y:\n",
        "x = {\"apple\", \"banana\", \"cherry\"}\n",
        "y = {\"google\", \"microsoft\", \"apple\"}\n",
        "x.intersection_update(y)\n",
        "print(x)"
      ]
    },
    {
      "cell_type": "code",
      "execution_count": null,
      "id": "38f07b62",
      "metadata": {
        "id": "38f07b62",
        "outputId": "fc4ab42c-b08f-4745-e79a-17db5426acc2"
      },
      "outputs": [
        {
          "name": "stdout",
          "output_type": "stream",
          "text": [
            "{'apple'}\n"
          ]
        }
      ],
      "source": [
        "# Return a set that contains the items that exist in both set x, and set y:\n",
        "x = {\"apple\", \"banana\", \"cherry\"}\n",
        "y = {\"google\", \"microsoft\", \"apple\"}\n",
        "z = x.intersection(y)\n",
        "print(z)"
      ]
    },
    {
      "cell_type": "code",
      "execution_count": null,
      "id": "aff49afd",
      "metadata": {
        "id": "aff49afd",
        "outputId": "a1a08aff-10e7-4e4f-f49c-dd5fc893c4c0"
      },
      "outputs": [
        {
          "name": "stdout",
          "output_type": "stream",
          "text": [
            "{'google', 'banana', 'cherry', 'microsoft'}\n"
          ]
        }
      ],
      "source": [
        "#Keep All, But NOT the Duplicates\n",
        "x = {\"apple\", \"banana\", \"cherry\"}\n",
        "y = {\"google\", \"microsoft\", \"apple\"}\n",
        "x.symmetric_difference_update(y)\n",
        "print(x)"
      ]
    },
    {
      "cell_type": "code",
      "execution_count": null,
      "id": "d683852f",
      "metadata": {
        "id": "d683852f",
        "outputId": "cdbfa5b1-d5d0-4938-b6c7-8a250a59f67f"
      },
      "outputs": [
        {
          "name": "stdout",
          "output_type": "stream",
          "text": [
            "{'google', 'banana', 'cherry', 'microsoft'}\n"
          ]
        }
      ],
      "source": [
        "x = {\"apple\", \"banana\", \"cherry\"}\n",
        "y = {\"google\", \"microsoft\", \"apple\"}\n",
        "z = x.symmetric_difference(y)\n",
        "print(z)"
      ]
    },
    {
      "cell_type": "raw",
      "id": "afe02004",
      "metadata": {
        "id": "afe02004"
      },
      "source": [
        "Set Methods\n",
        "Python has a set of built-in methods that you can use on sets.\n",
        "\n",
        "Method\tDescription\n",
        "add()\tAdds an element to the set\n",
        "clear()\tRemoves all the elements from the set\n",
        "copy()\tReturns a copy of the set\n",
        "difference()\tReturns a set containing the difference between two or more sets\n",
        "difference_update()\tRemoves the items in this set that are also included in another, specified set\n",
        "discard()\tRemove the specified item\n",
        "intersection()\tReturns a set, that is the intersection of two other sets\n",
        "intersection_update()\tRemoves the items in this set that are not present in other, specified set(s)\n",
        "isdisjoint()\tReturns whether two sets have a intersection or not\n",
        "issubset()\tReturns whether another set contains this set or not\n",
        "issuperset()\tReturns whether this set contains another set or not\n",
        "pop()\tRemoves an element from the set\n",
        "remove()\tRemoves the specified element\n",
        "symmetric_difference()\tReturns a set with the symmetric differences of two sets\n",
        "symmetric_difference_update()\tinserts the symmetric differences from this set and another\n",
        "union()\tReturn a set containing the union of sets\n",
        "update()\tUpdate the set with the union of this set and others"
      ]
    },
    {
      "cell_type": "raw",
      "id": "5b7eab48",
      "metadata": {
        "id": "5b7eab48"
      },
      "source": [
        "# python dictionaries"
      ]
    },
    {
      "cell_type": "code",
      "execution_count": null,
      "id": "03dac831",
      "metadata": {
        "id": "03dac831",
        "outputId": "c335bf2f-03a0-4931-c755-40b0f5b13f6e"
      },
      "outputs": [
        {
          "name": "stdout",
          "output_type": "stream",
          "text": [
            "{'brand': 'Ford', 'model': 'Mustang', 'year': 1964}\n"
          ]
        }
      ],
      "source": [
        "thisdict = {\n",
        "  \"brand\": \"Ford\",\n",
        "  \"model\": \"Mustang\",\n",
        "  \"year\": 1964\n",
        "}\n",
        "print(thisdict)"
      ]
    },
    {
      "cell_type": "code",
      "execution_count": null,
      "id": "ac719467",
      "metadata": {
        "id": "ac719467",
        "outputId": "d6e33766-af0c-4fc9-fd47-d1c4225d37a9"
      },
      "outputs": [
        {
          "name": "stdout",
          "output_type": "stream",
          "text": [
            "Ford\n"
          ]
        }
      ],
      "source": [
        "# Dictionary Items\n",
        "#Print the \"brand\" value of the dictionary:\n",
        "thisdict = {\n",
        "  \"brand\": \"Ford\",\n",
        "  \"model\": \"Mustang\",\n",
        "  \"year\": 1964\n",
        "}\n",
        "print(thisdict[\"brand\"])"
      ]
    },
    {
      "cell_type": "code",
      "execution_count": null,
      "id": "b7bb4bbd",
      "metadata": {
        "id": "b7bb4bbd",
        "outputId": "b2ff27c2-5905-4ab4-c359-f8580c3863dc"
      },
      "outputs": [
        {
          "name": "stdout",
          "output_type": "stream",
          "text": [
            "{'brand': 'Ford', 'model': 'Mustang', 'year': 2020}\n"
          ]
        }
      ],
      "source": [
        "#Duplicate values will overwrite existing values:\n",
        "thisdict = {\n",
        "  \"brand\": \"Ford\",\n",
        "  \"model\": \"Mustang\",\n",
        "  \"year\": 1964,\n",
        "  \"year\": 2020\n",
        "}\n",
        "print(thisdict)"
      ]
    },
    {
      "cell_type": "code",
      "execution_count": null,
      "id": "6a9d1502",
      "metadata": {
        "id": "6a9d1502",
        "outputId": "7b35c0da-5b98-41f7-ef0e-6b0f4018c623"
      },
      "outputs": [
        {
          "name": "stdout",
          "output_type": "stream",
          "text": [
            "3\n"
          ]
        }
      ],
      "source": [
        "# len\n",
        "thisdict = {\n",
        "  \"brand\": \"Ford\",\n",
        "  \"model\": \"Mustang\",\n",
        "  \"year\": 1964}\n",
        "print(len(thisdict))"
      ]
    },
    {
      "cell_type": "code",
      "execution_count": null,
      "id": "29dbf792",
      "metadata": {
        "id": "29dbf792",
        "outputId": "7c34793b-b180-4710-a712-76ad92c2bab1"
      },
      "outputs": [
        {
          "name": "stdout",
          "output_type": "stream",
          "text": [
            "<class 'dict'>\n"
          ]
        }
      ],
      "source": [
        "# type()\n",
        "thisdict = {\n",
        "  \"brand\": \"Ford\",\n",
        "  \"model\": \"Mustang\",\n",
        "  \"year\": 1964}\n",
        "print(type(thisdict))"
      ]
    },
    {
      "cell_type": "raw",
      "id": "2972312c",
      "metadata": {
        "id": "2972312c"
      },
      "source": [
        "# Access Dictionary Items"
      ]
    },
    {
      "cell_type": "code",
      "execution_count": null,
      "id": "349eb40c",
      "metadata": {
        "id": "349eb40c",
        "outputId": "9a29377b-031d-4cb8-eb8e-c40e5fe909f6"
      },
      "outputs": [
        {
          "name": "stdout",
          "output_type": "stream",
          "text": [
            "Mustang\n"
          ]
        }
      ],
      "source": [
        "thisdict = {\n",
        "  \"brand\": \"Ford\",\n",
        "  \"model\": \"Mustang\",\n",
        "  \"year\": 1964\n",
        "}\n",
        "x = thisdict[\"model\"]\n",
        "print(x)"
      ]
    },
    {
      "cell_type": "code",
      "execution_count": null,
      "id": "09c14221",
      "metadata": {
        "id": "09c14221",
        "outputId": "eb90469a-351f-4a97-857e-346139d5c988"
      },
      "outputs": [
        {
          "name": "stdout",
          "output_type": "stream",
          "text": [
            "Mustang\n"
          ]
        }
      ],
      "source": [
        "# Get the value of the \"model\" key:\n",
        "x = thisdict.get(\"model\")\n",
        "print(x)"
      ]
    },
    {
      "cell_type": "code",
      "execution_count": null,
      "id": "de6d67c8",
      "metadata": {
        "id": "de6d67c8",
        "outputId": "77720978-a466-46f5-a80b-722956487627"
      },
      "outputs": [
        {
          "name": "stdout",
          "output_type": "stream",
          "text": [
            "dict_keys(['brand', 'model', 'year'])\n"
          ]
        }
      ],
      "source": [
        "# Get Keys\n",
        "thisdict = {\n",
        "  \"brand\": \"Ford\",\n",
        "  \"model\": \"Mustang\",\n",
        "  \"year\": 1964\n",
        "}\n",
        "x = thisdict.keys()\n",
        "print(x)"
      ]
    },
    {
      "cell_type": "code",
      "execution_count": null,
      "id": "aea2863b",
      "metadata": {
        "id": "aea2863b",
        "outputId": "18986ef3-3118-4653-a2a6-ec8c46891de5"
      },
      "outputs": [
        {
          "name": "stdout",
          "output_type": "stream",
          "text": [
            "dict_keys(['brand', 'model', 'year'])\n",
            "dict_keys(['brand', 'model', 'year', 'color'])\n"
          ]
        }
      ],
      "source": [
        "# Add a new item to the original dictionary, and see that the keys list gets updated as well:\n",
        "\n",
        "car = {\n",
        "\"brand\": \"Ford\",\n",
        "\"model\": \"Mustang\",\n",
        "\"year\": 1964\n",
        "}\n",
        "x = car.keys()\n",
        "print(x) #before the change\n",
        "car[\"color\"] = \"white\"\n",
        "print(x) #after the change"
      ]
    },
    {
      "cell_type": "code",
      "execution_count": null,
      "id": "cb2d1899",
      "metadata": {
        "id": "cb2d1899",
        "outputId": "d53d79a9-36ef-4d30-ff9a-9abb35599c7f"
      },
      "outputs": [
        {
          "data": {
            "text/plain": [
              "dict_values(['Ford', 'Mustang', 1964])"
            ]
          },
          "execution_count": 251,
          "metadata": {},
          "output_type": "execute_result"
        }
      ],
      "source": [
        "# get values\n",
        "car = {\n",
        "\"brand\": \"Ford\",\n",
        "\"model\": \"Mustang\",\n",
        "\"year\": 1964\n",
        "}\n",
        "x = thisdict.values()\n",
        "x"
      ]
    },
    {
      "cell_type": "code",
      "execution_count": null,
      "id": "11c84d88",
      "metadata": {
        "id": "11c84d88",
        "outputId": "ad59112b-8ab9-45b1-bf02-c8d2e7ec6efc"
      },
      "outputs": [
        {
          "name": "stdout",
          "output_type": "stream",
          "text": [
            "dict_values(['Ford', 'Mustang', 1964])\n",
            "dict_values(['Ford', 'Mustang', 2020])\n"
          ]
        }
      ],
      "source": [
        "car = {\n",
        "\"brand\": \"Ford\",\n",
        "\"model\": \"Mustang\",\n",
        "\"year\": 1964\n",
        "}\n",
        "x = car.values()\n",
        "print(x) #before the change\n",
        "car[\"year\"] = 2020\n",
        "print(x) #after the change"
      ]
    },
    {
      "cell_type": "code",
      "execution_count": null,
      "id": "ccfbda50",
      "metadata": {
        "id": "ccfbda50",
        "outputId": "90ad6af7-8d10-4b8b-dda3-b5961fe99633"
      },
      "outputs": [
        {
          "data": {
            "text/plain": [
              "dict_items([('brand', 'Ford'), ('model', 'Mustang'), ('year', 1964)])"
            ]
          },
          "execution_count": 253,
          "metadata": {},
          "output_type": "execute_result"
        }
      ],
      "source": [
        "#Get Items\n",
        "car = {\n",
        "\"brand\": \"Ford\",\n",
        "\"model\": \"Mustang\",\n",
        "\"year\": 1964\n",
        "}\n",
        "x = thisdict.items()\n",
        "x"
      ]
    },
    {
      "cell_type": "code",
      "execution_count": null,
      "id": "5b575c3e",
      "metadata": {
        "id": "5b575c3e",
        "outputId": "6e6539ff-8db7-4a23-be3a-70f9fcba6b6c"
      },
      "outputs": [
        {
          "name": "stdout",
          "output_type": "stream",
          "text": [
            "dict_items([('brand', 'Ford'), ('model', 'Mustang'), ('year', 1964)])\n",
            "dict_items([('brand', 'Ford'), ('model', 'Mustang'), ('year', 2020)])\n"
          ]
        }
      ],
      "source": [
        "# Make a change in the original dictionary, and see that the items list gets updated as well:\n",
        "\n",
        "car = {\n",
        "\"brand\": \"Ford\",\n",
        "\"model\": \"Mustang\",\n",
        "\"year\": 1964\n",
        "}\n",
        "x = car.items()\n",
        "print(x) #before the change\n",
        "car[\"year\"] = 2020\n",
        "print(x) #after the change"
      ]
    },
    {
      "cell_type": "raw",
      "id": "069ff559",
      "metadata": {
        "id": "069ff559"
      },
      "source": [
        "#Check if Key Exists"
      ]
    },
    {
      "cell_type": "code",
      "execution_count": null,
      "id": "d2b3e212",
      "metadata": {
        "id": "d2b3e212",
        "outputId": "2937fead-13e0-49b8-bbb8-339f005e208a"
      },
      "outputs": [
        {
          "name": "stdout",
          "output_type": "stream",
          "text": [
            "Yes, 'model' is one of the keys in the thisdict dictionary\n"
          ]
        }
      ],
      "source": [
        "thisdict = {\n",
        "  \"brand\": \"Ford\",\n",
        "  \"model\": \"Mustang\",\n",
        "  \"year\": 1964\n",
        "}\n",
        "if \"model\" in thisdict:\n",
        "  print(\"Yes, 'model' is one of the keys in the thisdict dictionary\")"
      ]
    },
    {
      "cell_type": "raw",
      "id": "239cf0c9",
      "metadata": {
        "id": "239cf0c9"
      },
      "source": [
        "# change dictionary items"
      ]
    },
    {
      "cell_type": "code",
      "execution_count": null,
      "id": "40d2ef89",
      "metadata": {
        "id": "40d2ef89",
        "outputId": "d222a7ae-3262-47aa-e6f4-3d4236345c38"
      },
      "outputs": [
        {
          "data": {
            "text/plain": [
              "{'brand': 'Ford', 'model': 'Mustang', 'year': 2022}"
            ]
          },
          "execution_count": 256,
          "metadata": {},
          "output_type": "execute_result"
        }
      ],
      "source": [
        "thisdict = {\n",
        "  \"brand\": \"Ford\",\n",
        "  \"model\": \"Mustang\",\n",
        "  \"year\": 1964\n",
        "}\n",
        "thisdict['year']=2022\n",
        "thisdict"
      ]
    },
    {
      "cell_type": "code",
      "execution_count": null,
      "id": "bceebcdf",
      "metadata": {
        "id": "bceebcdf",
        "outputId": "41c961e6-5c80-45b3-f93f-6934424dfc68"
      },
      "outputs": [
        {
          "data": {
            "text/plain": [
              "{'brand': 'Ford', 'model': 'Mustang', 'year': 2022}"
            ]
          },
          "execution_count": 257,
          "metadata": {},
          "output_type": "execute_result"
        }
      ],
      "source": [
        "# update dictionary\n",
        "thisdict = {\n",
        "  \"brand\": \"Ford\",\n",
        "  \"model\": \"Mustang\",\n",
        "  \"year\": 1964\n",
        "}\n",
        "thisdict.update({\"year\": 2022})\n",
        "thisdict"
      ]
    },
    {
      "cell_type": "code",
      "execution_count": null,
      "id": "d6a545b9",
      "metadata": {
        "id": "d6a545b9",
        "outputId": "509fdd03-d64e-4568-af5a-b91f24edcf34"
      },
      "outputs": [
        {
          "name": "stdout",
          "output_type": "stream",
          "text": [
            "{'brand': 'Ford', 'model': 'Mustang', 'year': 1964, 'color': 'red'}\n"
          ]
        }
      ],
      "source": [
        "thisdict = {\n",
        "  \"brand\": \"Ford\",\n",
        "  \"model\": \"Mustang\",\n",
        "  \"year\": 1964\n",
        "}\n",
        "thisdict[\"color\"] = \"red\"\n",
        "print(thisdict)"
      ]
    },
    {
      "cell_type": "code",
      "execution_count": null,
      "id": "f93f6f45",
      "metadata": {
        "id": "f93f6f45",
        "outputId": "dbe3ff36-682f-4e9d-f771-cb37f9f2e479"
      },
      "outputs": [
        {
          "data": {
            "text/plain": [
              "{'brand': 'Ford', 'model': 'Mustang', 'year': 1964, 'color': 'red'}"
            ]
          },
          "execution_count": 259,
          "metadata": {},
          "output_type": "execute_result"
        }
      ],
      "source": [
        "thisdict = {\n",
        "  \"brand\": \"Ford\",\n",
        "  \"model\": \"Mustang\",\n",
        "  \"year\": 1964\n",
        "}\n",
        "thisdict.update({\"color\": \"red\"})\n",
        "thisdict"
      ]
    },
    {
      "cell_type": "raw",
      "id": "7b5db7b3",
      "metadata": {
        "id": "7b5db7b3"
      },
      "source": [
        "# remove items from dictionary"
      ]
    },
    {
      "cell_type": "code",
      "execution_count": null,
      "id": "7f569d12",
      "metadata": {
        "id": "7f569d12",
        "outputId": "84ad52ea-4085-4532-f2cd-6b6f3bcb9897"
      },
      "outputs": [
        {
          "name": "stdout",
          "output_type": "stream",
          "text": [
            "{'brand': 'Ford', 'year': 1964}\n"
          ]
        }
      ],
      "source": [
        "thisdict = {\n",
        "  \"brand\": \"Ford\",\n",
        "  \"model\": \"Mustang\",\n",
        "  \"year\": 1964\n",
        "}\n",
        "thisdict.pop(\"model\")\n",
        "print(thisdict)"
      ]
    },
    {
      "cell_type": "code",
      "execution_count": null,
      "id": "82a939cc",
      "metadata": {
        "id": "82a939cc",
        "outputId": "ed6c1bea-3d09-48ca-b5af-9263874b64b1"
      },
      "outputs": [
        {
          "name": "stdout",
          "output_type": "stream",
          "text": [
            "{'brand': 'Ford', 'model': 'Mustang'}\n"
          ]
        }
      ],
      "source": [
        "# remove last item by using popitem()\n",
        "thisdict = {\n",
        "  \"brand\": \"Ford\",\n",
        "  \"model\": \"Mustang\",\n",
        "  \"year\": 1964\n",
        "}\n",
        "thisdict.popitem()\n",
        "print(thisdict)"
      ]
    },
    {
      "cell_type": "code",
      "execution_count": null,
      "id": "f802ea50",
      "metadata": {
        "id": "f802ea50",
        "outputId": "f31d38fc-bdbe-480f-da13-7259386005c8"
      },
      "outputs": [
        {
          "name": "stdout",
          "output_type": "stream",
          "text": [
            "{'brand': 'Ford', 'year': 1964}\n"
          ]
        }
      ],
      "source": [
        "thisdict = {\n",
        "  \"brand\": \"Ford\",\n",
        "  \"model\": \"Mustang\",\n",
        "  \"year\": 1964\n",
        "}\n",
        "del thisdict[\"model\"]\n",
        "print(thisdict)"
      ]
    },
    {
      "cell_type": "code",
      "execution_count": null,
      "id": "d9aaa577",
      "metadata": {
        "id": "d9aaa577",
        "outputId": "d248028b-546c-4ece-ba7e-adc8f2cf14c0"
      },
      "outputs": [
        {
          "ename": "NameError",
          "evalue": "name 'thisdict' is not defined",
          "output_type": "error",
          "traceback": [
            "\u001b[1;31m---------------------------------------------------------------------------\u001b[0m",
            "\u001b[1;31mNameError\u001b[0m                                 Traceback (most recent call last)",
            "\u001b[1;32m<ipython-input-263-cf8f189c2310>\u001b[0m in \u001b[0;36m<module>\u001b[1;34m\u001b[0m\n\u001b[0;32m      5\u001b[0m }\n\u001b[0;32m      6\u001b[0m \u001b[1;32mdel\u001b[0m \u001b[0mthisdict\u001b[0m\u001b[1;33m\u001b[0m\u001b[1;33m\u001b[0m\u001b[0m\n\u001b[1;32m----> 7\u001b[1;33m \u001b[0mprint\u001b[0m\u001b[1;33m(\u001b[0m\u001b[0mthisdict\u001b[0m\u001b[1;33m)\u001b[0m \u001b[1;31m#this will cause an error because \"thisdict\" no longer exists.\u001b[0m\u001b[1;33m\u001b[0m\u001b[1;33m\u001b[0m\u001b[0m\n\u001b[0m",
            "\u001b[1;31mNameError\u001b[0m: name 'thisdict' is not defined"
          ]
        }
      ],
      "source": [
        "thisdict = {\n",
        "  \"brand\": \"Ford\",\n",
        "  \"model\": \"Mustang\",\n",
        "  \"year\": 1964\n",
        "}\n",
        "del thisdict\n",
        "print(thisdict) #this will cause an error because \"thisdict\" no longer exists."
      ]
    },
    {
      "cell_type": "code",
      "execution_count": null,
      "id": "f2aac451",
      "metadata": {
        "id": "f2aac451",
        "outputId": "2a7cf043-18b0-46c9-ec7e-172204753896"
      },
      "outputs": [
        {
          "name": "stdout",
          "output_type": "stream",
          "text": [
            "{}\n"
          ]
        }
      ],
      "source": [
        "# The clear() method empties the dictionary:\n",
        "\n",
        "thisdict = {\n",
        "  \"brand\": \"Ford\",\n",
        "  \"model\": \"Mustang\",\n",
        "  \"year\": 1964\n",
        "}\n",
        "thisdict.clear()\n",
        "print(thisdict)"
      ]
    },
    {
      "cell_type": "raw",
      "id": "5505b713",
      "metadata": {
        "id": "5505b713"
      },
      "source": [
        "# loop dictionaries"
      ]
    },
    {
      "cell_type": "code",
      "execution_count": null,
      "id": "dac27cd6",
      "metadata": {
        "id": "dac27cd6",
        "outputId": "aac0728a-d89d-4c09-ce57-8c76abf870dc"
      },
      "outputs": [
        {
          "name": "stdout",
          "output_type": "stream",
          "text": [
            "brand\n",
            "model\n",
            "year\n"
          ]
        }
      ],
      "source": [
        "thisdict = {\n",
        "  \"brand\": \"Ford\",\n",
        "  \"model\": \"Mustang\",\n",
        "  \"year\": 1964\n",
        "}\n",
        "for x in thisdict:\n",
        "    print(x)"
      ]
    },
    {
      "cell_type": "code",
      "execution_count": null,
      "id": "492d6d50",
      "metadata": {
        "id": "492d6d50",
        "outputId": "637d482f-c74c-4848-847b-01f9e70a79e4"
      },
      "outputs": [
        {
          "name": "stdout",
          "output_type": "stream",
          "text": [
            "Ford\n",
            "Mustang\n",
            "1964\n"
          ]
        }
      ],
      "source": [
        "# use the values() method to return values of a dictionary:\n",
        "thisdict = {\n",
        "  \"brand\": \"Ford\",\n",
        "  \"model\": \"Mustang\",\n",
        "  \"year\": 1964\n",
        "}\n",
        "for x in thisdict.values():\n",
        "  print(x)"
      ]
    },
    {
      "cell_type": "code",
      "execution_count": null,
      "id": "7801240c",
      "metadata": {
        "id": "7801240c",
        "outputId": "a7320bd7-fbb4-486b-d268-95240a1fefc4"
      },
      "outputs": [
        {
          "name": "stdout",
          "output_type": "stream",
          "text": [
            "brand\n",
            "model\n",
            "year\n"
          ]
        }
      ],
      "source": [
        "for x in thisdict.keys():\n",
        "  print(x)"
      ]
    },
    {
      "cell_type": "code",
      "execution_count": null,
      "id": "a441e7e0",
      "metadata": {
        "id": "a441e7e0",
        "outputId": "7bc8dea2-c08d-4db8-d1ff-f4d483a47ccd"
      },
      "outputs": [
        {
          "name": "stdout",
          "output_type": "stream",
          "text": [
            "brand Ford\n",
            "model Mustang\n",
            "year 1964\n"
          ]
        }
      ],
      "source": [
        "#Loop through both keys and values, by using the items() method:\n",
        "\n",
        "for x, y in thisdict.items():\n",
        "  print(x, y)"
      ]
    },
    {
      "cell_type": "code",
      "execution_count": null,
      "id": "7800f646",
      "metadata": {
        "id": "7800f646",
        "outputId": "1841ecb3-2f00-4f0b-fdb2-7d149103de28"
      },
      "outputs": [
        {
          "name": "stdout",
          "output_type": "stream",
          "text": [
            "{'brand': 'Ford', 'model': 'Mustang', 'year': 1964}\n"
          ]
        }
      ],
      "source": [
        "#Make a copy of a dictionary with the copy() method:\n",
        "thisdict = {\n",
        "  \"brand\": \"Ford\",\n",
        "  \"model\": \"Mustang\",\n",
        "  \"year\": 1964\n",
        "}\n",
        "mydict = thisdict.copy()\n",
        "print(mydict)"
      ]
    },
    {
      "cell_type": "code",
      "execution_count": null,
      "id": "7924aef5",
      "metadata": {
        "id": "7924aef5",
        "outputId": "aaed700b-933a-464c-c236-b718d5a3333d"
      },
      "outputs": [
        {
          "name": "stdout",
          "output_type": "stream",
          "text": [
            "{'brand': 'Ford', 'model': 'Mustang', 'year': 1964}\n"
          ]
        }
      ],
      "source": [
        "#Make a copy of a dictionary with the dict() function:\n",
        "\n",
        "thisdict = {\n",
        "  \"brand\": \"Ford\",\n",
        "  \"model\": \"Mustang\",\n",
        "  \"year\": 1964\n",
        "}\n",
        "mydict = dict(thisdict)\n",
        "print(mydict)"
      ]
    },
    {
      "cell_type": "raw",
      "id": "92b34d4a",
      "metadata": {
        "id": "92b34d4a"
      },
      "source": [
        "# nested dictionary"
      ]
    },
    {
      "cell_type": "code",
      "execution_count": null,
      "id": "9f4d6e06",
      "metadata": {
        "id": "9f4d6e06",
        "outputId": "08dee088-1ad1-46c9-efee-d35633ddae69"
      },
      "outputs": [
        {
          "name": "stdout",
          "output_type": "stream",
          "text": [
            "{'child1': {'name': 'Emil', 'year': 2004}, 'child2': {'name': 'Tobias', 'year': 2007}, 'child3': {'name': 'Linus', 'year': 2011}}\n"
          ]
        }
      ],
      "source": [
        "child1 = {\n",
        "  \"name\" : \"Emil\",\n",
        "  \"year\" : 2004\n",
        "}\n",
        "child2 = {\n",
        "  \"name\" : \"Tobias\",\n",
        "  \"year\" : 2007\n",
        "}\n",
        "child3 = {\n",
        "  \"name\" : \"Linus\",\n",
        "  \"year\" : 2011\n",
        "}\n",
        "\n",
        "myfamily = {\n",
        "  \"child1\" : child1,\n",
        "  \"child2\" : child2,\n",
        "  \"child3\" : child3\n",
        "}\n",
        "print(myfamily)"
      ]
    },
    {
      "cell_type": "raw",
      "id": "fdd642b1",
      "metadata": {
        "id": "fdd642b1"
      },
      "source": [
        "Dictionary Methods\n",
        "Python has a set of built-in methods that you can use on dictionaries.\n",
        "\n",
        "Method\tDescription\n",
        "clear()\tRemoves all the elements from the dictionary\n",
        "copy()\tReturns a copy of the dictionary\n",
        "fromkeys()\tReturns a dictionary with the specified keys and value\n",
        "get()\tReturns the value of the specified key\n",
        "items()\tReturns a list containing a tuple for each key value pair\n",
        "keys()\tReturns a list containing the dictionary's keys\n",
        "pop()\tRemoves the element with the specified key\n",
        "popitem()\tRemoves the last inserted key-value pair\n",
        "setdefault()\tReturns the value of the specified key. If the key does not exist: insert the key, with the specified value\n",
        "update()\tUpdates the dictionary with the specified key-value pairs\n",
        "values()\tReturns a list of all the values in the dictionary"
      ]
    },
    {
      "cell_type": "raw",
      "id": "6f852421",
      "metadata": {
        "id": "6f852421"
      },
      "source": [
        "# if...Else  "
      ]
    },
    {
      "cell_type": "raw",
      "id": "d543500b",
      "metadata": {
        "id": "d543500b"
      },
      "source": [
        "Equals: a == b\n",
        "Not Equals: a != b\n",
        "Less than: a < b\n",
        "Less than or equal to: a <= b\n",
        "Greater than: a > b\n",
        "Greater than or equal to: a >= b"
      ]
    },
    {
      "cell_type": "code",
      "execution_count": null,
      "id": "a0009d1d",
      "metadata": {
        "id": "a0009d1d",
        "outputId": "cb030aea-a4c8-4927-83c7-5e2523effb92"
      },
      "outputs": [
        {
          "name": "stdout",
          "output_type": "stream",
          "text": [
            "b is greater than a\n"
          ]
        }
      ],
      "source": [
        "a = 33\n",
        "b = 200\n",
        "if b > a:\n",
        "  print(\"b is greater than a\")"
      ]
    },
    {
      "cell_type": "raw",
      "id": "322f8d99",
      "metadata": {
        "id": "322f8d99"
      },
      "source": [
        "# Elif"
      ]
    },
    {
      "cell_type": "code",
      "execution_count": null,
      "id": "1d25c98a",
      "metadata": {
        "id": "1d25c98a",
        "outputId": "dd8e8f1f-05b2-4117-e1a8-c3d9d0b13d15"
      },
      "outputs": [
        {
          "name": "stdout",
          "output_type": "stream",
          "text": [
            "a and b are equal\n"
          ]
        }
      ],
      "source": [
        "a = 33\n",
        "b = 33\n",
        "if b > a:\n",
        "  print(\"b is greater than a\")\n",
        "elif a == b:\n",
        "  print(\"a and b are equal\")"
      ]
    },
    {
      "cell_type": "raw",
      "id": "1d72acd6",
      "metadata": {
        "id": "1d72acd6"
      },
      "source": [
        "# Else"
      ]
    },
    {
      "cell_type": "code",
      "execution_count": 3,
      "id": "6388b534",
      "metadata": {
        "colab": {
          "base_uri": "https://localhost:8080/"
        },
        "id": "6388b534",
        "outputId": "d38e9496-e0e7-43f1-df46-8bab862add93"
      },
      "outputs": [
        {
          "output_type": "stream",
          "name": "stdout",
          "text": [
            "a is greater than b\n"
          ]
        }
      ],
      "source": [
        "a = 200\n",
        "b = 33\n",
        "if b > a:\n",
        "  print(\"b is greater than a\")\n",
        "elif a == b:\n",
        "  print(\"a and b are equal\")\n",
        "else:\n",
        "  print(\"a is greater than b\")"
      ]
    },
    {
      "cell_type": "raw",
      "id": "755a2e75",
      "metadata": {
        "id": "755a2e75"
      },
      "source": [
        "# Short Hand If"
      ]
    },
    {
      "cell_type": "code",
      "execution_count": 4,
      "id": "84ccf4de",
      "metadata": {
        "colab": {
          "base_uri": "https://localhost:8080/"
        },
        "id": "84ccf4de",
        "outputId": "1955bf77-9d98-4c8c-8fcb-5f71fefc280e"
      },
      "outputs": [
        {
          "output_type": "stream",
          "name": "stdout",
          "text": [
            "a is greater than b\n"
          ]
        }
      ],
      "source": [
        "if a > b: print(\"a is greater than b\")"
      ]
    },
    {
      "cell_type": "code",
      "execution_count": 5,
      "id": "32810dc3",
      "metadata": {
        "colab": {
          "base_uri": "https://localhost:8080/"
        },
        "id": "32810dc3",
        "outputId": "a4cbd177-9282-491a-f783-7bfeaca854bd"
      },
      "outputs": [
        {
          "output_type": "stream",
          "name": "stdout",
          "text": [
            "B\n"
          ]
        }
      ],
      "source": [
        "# Short hand IF...Else\n",
        "a = 2\n",
        "b = 330\n",
        "print(\"A\") if a > b else print(\"B\")"
      ]
    },
    {
      "cell_type": "code",
      "execution_count": 6,
      "id": "0d7f8996",
      "metadata": {
        "colab": {
          "base_uri": "https://localhost:8080/"
        },
        "id": "0d7f8996",
        "outputId": "cde07233-7663-4e34-d942-f5c177bea0de"
      },
      "outputs": [
        {
          "output_type": "stream",
          "name": "stdout",
          "text": [
            "=\n"
          ]
        }
      ],
      "source": [
        "#One line if else statement, with 3 conditions:\n",
        "\n",
        "a = 330\n",
        "b = 330\n",
        "print(\"A\") if a > b else print(\"=\") if a == b else print(\"B\")"
      ]
    },
    {
      "cell_type": "raw",
      "id": "068ebd94",
      "metadata": {
        "id": "068ebd94"
      },
      "source": [
        "# And "
      ]
    },
    {
      "cell_type": "code",
      "execution_count": null,
      "id": "33746b6b",
      "metadata": {
        "id": "33746b6b",
        "outputId": "022dc71f-b526-443a-db49-ed9793b79218"
      },
      "outputs": [
        {
          "name": "stdout",
          "output_type": "stream",
          "text": [
            "Both conditions are True\n"
          ]
        }
      ],
      "source": [
        "#Test if a is greater than b, AND if c is greater than a:\n",
        "\n",
        "a = 200\n",
        "b = 33\n",
        "c = 500\n",
        "if a > b and c > a:\n",
        "  print(\"Both conditions are True\")"
      ]
    },
    {
      "cell_type": "raw",
      "id": "5978caec",
      "metadata": {
        "id": "5978caec"
      },
      "source": [
        "# Or"
      ]
    },
    {
      "cell_type": "code",
      "execution_count": null,
      "id": "ff402e19",
      "metadata": {
        "id": "ff402e19",
        "outputId": "f9fe4e33-0e28-41f5-de8a-34af8250d30b"
      },
      "outputs": [
        {
          "name": "stdout",
          "output_type": "stream",
          "text": [
            "At least one of the conditions is True\n"
          ]
        }
      ],
      "source": [
        "a = 200\n",
        "b = 33\n",
        "c = 500\n",
        "if a > b or a > c:\n",
        "  print(\"At least one of the conditions is True\")"
      ]
    },
    {
      "cell_type": "raw",
      "id": "e7434f6b",
      "metadata": {
        "id": "e7434f6b"
      },
      "source": [
        "# Nested If"
      ]
    },
    {
      "cell_type": "code",
      "execution_count": null,
      "id": "ff23eab1",
      "metadata": {
        "id": "ff23eab1",
        "outputId": "69397257-64fc-424e-de59-64f86eaba257"
      },
      "outputs": [
        {
          "name": "stdout",
          "output_type": "stream",
          "text": [
            "Above ten,\n",
            "and also above 20!\n"
          ]
        }
      ],
      "source": [
        "x = 41\n",
        "if x > 10:\n",
        "  print(\"Above ten,\")\n",
        "  if x > 20:\n",
        "    print(\"and also above 20!\")\n",
        "  else:\n",
        "    print(\"but not above 20.\")"
      ]
    },
    {
      "cell_type": "raw",
      "id": "c692dcd6",
      "metadata": {
        "id": "c692dcd6"
      },
      "source": [
        "# Pass statement"
      ]
    },
    {
      "cell_type": "code",
      "execution_count": null,
      "id": "c49dc81a",
      "metadata": {
        "id": "c49dc81a"
      },
      "outputs": [],
      "source": [
        "a = 33\n",
        "b = 200\n",
        "if b > a:\n",
        "  pass    # having an empty if statement like this, would raise an error without the pass statement"
      ]
    },
    {
      "cell_type": "raw",
      "id": "0d0fd285",
      "metadata": {
        "id": "0d0fd285"
      },
      "source": [
        "# While Loops"
      ]
    },
    {
      "cell_type": "raw",
      "id": "e01f723f",
      "metadata": {
        "id": "e01f723f"
      },
      "source": [
        "Python has two primitive loop commands:\n",
        "\n",
        "while loops\n",
        "for loops"
      ]
    },
    {
      "cell_type": "code",
      "execution_count": null,
      "id": "61cffee5",
      "metadata": {
        "id": "61cffee5",
        "outputId": "9f86aa95-1816-454f-efaa-9f6a260c32cf"
      },
      "outputs": [
        {
          "name": "stdout",
          "output_type": "stream",
          "text": [
            "1\n",
            "2\n",
            "3\n",
            "4\n",
            "5\n"
          ]
        }
      ],
      "source": [
        "i = 1\n",
        "while i < 6:\n",
        "  print(i)\n",
        "  i += 1"
      ]
    },
    {
      "cell_type": "code",
      "execution_count": null,
      "id": "33ef0506",
      "metadata": {
        "id": "33ef0506",
        "outputId": "89bf2330-7459-4ca2-c54a-a396133bce84"
      },
      "outputs": [
        {
          "name": "stdout",
          "output_type": "stream",
          "text": [
            "0\n",
            "1\n",
            "2\n",
            "3\n"
          ]
        }
      ],
      "source": [
        "# break statement\n",
        "i=0\n",
        "while i<=6:\n",
        "    print(i)\n",
        "    if i==3:\n",
        "        break\n",
        "    i+=1"
      ]
    },
    {
      "cell_type": "code",
      "execution_count": null,
      "id": "0e1579d9",
      "metadata": {
        "id": "0e1579d9",
        "outputId": "ee0d41ba-f1a0-4e26-f8f8-f4f81bcb60fb"
      },
      "outputs": [
        {
          "name": "stdout",
          "output_type": "stream",
          "text": [
            "1\n",
            "2\n",
            "4\n",
            "5\n",
            "6\n"
          ]
        }
      ],
      "source": [
        "# continue statement\n",
        "# Continue to the next iteration if i is 3\n",
        "i = 0\n",
        "while i < 6:\n",
        "  i += 1\n",
        "  if i == 3:\n",
        "    continue\n",
        "  print(i)"
      ]
    },
    {
      "cell_type": "code",
      "execution_count": null,
      "id": "07bce2dd",
      "metadata": {
        "id": "07bce2dd",
        "outputId": "f70b0781-6461-49c1-ec2a-b0b2d922b174"
      },
      "outputs": [
        {
          "name": "stdout",
          "output_type": "stream",
          "text": [
            "1\n",
            "2\n",
            "3\n",
            "4\n",
            "5\n",
            "i is no longer less than 6\n"
          ]
        }
      ],
      "source": [
        "# the else statement\n",
        "# Print a message once the condition is false:\n",
        "i = 1\n",
        "while i < 6:\n",
        "  print(i)\n",
        "  i += 1\n",
        "else:\n",
        "  print(\"i is no longer less than 6\")"
      ]
    },
    {
      "cell_type": "raw",
      "id": "6e02ce4f",
      "metadata": {
        "id": "6e02ce4f"
      },
      "source": [
        "# For loops"
      ]
    },
    {
      "cell_type": "code",
      "execution_count": null,
      "id": "1e0e6543",
      "metadata": {
        "id": "1e0e6543",
        "outputId": "1d763e11-06c5-4e03-b81a-0dddb0daebc0"
      },
      "outputs": [
        {
          "name": "stdout",
          "output_type": "stream",
          "text": [
            "apple\n",
            "banana\n",
            "cherry\n"
          ]
        }
      ],
      "source": [
        "fruits = [\"apple\", \"banana\", \"cherry\"]\n",
        "for x in fruits:\n",
        "  print(x)"
      ]
    },
    {
      "cell_type": "code",
      "execution_count": null,
      "id": "fcb84374",
      "metadata": {
        "id": "fcb84374",
        "outputId": "f361909e-3f55-4f29-fac9-cb416a77fe9e"
      },
      "outputs": [
        {
          "name": "stdout",
          "output_type": "stream",
          "text": [
            "b\n",
            "a\n",
            "n\n",
            "a\n",
            "n\n",
            "a\n"
          ]
        }
      ],
      "source": [
        "#Looping Through a String\n",
        "#Even strings are iterable objects, they contain a sequence of characters:\n",
        "for x in \"banana\":\n",
        "  print(x)"
      ]
    },
    {
      "cell_type": "raw",
      "id": "8b9d2f2c",
      "metadata": {
        "id": "8b9d2f2c"
      },
      "source": [
        "break statement in for loop"
      ]
    },
    {
      "cell_type": "code",
      "execution_count": null,
      "id": "47858d8e",
      "metadata": {
        "id": "47858d8e",
        "outputId": "511ba943-1492-4d38-fc95-2dd2f81536db"
      },
      "outputs": [
        {
          "name": "stdout",
          "output_type": "stream",
          "text": [
            "apple\n",
            "banana\n"
          ]
        }
      ],
      "source": [
        "fruits = [\"apple\", \"banana\", \"cherry\"]\n",
        "for x in fruits:\n",
        "  print(x)\n",
        "  if x == \"banana\":\n",
        "    break"
      ]
    },
    {
      "cell_type": "code",
      "execution_count": null,
      "id": "e8880c15",
      "metadata": {
        "id": "e8880c15",
        "outputId": "5aded983-bf72-438a-dcde-a45390e9219b"
      },
      "outputs": [
        {
          "name": "stdout",
          "output_type": "stream",
          "text": [
            "apple\n"
          ]
        }
      ],
      "source": [
        "#Exit the loop when x is \"banana\", but this time the break comes before the print:\n",
        "\n",
        "fruits = [\"apple\", \"banana\", \"cherry\"]\n",
        "for x in fruits:\n",
        "  if x == \"banana\":\n",
        "    break\n",
        "  print(x)"
      ]
    },
    {
      "cell_type": "raw",
      "id": "63116550",
      "metadata": {
        "id": "63116550"
      },
      "source": [
        "Continue statement in for loop"
      ]
    },
    {
      "cell_type": "code",
      "execution_count": null,
      "id": "76e86d11",
      "metadata": {
        "id": "76e86d11",
        "outputId": "2d00b083-8694-4ae3-d8fe-f47599d4bf6f"
      },
      "outputs": [
        {
          "name": "stdout",
          "output_type": "stream",
          "text": [
            "apple\n",
            "cherry\n"
          ]
        }
      ],
      "source": [
        "fruits = [\"apple\", \"banana\", \"cherry\"]\n",
        "for x in fruits:\n",
        "  if x == \"banana\":\n",
        "    continue\n",
        "  print(x)"
      ]
    },
    {
      "cell_type": "raw",
      "id": "1a5a941d",
      "metadata": {
        "id": "1a5a941d"
      },
      "source": [
        "The range function()"
      ]
    },
    {
      "cell_type": "code",
      "execution_count": null,
      "id": "67578d32",
      "metadata": {
        "id": "67578d32",
        "outputId": "2ed987cf-141a-411b-df5e-c103f2ff280e"
      },
      "outputs": [
        {
          "name": "stdout",
          "output_type": "stream",
          "text": [
            "0\n",
            "1\n",
            "2\n",
            "3\n",
            "4\n",
            "5\n"
          ]
        }
      ],
      "source": [
        "# Using the range() function:\n",
        "\n",
        "for x in range(6):\n",
        "  print(x)"
      ]
    },
    {
      "cell_type": "code",
      "execution_count": null,
      "id": "74623174",
      "metadata": {
        "id": "74623174",
        "outputId": "10da9f12-00a0-4e36-cc17-832064e0b624"
      },
      "outputs": [
        {
          "name": "stdout",
          "output_type": "stream",
          "text": [
            "2\n",
            "3\n",
            "4\n",
            "5\n"
          ]
        }
      ],
      "source": [
        "#Using the start parameter:\n",
        "\n",
        "for x in range(2, 6):\n",
        "  print(x)"
      ]
    },
    {
      "cell_type": "code",
      "execution_count": null,
      "id": "c8369826",
      "metadata": {
        "id": "c8369826",
        "outputId": "e50eb0bb-d320-4d2e-e6f0-f2cbd941dcde"
      },
      "outputs": [
        {
          "name": "stdout",
          "output_type": "stream",
          "text": [
            "2\n",
            "5\n",
            "8\n",
            "11\n",
            "14\n",
            "17\n",
            "20\n",
            "23\n",
            "26\n",
            "29\n"
          ]
        }
      ],
      "source": [
        "#Increment the sequence with 3 (default is 1):\n",
        "\n",
        "for x in range(2, 30, 3):\n",
        "  print(x)"
      ]
    },
    {
      "cell_type": "raw",
      "id": "23284d24",
      "metadata": {
        "id": "23284d24"
      },
      "source": [
        "Else in for loop"
      ]
    },
    {
      "cell_type": "code",
      "execution_count": null,
      "id": "725f4696",
      "metadata": {
        "id": "725f4696",
        "outputId": "0ed2d346-8915-48db-833e-8769d709ae37"
      },
      "outputs": [
        {
          "name": "stdout",
          "output_type": "stream",
          "text": [
            "0\n",
            "1\n",
            "2\n",
            "3\n",
            "4\n",
            "5\n",
            "Finally finished!\n"
          ]
        }
      ],
      "source": [
        "#Print all numbers from 0 to 5, and print a message when the loop has ended:\n",
        "\n",
        "for x in range(6):\n",
        "  print(x)\n",
        "else:\n",
        "  print(\"Finally finished!\")"
      ]
    },
    {
      "cell_type": "code",
      "execution_count": null,
      "id": "53e6cba5",
      "metadata": {
        "id": "53e6cba5",
        "outputId": "b0afcbc2-b842-4a17-bff3-633f6aa2dd99"
      },
      "outputs": [
        {
          "name": "stdout",
          "output_type": "stream",
          "text": [
            "0\n",
            "1\n",
            "2\n"
          ]
        }
      ],
      "source": [
        "# Break the loop when x is 3, and see what happens with the else block:\n",
        "for x in range(6):\n",
        "  if x == 3: break\n",
        "  print(x)\n",
        "else:\n",
        "  print(\"Finally finished!\")"
      ]
    },
    {
      "cell_type": "raw",
      "id": "4c4d2ec6",
      "metadata": {
        "id": "4c4d2ec6"
      },
      "source": [
        "nested Loops"
      ]
    },
    {
      "cell_type": "code",
      "execution_count": null,
      "id": "406ab845",
      "metadata": {
        "id": "406ab845",
        "outputId": "1e1904ac-4c7e-493c-91d5-2236616c8739"
      },
      "outputs": [
        {
          "name": "stdout",
          "output_type": "stream",
          "text": [
            "red apple\n",
            "red banana\n",
            "red cherry\n",
            "big apple\n",
            "big banana\n",
            "big cherry\n",
            "tasty apple\n",
            "tasty banana\n",
            "tasty cherry\n"
          ]
        }
      ],
      "source": [
        "adj = [\"red\", \"big\", \"tasty\"]\n",
        "fruits = [\"apple\", \"banana\", \"cherry\"]\n",
        "\n",
        "for x in adj:\n",
        "  for y in fruits:\n",
        "    print(x, y)"
      ]
    },
    {
      "cell_type": "raw",
      "id": "1ad35033",
      "metadata": {
        "id": "1ad35033"
      },
      "source": [
        "##pass statement"
      ]
    },
    {
      "cell_type": "code",
      "execution_count": null,
      "id": "2508a4e0",
      "metadata": {
        "id": "2508a4e0"
      },
      "outputs": [],
      "source": [
        "for x in [0, 1, 2]:\n",
        "  pass     # Note : having an empty for loop like this, would raise an error without the pass statement"
      ]
    },
    {
      "cell_type": "raw",
      "id": "8431c657",
      "metadata": {
        "id": "8431c657"
      },
      "source": [
        "# Functions"
      ]
    },
    {
      "cell_type": "code",
      "execution_count": null,
      "id": "4e711a47",
      "metadata": {
        "id": "4e711a47",
        "outputId": "20d5d48e-50fc-41f4-c1a4-20ac8015f788"
      },
      "outputs": [
        {
          "name": "stdout",
          "output_type": "stream",
          "text": [
            "Hello from a function\n"
          ]
        }
      ],
      "source": [
        "def my_function():\n",
        "  print(\"Hello from a function\")\n",
        "my_function()"
      ]
    },
    {
      "cell_type": "code",
      "execution_count": null,
      "id": "6ba710ae",
      "metadata": {
        "id": "6ba710ae",
        "outputId": "d54be9a3-db7f-4bab-b9b4-97f13b4da718"
      },
      "outputs": [
        {
          "name": "stdout",
          "output_type": "stream",
          "text": [
            "Emil Refsnes\n",
            "Tobias Refsnes\n",
            "Linus Refsnes\n"
          ]
        }
      ],
      "source": [
        "def my_function(fname):\n",
        "  print(fname + \" Refsnes\")\n",
        "\n",
        "my_function(\"Emil\")\n",
        "my_function(\"Tobias\")\n",
        "my_function(\"Linus\")"
      ]
    },
    {
      "cell_type": "code",
      "execution_count": null,
      "id": "88de586c",
      "metadata": {
        "id": "88de586c",
        "outputId": "0cdfb1fd-4f65-469b-9605-262c73d5bb8b"
      },
      "outputs": [
        {
          "name": "stdout",
          "output_type": "stream",
          "text": [
            "Eren Eger\n"
          ]
        }
      ],
      "source": [
        "#this function expects 2 arguments, and gets 2 arguments:\n",
        "\n",
        "def my_function(fname, lname):\n",
        "  print(fname + \" \" + lname)\n",
        "\n",
        "my_function(\"Eren\", \"Eger\")"
      ]
    },
    {
      "cell_type": "code",
      "execution_count": null,
      "id": "1ec62e37",
      "metadata": {
        "id": "1ec62e37",
        "outputId": "987cb4cb-61d3-41b5-da18-36f3d4756179"
      },
      "outputs": [
        {
          "name": "stdout",
          "output_type": "stream",
          "text": [
            "The youngest child is Linus\n"
          ]
        }
      ],
      "source": [
        "#If the number of arguments is unknown, add a * before the parameter name:\n",
        "\n",
        "def my_function(*kids):\n",
        "  print(\"The youngest child is \" + kids[2])\n",
        "\n",
        "my_function(\"Eren\", \"Tobias\", \"Linus\")"
      ]
    },
    {
      "cell_type": "raw",
      "id": "c5dd16ed",
      "metadata": {
        "id": "c5dd16ed"
      },
      "source": [
        "###keyword argument"
      ]
    },
    {
      "cell_type": "code",
      "execution_count": null,
      "id": "7d76c154",
      "metadata": {
        "id": "7d76c154",
        "outputId": "0d60f15c-72b1-4edc-dc7b-8cc4b9f5fbf8"
      },
      "outputs": [
        {
          "name": "stdout",
          "output_type": "stream",
          "text": [
            "The youngest child is Linus\n"
          ]
        }
      ],
      "source": [
        "def my_function(child3, child2, child1):\n",
        "  print(\"The youngest child is \" + child3)\n",
        "\n",
        "my_function(child1 = \"Emil\", child2 = \"Tobias\", child3 = \"Linus\")"
      ]
    },
    {
      "cell_type": "raw",
      "id": "6c822d7d",
      "metadata": {
        "id": "6c822d7d"
      },
      "source": [
        "Arbitrary Keyword Arguments, **kwargs\n",
        "If you do not know how many keyword arguments that will be passed into your function, add two asterisk: ** before the parameter name in the function definition.\n",
        "\n",
        "This way the function will receive a dictionary of arguments, and can access the items accordingly:"
      ]
    },
    {
      "cell_type": "code",
      "execution_count": null,
      "id": "741a80bf",
      "metadata": {
        "id": "741a80bf",
        "outputId": "4ed39128-b87d-4112-eef8-04822a0996c5"
      },
      "outputs": [
        {
          "name": "stdout",
          "output_type": "stream",
          "text": [
            "His last name is Refsnes\n"
          ]
        }
      ],
      "source": [
        "# If the number of keyword arguments is unknown, add a double ** before the parameter name:\n",
        "\n",
        "def my_function(**kid):\n",
        "  print(\"His last name is \" + kid[\"lname\"])\n",
        "\n",
        "my_function(fname = \"Tobias\", lname = \"Refsnes\")"
      ]
    },
    {
      "cell_type": "raw",
      "id": "11048743",
      "metadata": {
        "id": "11048743"
      },
      "source": [
        "###default parameter"
      ]
    },
    {
      "cell_type": "code",
      "execution_count": null,
      "id": "1e25b146",
      "metadata": {
        "id": "1e25b146",
        "outputId": "0b6088e9-2c83-4821-8171-69de4a7983d8"
      },
      "outputs": [
        {
          "name": "stdout",
          "output_type": "stream",
          "text": [
            "I am from Sweden\n",
            "I am from India\n",
            "I am from Norway\n",
            "I am from Brazil\n"
          ]
        }
      ],
      "source": [
        "# The following example shows how to use a default parameter value.\n",
        "# If we call the function without argument, it uses the default value:\n",
        "\n",
        "def my_function(country = \"Norway\"):\n",
        "  print(\"I am from \" + country)\n",
        "\n",
        "my_function(\"Sweden\")\n",
        "my_function(\"India\")\n",
        "my_function()\n",
        "my_function(\"Brazil\")"
      ]
    },
    {
      "cell_type": "raw",
      "id": "86424214",
      "metadata": {
        "id": "86424214"
      },
      "source": [
        "#### Passing a List as an Argument"
      ]
    },
    {
      "cell_type": "code",
      "execution_count": null,
      "id": "6342c0b5",
      "metadata": {
        "id": "6342c0b5",
        "outputId": "c1fc67d4-fa57-4ad7-d679-3d2483506600"
      },
      "outputs": [
        {
          "name": "stdout",
          "output_type": "stream",
          "text": [
            "apple\n",
            "banana\n",
            "cherry\n"
          ]
        }
      ],
      "source": [
        "def my_function(food):\n",
        "  for x in food:\n",
        "    print(x)\n",
        "\n",
        "fruits = [\"apple\", \"banana\", \"cherry\"]\n",
        "\n",
        "my_function(fruits)"
      ]
    },
    {
      "cell_type": "raw",
      "id": "066eadf9",
      "metadata": {
        "id": "066eadf9"
      },
      "source": [
        "## Return values"
      ]
    },
    {
      "cell_type": "code",
      "execution_count": null,
      "id": "64f28d33",
      "metadata": {
        "id": "64f28d33",
        "outputId": "43bfd3c8-3929-4633-ade4-9710659a569b"
      },
      "outputs": [
        {
          "name": "stdout",
          "output_type": "stream",
          "text": [
            "15\n",
            "25\n",
            "45\n"
          ]
        }
      ],
      "source": [
        "#To let a function return a value, use the return statement:\n",
        "\n",
        "def my_function(x):\n",
        "  return 5 * x\n",
        "\n",
        "print(my_function(3))\n",
        "print(my_function(5))\n",
        "print(my_function(9))"
      ]
    },
    {
      "cell_type": "code",
      "execution_count": null,
      "id": "12252b7d",
      "metadata": {
        "id": "12252b7d"
      },
      "outputs": [],
      "source": [
        "# Pass statement\n",
        "def myfunc():\n",
        "    pass"
      ]
    },
    {
      "cell_type": "raw",
      "id": "c9a03fb3",
      "metadata": {
        "id": "c9a03fb3"
      },
      "source": [
        "## recursion"
      ]
    },
    {
      "cell_type": "code",
      "execution_count": null,
      "id": "072d6c3b",
      "metadata": {
        "id": "072d6c3b",
        "outputId": "7922fda3-94cd-4e07-d34a-dcdbbaee886e"
      },
      "outputs": [
        {
          "name": "stdout",
          "output_type": "stream",
          "text": [
            "\n",
            "\n",
            "Recursion Example Results\n",
            "1\n",
            "3\n",
            "6\n",
            "10\n",
            "15\n",
            "21\n"
          ]
        },
        {
          "data": {
            "text/plain": [
              "21"
            ]
          },
          "execution_count": 308,
          "metadata": {},
          "output_type": "execute_result"
        }
      ],
      "source": [
        "def tri_recursion(k):\n",
        "  if(k > 0):\n",
        "    result = k + tri_recursion(k - 1)\n",
        "    print(result)\n",
        "  else:\n",
        "    result = 0\n",
        "  return result\n",
        "\n",
        "print(\"\\n\\nRecursion Example Results\")\n",
        "tri_recursion(6)"
      ]
    },
    {
      "cell_type": "raw",
      "id": "691dbf24",
      "metadata": {
        "id": "691dbf24"
      },
      "source": [
        "# Python lambda"
      ]
    },
    {
      "cell_type": "raw",
      "id": "baba5bf1",
      "metadata": {
        "id": "baba5bf1"
      },
      "source": [
        "Syntax\n",
        "lambda arguments : expression"
      ]
    },
    {
      "cell_type": "code",
      "execution_count": null,
      "id": "5f5ffc2f",
      "metadata": {
        "id": "5f5ffc2f",
        "outputId": "b30230f1-bc0e-4ea0-8269-f71d26209b66"
      },
      "outputs": [
        {
          "name": "stdout",
          "output_type": "stream",
          "text": [
            "15\n"
          ]
        }
      ],
      "source": [
        "#Add 10 to argument a, and return the result:\n",
        "\n",
        "x = lambda a : a + 10\n",
        "print(x(5))"
      ]
    },
    {
      "cell_type": "code",
      "execution_count": null,
      "id": "99f50e21",
      "metadata": {
        "id": "99f50e21",
        "outputId": "eb6672d7-f641-48d9-acd1-3bdc66aed3af"
      },
      "outputs": [
        {
          "name": "stdout",
          "output_type": "stream",
          "text": [
            "30\n"
          ]
        }
      ],
      "source": [
        "#Multiply argument a with argument b and return the result:\n",
        "\n",
        "x = lambda a, b : a * b\n",
        "print(x(5, 6))"
      ]
    },
    {
      "cell_type": "code",
      "execution_count": null,
      "id": "438d4fce",
      "metadata": {
        "id": "438d4fce",
        "outputId": "a6dff0ff-d2ed-447f-859f-aea3c85c129c"
      },
      "outputs": [
        {
          "name": "stdout",
          "output_type": "stream",
          "text": [
            "13\n"
          ]
        }
      ],
      "source": [
        "#Summarize argument a, b, and c and return the result:\n",
        "\n",
        "x = lambda a, b, c : a + b + c\n",
        "print(x(5, 6, 2))"
      ]
    },
    {
      "cell_type": "code",
      "execution_count": null,
      "id": "5ef6af50",
      "metadata": {
        "id": "5ef6af50",
        "outputId": "58062cf6-2c5c-478c-e6e6-299e1dea39ce"
      },
      "outputs": [
        {
          "name": "stdout",
          "output_type": "stream",
          "text": [
            "22\n"
          ]
        }
      ],
      "source": [
        "def myfunc(n):\n",
        "  return lambda a : a * n\n",
        "mydoubler = myfunc(2)\n",
        "print(mydoubler(11))"
      ]
    },
    {
      "cell_type": "code",
      "execution_count": null,
      "id": "3185c87b",
      "metadata": {
        "id": "3185c87b",
        "outputId": "ce40641e-df80-4187-f7a2-84b4cb415817"
      },
      "outputs": [
        {
          "name": "stdout",
          "output_type": "stream",
          "text": [
            "33\n"
          ]
        }
      ],
      "source": [
        "def myfunc(n):\n",
        "  return lambda a : a * n\n",
        "\n",
        "mytripler = myfunc(3)\n",
        "\n",
        "print(mytripler(11))"
      ]
    },
    {
      "cell_type": "code",
      "execution_count": null,
      "id": "866ed190",
      "metadata": {
        "id": "866ed190",
        "outputId": "a161f1b4-4fb2-4dc3-c75f-845bda16634e"
      },
      "outputs": [
        {
          "name": "stdout",
          "output_type": "stream",
          "text": [
            "22\n",
            "33\n"
          ]
        }
      ],
      "source": [
        "def myfunc(n):\n",
        "  return lambda a : a * n\n",
        "\n",
        "mydoubler = myfunc(2)\n",
        "mytripler = myfunc(3)\n",
        "\n",
        "print(mydoubler(11))\n",
        "print(mytripler(11))"
      ]
    },
    {
      "cell_type": "raw",
      "id": "588a792c",
      "metadata": {
        "id": "588a792c"
      },
      "source": [
        "# Arrays"
      ]
    },
    {
      "cell_type": "raw",
      "id": "9258f365",
      "metadata": {
        "id": "9258f365"
      },
      "source": [
        "Array Methods\n",
        "Python has a set of built-in methods that you can use on lists/arrays.\n",
        "\n",
        "Method\tDescription\n",
        "append()\tAdds an element at the end of the list\n",
        "clear()\tRemoves all the elements from the list\n",
        "copy()\tReturns a copy of the list\n",
        "count()\tReturns the number of elements with the specified value\n",
        "extend()\tAdd the elements of a list (or any iterable), to the end of the current list\n",
        "index()\tReturns the index of the first element with the specified value\n",
        "insert()\tAdds an element at the specified position\n",
        "pop()\tRemoves the element at the specified position\n",
        "remove()\tRemoves the first item with the specified value\n",
        "reverse()\tReverses the order of the list\n",
        "sort()\tSorts the list"
      ]
    },
    {
      "cell_type": "markdown",
      "id": "04a4dd37",
      "metadata": {
        "id": "04a4dd37"
      },
      "source": [
        "# map, reduce, filter"
      ]
    },
    {
      "cell_type": "code",
      "execution_count": 7,
      "id": "cb78730a",
      "metadata": {
        "colab": {
          "base_uri": "https://localhost:8080/"
        },
        "id": "cb78730a",
        "outputId": "f03195a6-60bb-4be3-d391-64656832f3e9"
      },
      "outputs": [
        {
          "output_type": "execute_result",
          "data": {
            "text/plain": [
              "[2, 4]"
            ]
          },
          "metadata": {},
          "execution_count": 7
        }
      ],
      "source": [
        "num = [1,2,4,5,9,7]\n",
        "even=list(filter(lambda n:n%2==0, num))\n",
        "even"
      ]
    },
    {
      "cell_type": "code",
      "execution_count": 8,
      "id": "a19085ed",
      "metadata": {
        "colab": {
          "base_uri": "https://localhost:8080/"
        },
        "id": "a19085ed",
        "outputId": "747bfda4-75e3-4c76-aaf8-2f2d47e7df6f"
      },
      "outputs": [
        {
          "output_type": "execute_result",
          "data": {
            "text/plain": [
              "[2, 4, 8, 10, 18, 14]"
            ]
          },
          "metadata": {},
          "execution_count": 8
        }
      ],
      "source": [
        "doubles = list(map(lambda n:n*2, num))\n",
        "doubles"
      ]
    },
    {
      "cell_type": "code",
      "execution_count": 9,
      "id": "f80d668d",
      "metadata": {
        "colab": {
          "base_uri": "https://localhost:8080/"
        },
        "id": "f80d668d",
        "outputId": "8e49917a-e711-4390-e84b-1a896b2fbc02"
      },
      "outputs": [
        {
          "output_type": "execute_result",
          "data": {
            "text/plain": [
              "28"
            ]
          },
          "metadata": {},
          "execution_count": 9
        }
      ],
      "source": [
        "from functools import reduce\n",
        "sum = reduce(lambda a,b: a+b, num)\n",
        "sum"
      ]
    },
    {
      "cell_type": "markdown",
      "id": "1950c332",
      "metadata": {
        "id": "1950c332"
      },
      "source": [
        "### Sorting a dictionary"
      ]
    },
    {
      "cell_type": "code",
      "execution_count": 20,
      "id": "93828010",
      "metadata": {
        "id": "93828010"
      },
      "outputs": [],
      "source": [
        "# define a dictionary with keys as number and values as alphabets\n",
        "\n",
        "x = { 2:'b', 1:'d', 4:'a', 3:'c'}"
      ]
    },
    {
      "cell_type": "code",
      "execution_count": 21,
      "id": "45b47133",
      "metadata": {
        "colab": {
          "base_uri": "https://localhost:8080/"
        },
        "id": "45b47133",
        "outputId": "fccf1132-82c1-4fbf-a754-0a879efabb6d"
      },
      "outputs": [
        {
          "output_type": "execute_result",
          "data": {
            "text/plain": [
              "{1: 'd', 2: 'b', 3: 'c', 4: 'a'}"
            ]
          },
          "metadata": {},
          "execution_count": 21
        }
      ],
      "source": [
        "# print dictionary\n",
        "x"
      ]
    },
    {
      "cell_type": "code",
      "execution_count": 22,
      "id": "3adaac37",
      "metadata": {
        "colab": {
          "base_uri": "https://localhost:8080/"
        },
        "id": "3adaac37",
        "outputId": "00626fc1-8d07-40fa-e1ad-172c7f92af43"
      },
      "outputs": [
        {
          "output_type": "execute_result",
          "data": {
            "text/plain": [
              "[1, 2, 3, 4]"
            ]
          },
          "metadata": {},
          "execution_count": 22
        }
      ],
      "source": [
        "# by default sort is on keys, it returns a sorted list of keys\n",
        "\n",
        "sorted(x)"
      ]
    },
    {
      "cell_type": "code",
      "execution_count": 23,
      "id": "88f0bc1a",
      "metadata": {
        "colab": {
          "base_uri": "https://localhost:8080/"
        },
        "id": "88f0bc1a",
        "outputId": "b86cf3b2-0b94-425c-96bc-1f759b2a4f01"
      },
      "outputs": [
        {
          "output_type": "execute_result",
          "data": {
            "text/plain": [
              "['a', 'b', 'c', 'd']"
            ]
          },
          "metadata": {},
          "execution_count": 23
        }
      ],
      "source": [
        "# sort on values, it returns a sorted list of values\n",
        "\n",
        "sorted(x.values())"
      ]
    },
    {
      "cell_type": "code",
      "execution_count": 24,
      "id": "76c5c12c",
      "metadata": {
        "colab": {
          "base_uri": "https://localhost:8080/"
        },
        "id": "76c5c12c",
        "outputId": "daa27c03-34e5-452d-8e48-e3bc1508c859"
      },
      "outputs": [
        {
          "output_type": "execute_result",
          "data": {
            "text/plain": [
              "[(1, 'd'), (2, 'b'), (3, 'c'), (4, 'a')]"
            ]
          },
          "metadata": {},
          "execution_count": 24
        }
      ],
      "source": [
        "# sort on key,value pair, this time sorting on keys \n",
        "\n",
        "sorted(x.items(), key=lambda x : x[0])"
      ]
    },
    {
      "cell_type": "code",
      "execution_count": 25,
      "id": "1ee0570c",
      "metadata": {
        "colab": {
          "base_uri": "https://localhost:8080/"
        },
        "id": "1ee0570c",
        "outputId": "e27e8b99-b6b3-4841-813d-e9cfa35ef409"
      },
      "outputs": [
        {
          "output_type": "execute_result",
          "data": {
            "text/plain": [
              "{1: 'd', 2: 'b', 3: 'c', 4: 'a'}"
            ]
          },
          "metadata": {},
          "execution_count": 25
        }
      ],
      "source": [
        "# sort on key,value pair, this time sorting on dictionary key\n",
        "# and return the dictionary using dictionary comprehension\n",
        "\n",
        "{a:b for a,b in sorted(x.items(), key=lambda x : x[0])}"
      ]
    },
    {
      "cell_type": "code",
      "execution_count": 26,
      "id": "41908a3d",
      "metadata": {
        "colab": {
          "base_uri": "https://localhost:8080/"
        },
        "id": "41908a3d",
        "outputId": "bd40fcc9-2c14-4044-8125-ce224e822911"
      },
      "outputs": [
        {
          "output_type": "execute_result",
          "data": {
            "text/plain": [
              "{1: 'd', 2: 'b', 3: 'c', 4: 'a'}"
            ]
          },
          "metadata": {},
          "execution_count": 26
        }
      ],
      "source": [
        "# sort on key,value pair, this time sorting on dictionary values\n",
        "# and return the dictionary using dictionary comprehension\n",
        "\n",
        "{a:b for a,b in sorted(x.items(), key=lambda x : x[1])}"
      ]
    },
    {
      "cell_type": "markdown",
      "id": "ae311824",
      "metadata": {
        "id": "ae311824"
      },
      "source": [
        "### use of counter to count letters"
      ]
    },
    {
      "cell_type": "code",
      "execution_count": 27,
      "id": "7742c2f7",
      "metadata": {
        "colab": {
          "base_uri": "https://localhost:8080/"
        },
        "id": "7742c2f7",
        "outputId": "eb720ec3-4542-46c5-dbdb-bb71913c906e"
      },
      "outputs": [
        {
          "output_type": "execute_result",
          "data": {
            "text/plain": [
              "Counter({'a': 1, 'b': 4, 'c': 1, 'd': 4, 'e': 1})"
            ]
          },
          "metadata": {},
          "execution_count": 27
        }
      ],
      "source": [
        "\n",
        "from collections import Counter\n",
        "\n",
        "# count letters in following string\n",
        "s = \"abbbbcedddd\"\n",
        "\n",
        "\n",
        "Counter(s)"
      ]
    },
    {
      "cell_type": "code",
      "execution_count": 28,
      "id": "9512ba1a",
      "metadata": {
        "colab": {
          "base_uri": "https://localhost:8080/"
        },
        "id": "9512ba1a",
        "outputId": "867432ed-5671-4103-f6ba-408229ec4d2e"
      },
      "outputs": [
        {
          "output_type": "execute_result",
          "data": {
            "text/plain": [
              "{1: 'd', 2: 'b', 3: 'c', 4: 'a'}"
            ]
          },
          "metadata": {},
          "execution_count": 28
        }
      ],
      "source": [
        "# now above can be sorted anyway we desire\n",
        "d = dict(Counter(s))\n",
        "{a:b for a,b in sorted(x.items(), key=lambda x : x[1])}"
      ]
    },
    {
      "cell_type": "code",
      "execution_count": 29,
      "id": "fe040741",
      "metadata": {
        "colab": {
          "base_uri": "https://localhost:8080/"
        },
        "id": "fe040741",
        "outputId": "ea1a9c4e-6e93-4f8d-a700-3a0e4ae89cdc"
      },
      "outputs": [
        {
          "output_type": "execute_result",
          "data": {
            "text/plain": [
              "{1: 'd', 2: 'b', 3: 'c', 4: 'a'}"
            ]
          },
          "metadata": {},
          "execution_count": 29
        }
      ],
      "source": [
        "\n",
        "{a:b for a,b in sorted(x.items(), key=lambda x : x[0])}"
      ]
    },
    {
      "cell_type": "code",
      "execution_count": 29,
      "id": "d15d4bc3",
      "metadata": {
        "id": "d15d4bc3"
      },
      "outputs": [],
      "source": [
        ""
      ]
    }
  ],
  "metadata": {
    "kernelspec": {
      "display_name": "Python 3",
      "language": "python",
      "name": "python3"
    },
    "language_info": {
      "codemirror_mode": {
        "name": "ipython",
        "version": 3
      },
      "file_extension": ".py",
      "mimetype": "text/x-python",
      "name": "python",
      "nbconvert_exporter": "python",
      "pygments_lexer": "ipython3",
      "version": "3.8.8"
    },
    "colab": {
      "name": "Python programming12Feb22.ipynb",
      "provenance": [],
      "include_colab_link": true
    }
  },
  "nbformat": 4,
  "nbformat_minor": 5
}