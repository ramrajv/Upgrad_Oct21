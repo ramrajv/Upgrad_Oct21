{
 "cells": [
  {
   "cell_type": "markdown",
   "id": "9e215c29",
   "metadata": {},
   "source": [
    "### BMI Groups\n",
    "\n",
    "Question 1. Create another feature based called BMI_group which groups people based on their BMI. The groups should be as follows:\n",
    "Underweight: BMI is less than 18.5.\n",
    "Normal: BMI is 18.5 to 24.9.\n",
    "Overweight: BMI is 25 to 29.9.\n",
    "Obese: BMI is 30 or more.\n",
    "The grouping is based on WHO standards.\n",
    "The output should have first five rows of the resulting dataframe."
   ]
  },
  {
   "cell_type": "code",
   "execution_count": 6,
   "id": "bc7e9f41",
   "metadata": {},
   "outputs": [
    {
     "name": "stdout",
     "output_type": "stream",
     "text": [
      "   age     sex     bmi  children smoker     region      charges   BMI_group\n",
      "0   19  female  27.900         0    yes  southwest  16884.92400  Overweight\n",
      "1   18    male  33.770         1     no  southeast   1725.55230       Obese\n",
      "2   28    male  33.000         3     no  southeast   4449.46200       Obese\n",
      "3   33    male  22.705         0     no  northwest  21984.47061      Normal\n",
      "4   32    male  28.880         0     no  northwest   3866.85520  Overweight\n"
     ]
    }
   ],
   "source": [
    "import pandas as pd \n",
    "pd.set_option('display.max_columns', 500)\n",
    "df=pd.read_csv(\"https://media-doselect.s3.amazonaws.com/generic/OzvzVqK4pgg4x7qEadoZMRyVR/insurance.csv\")\n",
    "def bmi_group(val):\n",
    "    if val<18.5:\n",
    "        return \"Underweight\"\n",
    "    if (val>=18.5) & (val<24.9):\n",
    "        return \"Normal\"\n",
    "    if (val>=24.9) & (val<=29.9):\n",
    "        return \"Overweight\"\n",
    "    if val>=30:\n",
    "        return \"Obese\"\n",
    "    \n",
    "df[\"BMI_group\"] = df.bmi.apply(bmi_group)\n",
    "print(df.head())"
   ]
  },
  {
   "cell_type": "code",
   "execution_count": null,
   "id": "e8e717ab",
   "metadata": {},
   "outputs": [],
   "source": []
  },
  {
   "cell_type": "markdown",
   "id": "29398a24",
   "metadata": {},
   "source": [
    "### Handling Categorical Variables\n",
    "\n",
    "Description\n",
    "\n",
    "Encode all categorical features such that they can be used in a regression model.\n",
    "i.e.\n",
    "sex, BMI_group, smoker and region should be labelled properly.\n",
    "\n",
    "Note: Use the label encoder for all features. You can read more about it here.\n",
    "\n",
    "The output should have first five rows of the resulting dataframe. "
   ]
  },
  {
   "cell_type": "code",
   "execution_count": 12,
   "id": "73cd07c0",
   "metadata": {},
   "outputs": [
    {
     "name": "stdout",
     "output_type": "stream",
     "text": [
      "   age  sex     bmi  children  smoker  region      charges  BMI_group\n",
      "0   19    0  27.900         0       1       3  16884.92400          2\n",
      "1   18    1  33.770         1       0       2   1725.55230          1\n",
      "2   28    1  33.000         3       0       2   4449.46200          1\n",
      "3   33    1  22.705         0       0       1  21984.47061          0\n",
      "4   32    1  28.880         0       0       1   3866.85520          2\n"
     ]
    }
   ],
   "source": [
    "#import pandas as pd \n",
    "from sklearn.preprocessing import LabelEncoder\n",
    "pd.set_option('display.max_columns', 500)\n",
    "df=pd.read_csv(\"https://media-doselect.s3.amazonaws.com/generic/831JKKEkW7kqd5M4evNva9LyB/insurance_grouped.csv\")\n",
    "\n",
    "le = LabelEncoder()\n",
    "#sex\n",
    "le.fit(df.sex.drop_duplicates()) \n",
    "df.sex = le.transform(df.sex)\n",
    "# smoker or not\n",
    "le.fit(df.smoker.drop_duplicates()) \n",
    "df.smoker = le.transform(df.smoker)\n",
    "#region\n",
    "le.fit(df.region.drop_duplicates()) \n",
    "df.region = le.transform(df.region)\n",
    "#changing data type\n",
    "df.BMI_group=df.BMI_group.astype(str)\n",
    "le.fit(df.BMI_group.drop_duplicates()) \n",
    "df.BMI_group = le.transform(df.BMI_group)\n",
    "print(df.head())\n",
    "\n",
    "#print(round(df.smoker.corr(df.bmi),4))\n",
    "#print(round(df.smoker.corr(df.age),4))\n",
    "#print(round(df.smoker.corr(df.charges),4))"
   ]
  },
  {
   "cell_type": "markdown",
   "id": "cc6da747",
   "metadata": {},
   "source": [
    "### Smoking kills\n",
    "\n",
    "#### Description\n",
    "\n",
    "As everyone knows, smoking is a major cause of bad health. Here, try to find if smoking is affecting health of people.\n",
    "Print the correlation value of \"smoker\" columns with \"bmi\", \"age\"  and \"charges\" columns in three lines respectively.\n",
    "\n",
    "Note: You should round off all three values till four decimal places using the round() function."
   ]
  },
  {
   "cell_type": "code",
   "execution_count": 31,
   "id": "f228aaf6",
   "metadata": {},
   "outputs": [
    {
     "name": "stdout",
     "output_type": "stream",
     "text": [
      "0.0038\n",
      "-0.0250\n",
      "0.7873\n"
     ]
    }
   ],
   "source": [
    "print(round(df.smoker.corr(df.bmi),4))\n",
    "x=round(df.smoker.corr(df.age),4)\n",
    "print (\"{:.4f}\".format(x))\n",
    "print(round(df.smoker.corr(df.charges),4))"
   ]
  },
  {
   "cell_type": "markdown",
   "id": "e17f6365",
   "metadata": {},
   "source": [
    "### Simple Linear Regression\n",
    "\n",
    "#### Description\n",
    "\n",
    "We have divided the dataset now into test and train sets.\n",
    "Since you already saw that being a smoker and healthcare charges are highly correlated. Try to create a linear regression model using only the \"smoker\" variable as the independent variable and \"charges\" as dependent variable.\n",
    "\n",
    "##### Note: All operations you performed in the previous questions have already been performed on the dataset here. \n",
    "You can take any other measures to ensure a better outcome if you want.\n",
    "The dataset has been divided into train and test sets and both have been loaded in the coding console. \n",
    "\n",
    "You have to write the predictions in the file:\n",
    "\n",
    "/code/output/predictions.csv\n",
    "\n",
    "You have to add the predictions in a column titled \"predicted_charges\" in the test dataset.\n",
    "Make sure you use the same column name otherwise your score won't be evaluated.\n",
    "\n",
    "Your model's R-squared will be evaluated on an unseen test dataset. The R-squared of your model should be greater than 0.6. \n",
    "##### You don't need to write any code for calculation of Rsquared. It will automatically be evaluated on the unseen test set once you click Verify/Submit. \n"
   ]
  },
  {
   "cell_type": "code",
   "execution_count": 33,
   "id": "2a052b61",
   "metadata": {},
   "outputs": [],
   "source": [
    "import numpy as np\n",
    "#import pandas as pd\n",
    "\n",
    "# Read training data\n",
    "train = pd.read_csv(\"https://media-doselect.s3.amazonaws.com/generic/72Boxj99702g8BwK5powGz1g0/insurance_training.csv\")\n",
    "\n",
    "# Read test data\n",
    "test = pd.read_csv(\"https://media-doselect.s3.amazonaws.com/generic/gxVjwe1k3YEogYK23O8PPnXod/insurance_test.csv\")\n",
    "\n",
    "# Linear regression\n",
    "from sklearn.linear_model import LinearRegression\n",
    "lr = LinearRegression()\n",
    "lr.fit(np.array(train['smoker']).reshape(-1,1),train['charges'])\n",
    "y_test_pred=lr.predict(np.array(test['smoker']).reshape(-1,1))\n",
    "\n",
    "# Write the output\n",
    "#test[\"predicted_charges\"]=y_test_pred\n",
    "#test.to_csv(\"/code/output/predictions.csv\")"
   ]
  },
  {
   "cell_type": "markdown",
   "id": "799ab830",
   "metadata": {},
   "source": [
    "### Predicting healthcare charges\n",
    "\n",
    "#### Description\n",
    "\n",
    "You saw that by using only the \"smoker\" variable, you can get an r-squared of 0.66 easily.\n",
    "\n",
    "Now your task is to perform linear regression using the entire dataset.\n",
    "\n",
    "##### Note: All operations your performed in the questions 1-3 have already been performed on the dataset here. You can take any other measures to ensure a better outcome if you want.(for example: normalising or standardising any values or adding any other columns)\n",
    "\n",
    "The dataset has been divided into train and test sets and both have been loaded in the coding console. \n",
    "\n",
    "\n",
    "You have to write the predictions in the file:\n",
    "\n",
    "/code/output/predictions.csv\n",
    "\n",
    "\n",
    "You have to add the predictions in a column titled \"predicted_charges\" in the test dataset.\n",
    "\n",
    "Make sure you use the same column name otherwise your score won't be evaluated.\n",
    "\n",
    "\n",
    "Your model's R-squared-adjusted will be evaluated on an unseen test dataset. The R-squared of your model should be greater than 0.72. \n",
    "##### You don't need to write any code for calculation of R-squared adjusted. It will automatically be evaluated on the unseen test set once you click Verify/Submit. \n",
    "\n",
    "Datasets\n",
    "- Training dataset"
   ]
  },
  {
   "cell_type": "code",
   "execution_count": 34,
   "id": "21a73775",
   "metadata": {},
   "outputs": [],
   "source": [
    "import numpy as np\n",
    "import pandas as pd\n",
    "\n",
    "# Read training data\n",
    "train = pd.read_csv(\"https://media-doselect.s3.amazonaws.com/generic/QNdMORzykKkG4L3WQ17Xx53o3/insurance_training.csv\")\n",
    "\n",
    "# Read test data\n",
    "test = pd.read_csv(\"https://media-doselect.s3.amazonaws.com/generic/Mq5p8YpQoz3KbWJRE4Mey1Yoq/insurance_test.csv\")\n",
    "\n",
    "# Linear regression\n",
    "#import required libraries\n",
    "import sklearn\n",
    "from sklearn.linear_model import LinearRegression\n",
    "lr = LinearRegression()\n",
    "lr.fit(train.drop([\"region\",\"charges\"],axis=1),train['charges'])\n",
    "y_test_pred=lr.predict(test.drop(\"region\",axis=1))\n",
    "\n",
    "# Write the output\n",
    "#test[\"predicted_charges\"]=y_test_pred\n",
    "#test.to_csv(\"/code/output/predictions.csv\")"
   ]
  },
  {
   "cell_type": "markdown",
   "id": "23ba7eb8",
   "metadata": {},
   "source": [
    "### Mapping Variables\n",
    "\n",
    "#### Description\n",
    "\n",
    "You're given two lists, the first of which contains the name of some people and the second contains their corresponding 'response'. These lists have been converted to a dataframe.\n",
    "Now, the values that the 'response' variable can take are ‘Yes’, ‘No’, and ‘Maybe’. Write a code to map these variables to the values ‘1.0’, ‘0.0’, and ‘0.5’.\n",
    "\n",
    "Note: It also might happen the the first letter of the three responses are not in uppercase, i.e. you might also have the values 'yes', 'no', and 'maybe' in the dataframe. So make sure you handle that in your code.\n",
    "\n",
    "Example:\n",
    "Input 1:\n",
    "['Reetesh', 'Shruti', 'Kaustubh', 'Vikas', 'Mahima', 'Akshay']\n",
    "['No', 'Maybe', 'yes', 'Yes', 'maybe', 'Yes']\n",
    "Output 1: "
   ]
  },
  {
   "cell_type": "code",
   "execution_count": 2,
   "id": "80eac821",
   "metadata": {},
   "outputs": [
    {
     "ename": "SyntaxError",
     "evalue": "unexpected EOF while parsing (<unknown>, line 0)",
     "output_type": "error",
     "traceback": [
      "Traceback \u001b[1;36m(most recent call last)\u001b[0m:\n",
      "  File \u001b[0;32m\"C:\\Users\\dell\\anaconda3\\lib\\site-packages\\IPython\\core\\interactiveshell.py\"\u001b[0m, line \u001b[0;32m3437\u001b[0m, in \u001b[0;35mrun_code\u001b[0m\n    exec(code_obj, self.user_global_ns, self.user_ns)\n",
      "  File \u001b[0;32m\"<ipython-input-2-9a9329b4da15>\"\u001b[0m, line \u001b[0;32m4\u001b[0m, in \u001b[0;35m<module>\u001b[0m\n    input_list = ast.literal_eval(input_str)\n",
      "  File \u001b[0;32m\"C:\\Users\\dell\\anaconda3\\lib\\ast.py\"\u001b[0m, line \u001b[0;32m59\u001b[0m, in \u001b[0;35mliteral_eval\u001b[0m\n    node_or_string = parse(node_or_string, mode='eval')\n",
      "\u001b[1;36m  File \u001b[1;32m\"C:\\Users\\dell\\anaconda3\\lib\\ast.py\"\u001b[1;36m, line \u001b[1;32m47\u001b[1;36m, in \u001b[1;35mparse\u001b[1;36m\u001b[0m\n\u001b[1;33m    return compile(source, filename, mode, flags,\u001b[0m\n",
      "\u001b[1;36m  File \u001b[1;32m\"<unknown>\"\u001b[1;36m, line \u001b[1;32munknown\u001b[0m\n\u001b[1;33m    \u001b[0m\n\u001b[1;37m    ^\u001b[0m\n\u001b[1;31mSyntaxError\u001b[0m\u001b[1;31m:\u001b[0m unexpected EOF while parsing\n"
     ]
    }
   ],
   "source": [
    "# Reading the input\n",
    "import ast,sys\n",
    "input_str = sys.stdin.read()\n",
    "input_list = ast.literal_eval(input_str)\n",
    "# Storing the names in a variable 'name'\n",
    "name = input_list[0]\n",
    "# Storing the responses in a variable 'repsonse'\n",
    "response = input_list[1]\n",
    "\n",
    "# Importing pandas and converting the read lists to a dataframe. You can print\n",
    "# the dataframe and run the code to see what it will look like\n",
    "import pandas as pd \n",
    "df = pd.DataFrame({'Name': name,'Response': response})\n",
    "\n",
    "def response_map(x):\n",
    "    return x.map({'Yes': 1, 'yes': 1, 'No': 0, 'no': 0, 'Maybe': 0.5, 'maybe': 0.5})\n",
    "df[['Response']] = df[['Response']].apply(response_map)\n",
    "\n",
    "# Print the final DataFrame\n",
    "print(df)\n"
   ]
  },
  {
   "cell_type": "code",
   "execution_count": null,
   "id": "afb0c301",
   "metadata": {},
   "outputs": [],
   "source": []
  }
 ],
 "metadata": {
  "kernelspec": {
   "display_name": "Python 3",
   "language": "python",
   "name": "python3"
  },
  "language_info": {
   "codemirror_mode": {
    "name": "ipython",
    "version": 3
   },
   "file_extension": ".py",
   "mimetype": "text/x-python",
   "name": "python",
   "nbconvert_exporter": "python",
   "pygments_lexer": "ipython3",
   "version": "3.8.8"
  }
 },
 "nbformat": 4,
 "nbformat_minor": 5
}
